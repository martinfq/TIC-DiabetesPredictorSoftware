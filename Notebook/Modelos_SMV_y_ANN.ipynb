{
  "cells": [
    {
      "cell_type": "markdown",
      "metadata": {},
      "source": [
        "# Diabetes Prediction "
      ]
    },
    {
      "cell_type": "code",
      "execution_count": null,
      "metadata": {
        "id": "LzMAL9Nrqywr"
      },
      "outputs": [],
      "source": [
        "#pip install pycaret\\\n",
        "# pip install mlxtend\n",
        "# pip install tensorflow"
      ]
    },
    {
      "cell_type": "markdown",
      "metadata": {},
      "source": [
        "# Librerias"
      ]
    },
    {
      "cell_type": "code",
      "execution_count": 3,
      "metadata": {
        "id": "vUBlxZNSX64r"
      },
      "outputs": [],
      "source": [
        "import pandas as pd\n",
        "from sklearn.model_selection import train_test_split\n",
        "#from sklearn.preprocessing import StandardScaler\n",
        "from sklearn.preprocessing import MinMaxScaler\n",
        "from sklearn.metrics import accuracy_score, mean_squared_error\n",
        "from sklearn.ensemble import RandomForestClassifier\n",
        "from sklearn.neighbors import KNeighborsClassifier\n",
        "from sklearn.metrics import classification_report\n",
        "from sklearn.svm import SVC\n",
        "from sklearn.metrics import confusion_matrix\n",
        "from sklearn.metrics import multilabel_confusion_matrix\n",
        "from mlxtend.evaluate import confusion_matrix as CM\n",
        "from tensorflow.keras.models import Sequential\n",
        "from tensorflow.keras.layers import Dense\n",
        "import seaborn as sns\n",
        "import matplotlib.pyplot as plt\n",
        "from sklearn.impute import KNNImputer\n",
        "import numpy as np"
      ]
    },
    {
      "cell_type": "code",
      "execution_count": 4,
      "metadata": {
        "id": "sAFcFAG9YPcl"
      },
      "outputs": [],
      "source": [
        "df = pd.read_csv(\"data.csv\")"
      ]
    },
    {
      "cell_type": "code",
      "execution_count": 5,
      "metadata": {
        "colab": {
          "base_uri": "https://localhost:8080/"
        },
        "id": "gjLCpBD5rd7o",
        "outputId": "067a1141-564a-4679-d55f-c2bc67a22cca"
      },
      "outputs": [
        {
          "name": "stdout",
          "output_type": "stream",
          "text": [
            "<class 'pandas.core.frame.DataFrame'>\n",
            "RangeIndex: 253680 entries, 0 to 253679\n",
            "Data columns (total 22 columns):\n",
            " #   Column                Non-Null Count   Dtype  \n",
            "---  ------                --------------   -----  \n",
            " 0   Diabetes_012          253680 non-null  float64\n",
            " 1   HighBP                253680 non-null  float64\n",
            " 2   HighChol              253680 non-null  float64\n",
            " 3   CholCheck             253680 non-null  float64\n",
            " 4   BMI                   253680 non-null  float64\n",
            " 5   Smoker                253680 non-null  float64\n",
            " 6   Stroke                253680 non-null  float64\n",
            " 7   HeartDiseaseorAttack  253680 non-null  float64\n",
            " 8   PhysActivity          253680 non-null  float64\n",
            " 9   Fruits                253680 non-null  float64\n",
            " 10  Veggies               253680 non-null  float64\n",
            " 11  HvyAlcoholConsump     253680 non-null  float64\n",
            " 12  AnyHealthcare         253680 non-null  float64\n",
            " 13  NoDocbcCost           253680 non-null  float64\n",
            " 14  GenHlth               253680 non-null  float64\n",
            " 15  MentHlth              253680 non-null  float64\n",
            " 16  PhysHlth              253680 non-null  float64\n",
            " 17  DiffWalk              253680 non-null  float64\n",
            " 18  Sex                   253680 non-null  float64\n",
            " 19  Age                   253680 non-null  float64\n",
            " 20  Education             253680 non-null  float64\n",
            " 21  Income                253680 non-null  float64\n",
            "dtypes: float64(22)\n",
            "memory usage: 42.6 MB\n"
          ]
        }
      ],
      "source": [
        "df.info()"
      ]
    },
    {
      "cell_type": "markdown",
      "metadata": {
        "id": "3JO-j12XHo_a"
      },
      "source": [
        "## PYCARET\n"
      ]
    },
    {
      "cell_type": "code",
      "execution_count": 6,
      "metadata": {
        "colab": {
          "base_uri": "https://localhost:8080/",
          "height": 645
        },
        "id": "tnB1uRyFra0N",
        "outputId": "f64a3da2-659b-4fa9-c1bc-88841398e72f"
      },
      "outputs": [
        {
          "ename": "ValueError",
          "evalue": "Invalid value for the target parameter. Column Diabetes_binary not found in the data.",
          "output_type": "error",
          "traceback": [
            "\u001b[1;31m---------------------------------------------------------------------------\u001b[0m",
            "\u001b[1;31mValueError\u001b[0m                                Traceback (most recent call last)",
            "Cell \u001b[1;32mIn[6], line 4\u001b[0m\n\u001b[0;32m      1\u001b[0m \u001b[38;5;28;01mfrom\u001b[39;00m \u001b[38;5;21;01mpycaret\u001b[39;00m\u001b[38;5;21;01m.\u001b[39;00m\u001b[38;5;21;01mclassification\u001b[39;00m \u001b[38;5;28;01mimport\u001b[39;00m setup\n\u001b[0;32m      3\u001b[0m \u001b[38;5;66;03m# Configura tu entorno de Pycaret\u001b[39;00m\n\u001b[1;32m----> 4\u001b[0m modelo \u001b[38;5;241m=\u001b[39m setup(data \u001b[38;5;241m=\u001b[39m df, target \u001b[38;5;241m=\u001b[39m \u001b[38;5;124m'\u001b[39m\u001b[38;5;124mDiabetes_binary\u001b[39m\u001b[38;5;124m'\u001b[39m)\n",
            "File \u001b[1;32m~\\AppData\\Roaming\\Python\\Python311\\site-packages\\pycaret\\classification\\functional.py:595\u001b[0m, in \u001b[0;36msetup\u001b[1;34m(data, data_func, target, index, train_size, test_data, ordinal_features, numeric_features, categorical_features, date_features, text_features, ignore_features, keep_features, preprocess, create_date_columns, imputation_type, numeric_imputation, categorical_imputation, iterative_imputation_iters, numeric_iterative_imputer, categorical_iterative_imputer, text_features_method, max_encoding_ohe, encoding_method, rare_to_value, rare_value, polynomial_features, polynomial_degree, low_variance_threshold, group_features, drop_groups, remove_multicollinearity, multicollinearity_threshold, bin_numeric_features, remove_outliers, outliers_method, outliers_threshold, fix_imbalance, fix_imbalance_method, transformation, transformation_method, normalize, normalize_method, pca, pca_method, pca_components, feature_selection, feature_selection_method, feature_selection_estimator, n_features_to_select, custom_pipeline, custom_pipeline_position, data_split_shuffle, data_split_stratify, fold_strategy, fold, fold_shuffle, fold_groups, n_jobs, use_gpu, html, session_id, system_log, log_experiment, experiment_name, experiment_custom_tags, log_plots, log_profile, log_data, verbose, memory, profile, profile_kwargs)\u001b[0m\n\u001b[0;32m    593\u001b[0m exp \u001b[38;5;241m=\u001b[39m _EXPERIMENT_CLASS()\n\u001b[0;32m    594\u001b[0m set_current_experiment(exp)\n\u001b[1;32m--> 595\u001b[0m \u001b[38;5;28;01mreturn\u001b[39;00m exp\u001b[38;5;241m.\u001b[39msetup(\n\u001b[0;32m    596\u001b[0m     data\u001b[38;5;241m=\u001b[39mdata,\n\u001b[0;32m    597\u001b[0m     data_func\u001b[38;5;241m=\u001b[39mdata_func,\n\u001b[0;32m    598\u001b[0m     target\u001b[38;5;241m=\u001b[39mtarget,\n\u001b[0;32m    599\u001b[0m     index\u001b[38;5;241m=\u001b[39mindex,\n\u001b[0;32m    600\u001b[0m     train_size\u001b[38;5;241m=\u001b[39mtrain_size,\n\u001b[0;32m    601\u001b[0m     test_data\u001b[38;5;241m=\u001b[39mtest_data,\n\u001b[0;32m    602\u001b[0m     ordinal_features\u001b[38;5;241m=\u001b[39mordinal_features,\n\u001b[0;32m    603\u001b[0m     numeric_features\u001b[38;5;241m=\u001b[39mnumeric_features,\n\u001b[0;32m    604\u001b[0m     categorical_features\u001b[38;5;241m=\u001b[39mcategorical_features,\n\u001b[0;32m    605\u001b[0m     date_features\u001b[38;5;241m=\u001b[39mdate_features,\n\u001b[0;32m    606\u001b[0m     text_features\u001b[38;5;241m=\u001b[39mtext_features,\n\u001b[0;32m    607\u001b[0m     ignore_features\u001b[38;5;241m=\u001b[39mignore_features,\n\u001b[0;32m    608\u001b[0m     keep_features\u001b[38;5;241m=\u001b[39mkeep_features,\n\u001b[0;32m    609\u001b[0m     preprocess\u001b[38;5;241m=\u001b[39mpreprocess,\n\u001b[0;32m    610\u001b[0m     create_date_columns\u001b[38;5;241m=\u001b[39mcreate_date_columns,\n\u001b[0;32m    611\u001b[0m     imputation_type\u001b[38;5;241m=\u001b[39mimputation_type,\n\u001b[0;32m    612\u001b[0m     numeric_imputation\u001b[38;5;241m=\u001b[39mnumeric_imputation,\n\u001b[0;32m    613\u001b[0m     categorical_imputation\u001b[38;5;241m=\u001b[39mcategorical_imputation,\n\u001b[0;32m    614\u001b[0m     iterative_imputation_iters\u001b[38;5;241m=\u001b[39miterative_imputation_iters,\n\u001b[0;32m    615\u001b[0m     numeric_iterative_imputer\u001b[38;5;241m=\u001b[39mnumeric_iterative_imputer,\n\u001b[0;32m    616\u001b[0m     categorical_iterative_imputer\u001b[38;5;241m=\u001b[39mcategorical_iterative_imputer,\n\u001b[0;32m    617\u001b[0m     text_features_method\u001b[38;5;241m=\u001b[39mtext_features_method,\n\u001b[0;32m    618\u001b[0m     max_encoding_ohe\u001b[38;5;241m=\u001b[39mmax_encoding_ohe,\n\u001b[0;32m    619\u001b[0m     encoding_method\u001b[38;5;241m=\u001b[39mencoding_method,\n\u001b[0;32m    620\u001b[0m     rare_to_value\u001b[38;5;241m=\u001b[39mrare_to_value,\n\u001b[0;32m    621\u001b[0m     rare_value\u001b[38;5;241m=\u001b[39mrare_value,\n\u001b[0;32m    622\u001b[0m     polynomial_features\u001b[38;5;241m=\u001b[39mpolynomial_features,\n\u001b[0;32m    623\u001b[0m     polynomial_degree\u001b[38;5;241m=\u001b[39mpolynomial_degree,\n\u001b[0;32m    624\u001b[0m     low_variance_threshold\u001b[38;5;241m=\u001b[39mlow_variance_threshold,\n\u001b[0;32m    625\u001b[0m     group_features\u001b[38;5;241m=\u001b[39mgroup_features,\n\u001b[0;32m    626\u001b[0m     drop_groups\u001b[38;5;241m=\u001b[39mdrop_groups,\n\u001b[0;32m    627\u001b[0m     remove_multicollinearity\u001b[38;5;241m=\u001b[39mremove_multicollinearity,\n\u001b[0;32m    628\u001b[0m     multicollinearity_threshold\u001b[38;5;241m=\u001b[39mmulticollinearity_threshold,\n\u001b[0;32m    629\u001b[0m     bin_numeric_features\u001b[38;5;241m=\u001b[39mbin_numeric_features,\n\u001b[0;32m    630\u001b[0m     remove_outliers\u001b[38;5;241m=\u001b[39mremove_outliers,\n\u001b[0;32m    631\u001b[0m     outliers_method\u001b[38;5;241m=\u001b[39moutliers_method,\n\u001b[0;32m    632\u001b[0m     outliers_threshold\u001b[38;5;241m=\u001b[39moutliers_threshold,\n\u001b[0;32m    633\u001b[0m     fix_imbalance\u001b[38;5;241m=\u001b[39mfix_imbalance,\n\u001b[0;32m    634\u001b[0m     fix_imbalance_method\u001b[38;5;241m=\u001b[39mfix_imbalance_method,\n\u001b[0;32m    635\u001b[0m     transformation\u001b[38;5;241m=\u001b[39mtransformation,\n\u001b[0;32m    636\u001b[0m     transformation_method\u001b[38;5;241m=\u001b[39mtransformation_method,\n\u001b[0;32m    637\u001b[0m     normalize\u001b[38;5;241m=\u001b[39mnormalize,\n\u001b[0;32m    638\u001b[0m     normalize_method\u001b[38;5;241m=\u001b[39mnormalize_method,\n\u001b[0;32m    639\u001b[0m     pca\u001b[38;5;241m=\u001b[39mpca,\n\u001b[0;32m    640\u001b[0m     pca_method\u001b[38;5;241m=\u001b[39mpca_method,\n\u001b[0;32m    641\u001b[0m     pca_components\u001b[38;5;241m=\u001b[39mpca_components,\n\u001b[0;32m    642\u001b[0m     feature_selection\u001b[38;5;241m=\u001b[39mfeature_selection,\n\u001b[0;32m    643\u001b[0m     feature_selection_method\u001b[38;5;241m=\u001b[39mfeature_selection_method,\n\u001b[0;32m    644\u001b[0m     feature_selection_estimator\u001b[38;5;241m=\u001b[39mfeature_selection_estimator,\n\u001b[0;32m    645\u001b[0m     n_features_to_select\u001b[38;5;241m=\u001b[39mn_features_to_select,\n\u001b[0;32m    646\u001b[0m     custom_pipeline\u001b[38;5;241m=\u001b[39mcustom_pipeline,\n\u001b[0;32m    647\u001b[0m     custom_pipeline_position\u001b[38;5;241m=\u001b[39mcustom_pipeline_position,\n\u001b[0;32m    648\u001b[0m     data_split_shuffle\u001b[38;5;241m=\u001b[39mdata_split_shuffle,\n\u001b[0;32m    649\u001b[0m     data_split_stratify\u001b[38;5;241m=\u001b[39mdata_split_stratify,\n\u001b[0;32m    650\u001b[0m     fold_strategy\u001b[38;5;241m=\u001b[39mfold_strategy,\n\u001b[0;32m    651\u001b[0m     fold\u001b[38;5;241m=\u001b[39mfold,\n\u001b[0;32m    652\u001b[0m     fold_shuffle\u001b[38;5;241m=\u001b[39mfold_shuffle,\n\u001b[0;32m    653\u001b[0m     fold_groups\u001b[38;5;241m=\u001b[39mfold_groups,\n\u001b[0;32m    654\u001b[0m     n_jobs\u001b[38;5;241m=\u001b[39mn_jobs,\n\u001b[0;32m    655\u001b[0m     use_gpu\u001b[38;5;241m=\u001b[39muse_gpu,\n\u001b[0;32m    656\u001b[0m     html\u001b[38;5;241m=\u001b[39mhtml,\n\u001b[0;32m    657\u001b[0m     session_id\u001b[38;5;241m=\u001b[39msession_id,\n\u001b[0;32m    658\u001b[0m     system_log\u001b[38;5;241m=\u001b[39msystem_log,\n\u001b[0;32m    659\u001b[0m     log_experiment\u001b[38;5;241m=\u001b[39mlog_experiment,\n\u001b[0;32m    660\u001b[0m     experiment_name\u001b[38;5;241m=\u001b[39mexperiment_name,\n\u001b[0;32m    661\u001b[0m     experiment_custom_tags\u001b[38;5;241m=\u001b[39mexperiment_custom_tags,\n\u001b[0;32m    662\u001b[0m     log_plots\u001b[38;5;241m=\u001b[39mlog_plots,\n\u001b[0;32m    663\u001b[0m     log_profile\u001b[38;5;241m=\u001b[39mlog_profile,\n\u001b[0;32m    664\u001b[0m     log_data\u001b[38;5;241m=\u001b[39mlog_data,\n\u001b[0;32m    665\u001b[0m     verbose\u001b[38;5;241m=\u001b[39mverbose,\n\u001b[0;32m    666\u001b[0m     memory\u001b[38;5;241m=\u001b[39mmemory,\n\u001b[0;32m    667\u001b[0m     profile\u001b[38;5;241m=\u001b[39mprofile,\n\u001b[0;32m    668\u001b[0m     profile_kwargs\u001b[38;5;241m=\u001b[39mprofile_kwargs,\n\u001b[0;32m    669\u001b[0m )\n",
            "File \u001b[1;32m~\\AppData\\Roaming\\Python\\Python311\\site-packages\\pycaret\\classification\\oop.py:744\u001b[0m, in \u001b[0;36mClassificationExperiment.setup\u001b[1;34m(self, data, data_func, target, index, train_size, test_data, ordinal_features, numeric_features, categorical_features, date_features, text_features, ignore_features, keep_features, preprocess, create_date_columns, imputation_type, numeric_imputation, categorical_imputation, iterative_imputation_iters, numeric_iterative_imputer, categorical_iterative_imputer, text_features_method, max_encoding_ohe, encoding_method, rare_to_value, rare_value, polynomial_features, polynomial_degree, low_variance_threshold, group_features, drop_groups, remove_multicollinearity, multicollinearity_threshold, bin_numeric_features, remove_outliers, outliers_method, outliers_threshold, fix_imbalance, fix_imbalance_method, transformation, transformation_method, normalize, normalize_method, pca, pca_method, pca_components, feature_selection, feature_selection_method, feature_selection_estimator, n_features_to_select, custom_pipeline, custom_pipeline_position, data_split_shuffle, data_split_stratify, fold_strategy, fold, fold_shuffle, fold_groups, n_jobs, use_gpu, html, session_id, system_log, log_experiment, experiment_name, experiment_custom_tags, log_plots, log_profile, log_data, engine, verbose, memory, profile, profile_kwargs)\u001b[0m\n\u001b[0;32m    741\u001b[0m \u001b[38;5;28;01mif\u001b[39;00m data_func \u001b[38;5;129;01mis\u001b[39;00m \u001b[38;5;129;01mnot\u001b[39;00m \u001b[38;5;28;01mNone\u001b[39;00m:\n\u001b[0;32m    742\u001b[0m     data \u001b[38;5;241m=\u001b[39m data_func()\n\u001b[1;32m--> 744\u001b[0m \u001b[38;5;28mself\u001b[39m\u001b[38;5;241m.\u001b[39mdata \u001b[38;5;241m=\u001b[39m \u001b[38;5;28mself\u001b[39m\u001b[38;5;241m.\u001b[39m_prepare_dataset(data, target)\n\u001b[0;32m    745\u001b[0m \u001b[38;5;28mself\u001b[39m\u001b[38;5;241m.\u001b[39mtarget_param \u001b[38;5;241m=\u001b[39m \u001b[38;5;28mself\u001b[39m\u001b[38;5;241m.\u001b[39mdata\u001b[38;5;241m.\u001b[39mcolumns[\u001b[38;5;241m-\u001b[39m\u001b[38;5;241m1\u001b[39m]\n\u001b[0;32m    746\u001b[0m \u001b[38;5;28mself\u001b[39m\u001b[38;5;241m.\u001b[39mindex \u001b[38;5;241m=\u001b[39m index\n",
            "File \u001b[1;32m~\\AppData\\Roaming\\Python\\Python311\\site-packages\\pycaret\\internal\\preprocess\\preprocessor.py:150\u001b[0m, in \u001b[0;36mPreprocessor._prepare_dataset\u001b[1;34m(self, X, y)\u001b[0m\n\u001b[0;32m    148\u001b[0m \u001b[38;5;28;01melif\u001b[39;00m \u001b[38;5;28misinstance\u001b[39m(y, \u001b[38;5;28mstr\u001b[39m):\n\u001b[0;32m    149\u001b[0m     \u001b[38;5;28;01mif\u001b[39;00m y \u001b[38;5;129;01mnot\u001b[39;00m \u001b[38;5;129;01min\u001b[39;00m X\u001b[38;5;241m.\u001b[39mcolumns:\n\u001b[1;32m--> 150\u001b[0m         \u001b[38;5;28;01mraise\u001b[39;00m \u001b[38;5;167;01mValueError\u001b[39;00m(\n\u001b[0;32m    151\u001b[0m             \u001b[38;5;124m\"\u001b[39m\u001b[38;5;124mInvalid value for the target parameter. \u001b[39m\u001b[38;5;124m\"\u001b[39m\n\u001b[0;32m    152\u001b[0m             \u001b[38;5;124mf\u001b[39m\u001b[38;5;124m\"\u001b[39m\u001b[38;5;124mColumn \u001b[39m\u001b[38;5;132;01m{\u001b[39;00my\u001b[38;5;132;01m}\u001b[39;00m\u001b[38;5;124m not found in the data.\u001b[39m\u001b[38;5;124m\"\u001b[39m\n\u001b[0;32m    153\u001b[0m         )\n\u001b[0;32m    155\u001b[0m     X, y \u001b[38;5;241m=\u001b[39m X\u001b[38;5;241m.\u001b[39mdrop(y, axis\u001b[38;5;241m=\u001b[39m\u001b[38;5;241m1\u001b[39m), X[y]\n\u001b[0;32m    157\u001b[0m \u001b[38;5;28;01melif\u001b[39;00m \u001b[38;5;28misinstance\u001b[39m(y, \u001b[38;5;28mint\u001b[39m):\n",
            "\u001b[1;31mValueError\u001b[0m: Invalid value for the target parameter. Column Diabetes_binary not found in the data."
          ]
        }
      ],
      "source": [
        "from pycaret.classification import setup\n",
        "\n",
        "# Configura tu entorno de Pycaret\n",
        "modelo = setup(data = df, target = 'Diabetes_binary')\n"
      ]
    },
    {
      "cell_type": "code",
      "execution_count": null,
      "metadata": {
        "colab": {
          "base_uri": "https://localhost:8080/",
          "height": 1000,
          "referenced_widgets": [
            "2c1ebb94d7da430082bbe00f7c529532",
            "07d394b2e68641cd995148926d423ade",
            "891e76702dfc4087825957893529fecf",
            "c1c0653b61d048e5be022aa2a4689599",
            "64737de117274f6a9af6c2c47acf2c27",
            "69f71caaecce427295ad8038ada30c22",
            "9f0f72c3d2784dfd894aa3e9ba5aee50",
            "4f15ce25b3e04f90b1444cefc3a90de4",
            "c02a51e1d9614107a4ee35f480863112",
            "95af1d182fcf4c93841781bbee20d3d2",
            "6b9fa7c6c51d4b06b5d696534e5f1ae8"
          ]
        },
        "id": "0XmmDP36r3fZ",
        "outputId": "a1e7144f-318c-469f-e2e4-ee3c45875547"
      },
      "outputs": [
        {
          "data": {
            "application/vnd.google.colaboratory.intrinsic+json": {
              "summary": "{\n  \"name\": \"mejor_modelo = compare_models()\",\n  \"rows\": 3,\n  \"fields\": [\n    {\n      \"column\": \" \",\n      \"properties\": {\n        \"dtype\": \"category\",\n        \"num_unique_values\": 1,\n        \"samples\": [\n          \". . . . . . . . . . . . . . . . . .\"\n        ],\n        \"semantic_type\": \"\",\n        \"description\": \"\"\n      }\n    },\n    {\n      \"column\": \"  \",\n      \"properties\": {\n        \"dtype\": \"string\",\n        \"num_unique_values\": 3,\n        \"samples\": [\n          \"02:29:27\"\n        ],\n        \"semantic_type\": \"\",\n        \"description\": \"\"\n      }\n    }\n  ]\n}",
              "type": "dataframe"
            },
            "text/html": [
              "\n",
              "  <div id=\"df-03a78039-0254-4b38-afa4-1b588185316f\" class=\"colab-df-container\">\n",
              "    <div>\n",
              "<style scoped>\n",
              "    .dataframe tbody tr th:only-of-type {\n",
              "        vertical-align: middle;\n",
              "    }\n",
              "\n",
              "    .dataframe tbody tr th {\n",
              "        vertical-align: top;\n",
              "    }\n",
              "\n",
              "    .dataframe thead th {\n",
              "        text-align: right;\n",
              "    }\n",
              "</style>\n",
              "<table border=\"1\" class=\"dataframe\">\n",
              "  <thead>\n",
              "    <tr style=\"text-align: right;\">\n",
              "      <th></th>\n",
              "      <th></th>\n",
              "      <th></th>\n",
              "    </tr>\n",
              "    <tr>\n",
              "      <th></th>\n",
              "      <th></th>\n",
              "      <th></th>\n",
              "    </tr>\n",
              "  </thead>\n",
              "  <tbody>\n",
              "    <tr>\n",
              "      <th>Initiated</th>\n",
              "      <td>. . . . . . . . . . . . . . . . . .</td>\n",
              "      <td>02:29:27</td>\n",
              "    </tr>\n",
              "    <tr>\n",
              "      <th>Status</th>\n",
              "      <td>. . . . . . . . . . . . . . . . . .</td>\n",
              "      <td>Fitting 10 Folds</td>\n",
              "    </tr>\n",
              "    <tr>\n",
              "      <th>Estimator</th>\n",
              "      <td>. . . . . . . . . . . . . . . . . .</td>\n",
              "      <td>Extra Trees Classifier</td>\n",
              "    </tr>\n",
              "  </tbody>\n",
              "</table>\n",
              "</div>\n",
              "    <div class=\"colab-df-buttons\">\n",
              "\n",
              "  <div class=\"colab-df-container\">\n",
              "    <button class=\"colab-df-convert\" onclick=\"convertToInteractive('df-03a78039-0254-4b38-afa4-1b588185316f')\"\n",
              "            title=\"Convert this dataframe to an interactive table.\"\n",
              "            style=\"display:none;\">\n",
              "\n",
              "  <svg xmlns=\"http://www.w3.org/2000/svg\" height=\"24px\" viewBox=\"0 -960 960 960\">\n",
              "    <path d=\"M120-120v-720h720v720H120Zm60-500h600v-160H180v160Zm220 220h160v-160H400v160Zm0 220h160v-160H400v160ZM180-400h160v-160H180v160Zm440 0h160v-160H620v160ZM180-180h160v-160H180v160Zm440 0h160v-160H620v160Z\"/>\n",
              "  </svg>\n",
              "    </button>\n",
              "\n",
              "  <style>\n",
              "    .colab-df-container {\n",
              "      display:flex;\n",
              "      gap: 12px;\n",
              "    }\n",
              "\n",
              "    .colab-df-convert {\n",
              "      background-color: #E8F0FE;\n",
              "      border: none;\n",
              "      border-radius: 50%;\n",
              "      cursor: pointer;\n",
              "      display: none;\n",
              "      fill: #1967D2;\n",
              "      height: 32px;\n",
              "      padding: 0 0 0 0;\n",
              "      width: 32px;\n",
              "    }\n",
              "\n",
              "    .colab-df-convert:hover {\n",
              "      background-color: #E2EBFA;\n",
              "      box-shadow: 0px 1px 2px rgba(60, 64, 67, 0.3), 0px 1px 3px 1px rgba(60, 64, 67, 0.15);\n",
              "      fill: #174EA6;\n",
              "    }\n",
              "\n",
              "    .colab-df-buttons div {\n",
              "      margin-bottom: 4px;\n",
              "    }\n",
              "\n",
              "    [theme=dark] .colab-df-convert {\n",
              "      background-color: #3B4455;\n",
              "      fill: #D2E3FC;\n",
              "    }\n",
              "\n",
              "    [theme=dark] .colab-df-convert:hover {\n",
              "      background-color: #434B5C;\n",
              "      box-shadow: 0px 1px 3px 1px rgba(0, 0, 0, 0.15);\n",
              "      filter: drop-shadow(0px 1px 2px rgba(0, 0, 0, 0.3));\n",
              "      fill: #FFFFFF;\n",
              "    }\n",
              "  </style>\n",
              "\n",
              "    <script>\n",
              "      const buttonEl =\n",
              "        document.querySelector('#df-03a78039-0254-4b38-afa4-1b588185316f button.colab-df-convert');\n",
              "      buttonEl.style.display =\n",
              "        google.colab.kernel.accessAllowed ? 'block' : 'none';\n",
              "\n",
              "      async function convertToInteractive(key) {\n",
              "        const element = document.querySelector('#df-03a78039-0254-4b38-afa4-1b588185316f');\n",
              "        const dataTable =\n",
              "          await google.colab.kernel.invokeFunction('convertToInteractive',\n",
              "                                                    [key], {});\n",
              "        if (!dataTable) return;\n",
              "\n",
              "        const docLinkHtml = 'Like what you see? Visit the ' +\n",
              "          '<a target=\"_blank\" href=https://colab.research.google.com/notebooks/data_table.ipynb>data table notebook</a>'\n",
              "          + ' to learn more about interactive tables.';\n",
              "        element.innerHTML = '';\n",
              "        dataTable['output_type'] = 'display_data';\n",
              "        await google.colab.output.renderOutput(dataTable, element);\n",
              "        const docLink = document.createElement('div');\n",
              "        docLink.innerHTML = docLinkHtml;\n",
              "        element.appendChild(docLink);\n",
              "      }\n",
              "    </script>\n",
              "  </div>\n",
              "\n",
              "\n",
              "<div id=\"df-538a5af1-5050-4c83-896c-6a1cb9ce1d51\">\n",
              "  <button class=\"colab-df-quickchart\" onclick=\"quickchart('df-538a5af1-5050-4c83-896c-6a1cb9ce1d51')\"\n",
              "            title=\"Suggest charts\"\n",
              "            style=\"display:none;\">\n",
              "\n",
              "<svg xmlns=\"http://www.w3.org/2000/svg\" height=\"24px\"viewBox=\"0 0 24 24\"\n",
              "     width=\"24px\">\n",
              "    <g>\n",
              "        <path d=\"M19 3H5c-1.1 0-2 .9-2 2v14c0 1.1.9 2 2 2h14c1.1 0 2-.9 2-2V5c0-1.1-.9-2-2-2zM9 17H7v-7h2v7zm4 0h-2V7h2v10zm4 0h-2v-4h2v4z\"/>\n",
              "    </g>\n",
              "</svg>\n",
              "  </button>\n",
              "\n",
              "<style>\n",
              "  .colab-df-quickchart {\n",
              "      --bg-color: #E8F0FE;\n",
              "      --fill-color: #1967D2;\n",
              "      --hover-bg-color: #E2EBFA;\n",
              "      --hover-fill-color: #174EA6;\n",
              "      --disabled-fill-color: #AAA;\n",
              "      --disabled-bg-color: #DDD;\n",
              "  }\n",
              "\n",
              "  [theme=dark] .colab-df-quickchart {\n",
              "      --bg-color: #3B4455;\n",
              "      --fill-color: #D2E3FC;\n",
              "      --hover-bg-color: #434B5C;\n",
              "      --hover-fill-color: #FFFFFF;\n",
              "      --disabled-bg-color: #3B4455;\n",
              "      --disabled-fill-color: #666;\n",
              "  }\n",
              "\n",
              "  .colab-df-quickchart {\n",
              "    background-color: var(--bg-color);\n",
              "    border: none;\n",
              "    border-radius: 50%;\n",
              "    cursor: pointer;\n",
              "    display: none;\n",
              "    fill: var(--fill-color);\n",
              "    height: 32px;\n",
              "    padding: 0;\n",
              "    width: 32px;\n",
              "  }\n",
              "\n",
              "  .colab-df-quickchart:hover {\n",
              "    background-color: var(--hover-bg-color);\n",
              "    box-shadow: 0 1px 2px rgba(60, 64, 67, 0.3), 0 1px 3px 1px rgba(60, 64, 67, 0.15);\n",
              "    fill: var(--button-hover-fill-color);\n",
              "  }\n",
              "\n",
              "  .colab-df-quickchart-complete:disabled,\n",
              "  .colab-df-quickchart-complete:disabled:hover {\n",
              "    background-color: var(--disabled-bg-color);\n",
              "    fill: var(--disabled-fill-color);\n",
              "    box-shadow: none;\n",
              "  }\n",
              "\n",
              "  .colab-df-spinner {\n",
              "    border: 2px solid var(--fill-color);\n",
              "    border-color: transparent;\n",
              "    border-bottom-color: var(--fill-color);\n",
              "    animation:\n",
              "      spin 1s steps(1) infinite;\n",
              "  }\n",
              "\n",
              "  @keyframes spin {\n",
              "    0% {\n",
              "      border-color: transparent;\n",
              "      border-bottom-color: var(--fill-color);\n",
              "      border-left-color: var(--fill-color);\n",
              "    }\n",
              "    20% {\n",
              "      border-color: transparent;\n",
              "      border-left-color: var(--fill-color);\n",
              "      border-top-color: var(--fill-color);\n",
              "    }\n",
              "    30% {\n",
              "      border-color: transparent;\n",
              "      border-left-color: var(--fill-color);\n",
              "      border-top-color: var(--fill-color);\n",
              "      border-right-color: var(--fill-color);\n",
              "    }\n",
              "    40% {\n",
              "      border-color: transparent;\n",
              "      border-right-color: var(--fill-color);\n",
              "      border-top-color: var(--fill-color);\n",
              "    }\n",
              "    60% {\n",
              "      border-color: transparent;\n",
              "      border-right-color: var(--fill-color);\n",
              "    }\n",
              "    80% {\n",
              "      border-color: transparent;\n",
              "      border-right-color: var(--fill-color);\n",
              "      border-bottom-color: var(--fill-color);\n",
              "    }\n",
              "    90% {\n",
              "      border-color: transparent;\n",
              "      border-bottom-color: var(--fill-color);\n",
              "    }\n",
              "  }\n",
              "</style>\n",
              "\n",
              "  <script>\n",
              "    async function quickchart(key) {\n",
              "      const quickchartButtonEl =\n",
              "        document.querySelector('#' + key + ' button');\n",
              "      quickchartButtonEl.disabled = true;  // To prevent multiple clicks.\n",
              "      quickchartButtonEl.classList.add('colab-df-spinner');\n",
              "      try {\n",
              "        const charts = await google.colab.kernel.invokeFunction(\n",
              "            'suggestCharts', [key], {});\n",
              "      } catch (error) {\n",
              "        console.error('Error during call to suggestCharts:', error);\n",
              "      }\n",
              "      quickchartButtonEl.classList.remove('colab-df-spinner');\n",
              "      quickchartButtonEl.classList.add('colab-df-quickchart-complete');\n",
              "    }\n",
              "    (() => {\n",
              "      let quickchartButtonEl =\n",
              "        document.querySelector('#df-538a5af1-5050-4c83-896c-6a1cb9ce1d51 button');\n",
              "      quickchartButtonEl.style.display =\n",
              "        google.colab.kernel.accessAllowed ? 'block' : 'none';\n",
              "    })();\n",
              "  </script>\n",
              "</div>\n",
              "\n",
              "    </div>\n",
              "  </div>\n"
            ],
            "text/plain": [
              "                                                                      \n",
              "                                                                      \n",
              "Initiated  . . . . . . . . . . . . . . . . . .                02:29:27\n",
              "Status     . . . . . . . . . . . . . . . . . .        Fitting 10 Folds\n",
              "Estimator  . . . . . . . . . . . . . . . . . .  Extra Trees Classifier"
            ]
          },
          "metadata": {},
          "output_type": "display_data"
        },
        {
          "data": {
            "text/html": [
              "<style type=\"text/css\">\n",
              "#T_fe5b1 th {\n",
              "  text-align: left;\n",
              "}\n",
              "#T_fe5b1_row0_col0, #T_fe5b1_row0_col1, #T_fe5b1_row0_col2, #T_fe5b1_row0_col3, #T_fe5b1_row0_col4, #T_fe5b1_row0_col5, #T_fe5b1_row0_col6, #T_fe5b1_row0_col7, #T_fe5b1_row0_col8, #T_fe5b1_row1_col0, #T_fe5b1_row1_col1, #T_fe5b1_row1_col2, #T_fe5b1_row1_col3, #T_fe5b1_row1_col4, #T_fe5b1_row1_col5, #T_fe5b1_row1_col6, #T_fe5b1_row1_col7, #T_fe5b1_row1_col8, #T_fe5b1_row2_col0, #T_fe5b1_row2_col1, #T_fe5b1_row2_col2, #T_fe5b1_row2_col3, #T_fe5b1_row2_col4, #T_fe5b1_row2_col5, #T_fe5b1_row2_col6, #T_fe5b1_row2_col7, #T_fe5b1_row2_col8, #T_fe5b1_row3_col0, #T_fe5b1_row3_col1, #T_fe5b1_row3_col2, #T_fe5b1_row3_col3, #T_fe5b1_row3_col4, #T_fe5b1_row3_col5, #T_fe5b1_row3_col6, #T_fe5b1_row3_col7, #T_fe5b1_row3_col8, #T_fe5b1_row4_col0, #T_fe5b1_row4_col1, #T_fe5b1_row4_col2, #T_fe5b1_row4_col3, #T_fe5b1_row4_col4, #T_fe5b1_row4_col5, #T_fe5b1_row4_col6, #T_fe5b1_row4_col7, #T_fe5b1_row4_col8, #T_fe5b1_row5_col0, #T_fe5b1_row5_col1, #T_fe5b1_row5_col2, #T_fe5b1_row5_col3, #T_fe5b1_row5_col4, #T_fe5b1_row5_col5, #T_fe5b1_row5_col6, #T_fe5b1_row5_col7, #T_fe5b1_row5_col8, #T_fe5b1_row6_col0, #T_fe5b1_row6_col1, #T_fe5b1_row6_col2, #T_fe5b1_row6_col3, #T_fe5b1_row6_col4, #T_fe5b1_row6_col5, #T_fe5b1_row6_col6, #T_fe5b1_row6_col7, #T_fe5b1_row6_col8, #T_fe5b1_row7_col0, #T_fe5b1_row7_col1, #T_fe5b1_row7_col2, #T_fe5b1_row7_col3, #T_fe5b1_row7_col4, #T_fe5b1_row7_col5, #T_fe5b1_row7_col6, #T_fe5b1_row7_col7, #T_fe5b1_row7_col8, #T_fe5b1_row8_col0, #T_fe5b1_row8_col1, #T_fe5b1_row8_col2, #T_fe5b1_row8_col3, #T_fe5b1_row8_col4, #T_fe5b1_row8_col5, #T_fe5b1_row8_col6, #T_fe5b1_row8_col7, #T_fe5b1_row8_col8, #T_fe5b1_row9_col0, #T_fe5b1_row9_col1, #T_fe5b1_row9_col2, #T_fe5b1_row9_col3, #T_fe5b1_row9_col4, #T_fe5b1_row9_col5, #T_fe5b1_row9_col6, #T_fe5b1_row9_col7, #T_fe5b1_row9_col8, #T_fe5b1_row10_col0, #T_fe5b1_row10_col1, #T_fe5b1_row10_col2, #T_fe5b1_row10_col3, #T_fe5b1_row10_col4, #T_fe5b1_row10_col5, #T_fe5b1_row10_col6, #T_fe5b1_row10_col7, #T_fe5b1_row10_col8 {\n",
              "  text-align: left;\n",
              "}\n",
              "</style>\n",
              "<table id=\"T_fe5b1\" class=\"dataframe\">\n",
              "  <thead>\n",
              "    <tr>\n",
              "      <th class=\"blank level0\" >&nbsp;</th>\n",
              "      <th id=\"T_fe5b1_level0_col0\" class=\"col_heading level0 col0\" >Model</th>\n",
              "      <th id=\"T_fe5b1_level0_col1\" class=\"col_heading level0 col1\" >Accuracy</th>\n",
              "      <th id=\"T_fe5b1_level0_col2\" class=\"col_heading level0 col2\" >AUC</th>\n",
              "      <th id=\"T_fe5b1_level0_col3\" class=\"col_heading level0 col3\" >Recall</th>\n",
              "      <th id=\"T_fe5b1_level0_col4\" class=\"col_heading level0 col4\" >Prec.</th>\n",
              "      <th id=\"T_fe5b1_level0_col5\" class=\"col_heading level0 col5\" >F1</th>\n",
              "      <th id=\"T_fe5b1_level0_col6\" class=\"col_heading level0 col6\" >Kappa</th>\n",
              "      <th id=\"T_fe5b1_level0_col7\" class=\"col_heading level0 col7\" >MCC</th>\n",
              "      <th id=\"T_fe5b1_level0_col8\" class=\"col_heading level0 col8\" >TT (Sec)</th>\n",
              "    </tr>\n",
              "  </thead>\n",
              "  <tbody>\n",
              "    <tr>\n",
              "      <th id=\"T_fe5b1_level0_row0\" class=\"row_heading level0 row0\" >gbc</th>\n",
              "      <td id=\"T_fe5b1_row0_col0\" class=\"data row0 col0\" >Gradient Boosting Classifier</td>\n",
              "      <td id=\"T_fe5b1_row0_col1\" class=\"data row0 col1\" >0.8666</td>\n",
              "      <td id=\"T_fe5b1_row0_col2\" class=\"data row0 col2\" >0.8301</td>\n",
              "      <td id=\"T_fe5b1_row0_col3\" class=\"data row0 col3\" >0.1684</td>\n",
              "      <td id=\"T_fe5b1_row0_col4\" class=\"data row0 col4\" >0.5730</td>\n",
              "      <td id=\"T_fe5b1_row0_col5\" class=\"data row0 col5\" >0.2602</td>\n",
              "      <td id=\"T_fe5b1_row0_col6\" class=\"data row0 col6\" >0.2103</td>\n",
              "      <td id=\"T_fe5b1_row0_col7\" class=\"data row0 col7\" >0.2587</td>\n",
              "      <td id=\"T_fe5b1_row0_col8\" class=\"data row0 col8\" >18.6960</td>\n",
              "    </tr>\n",
              "    <tr>\n",
              "      <th id=\"T_fe5b1_level0_row1\" class=\"row_heading level0 row1\" >ada</th>\n",
              "      <td id=\"T_fe5b1_row1_col0\" class=\"data row1 col0\" >Ada Boost Classifier</td>\n",
              "      <td id=\"T_fe5b1_row1_col1\" class=\"data row1 col1\" >0.8652</td>\n",
              "      <td id=\"T_fe5b1_row1_col2\" class=\"data row1 col2\" >0.8267</td>\n",
              "      <td id=\"T_fe5b1_row1_col3\" class=\"data row1 col3\" >0.1905</td>\n",
              "      <td id=\"T_fe5b1_row1_col4\" class=\"data row1 col4\" >0.5471</td>\n",
              "      <td id=\"T_fe5b1_row1_col5\" class=\"data row1 col5\" >0.2825</td>\n",
              "      <td id=\"T_fe5b1_row1_col6\" class=\"data row1 col6\" >0.2269</td>\n",
              "      <td id=\"T_fe5b1_row1_col7\" class=\"data row1 col7\" >0.2658</td>\n",
              "      <td id=\"T_fe5b1_row1_col8\" class=\"data row1 col8\" >4.5080</td>\n",
              "    </tr>\n",
              "    <tr>\n",
              "      <th id=\"T_fe5b1_level0_row2\" class=\"row_heading level0 row2\" >lr</th>\n",
              "      <td id=\"T_fe5b1_row2_col0\" class=\"data row2 col0\" >Logistic Regression</td>\n",
              "      <td id=\"T_fe5b1_row2_col1\" class=\"data row2 col1\" >0.8640</td>\n",
              "      <td id=\"T_fe5b1_row2_col2\" class=\"data row2 col2\" >0.8225</td>\n",
              "      <td id=\"T_fe5b1_row2_col3\" class=\"data row2 col3\" >0.1606</td>\n",
              "      <td id=\"T_fe5b1_row2_col4\" class=\"data row2 col4\" >0.5401</td>\n",
              "      <td id=\"T_fe5b1_row2_col5\" class=\"data row2 col5\" >0.2475</td>\n",
              "      <td id=\"T_fe5b1_row2_col6\" class=\"data row2 col6\" >0.1962</td>\n",
              "      <td id=\"T_fe5b1_row2_col7\" class=\"data row2 col7\" >0.2406</td>\n",
              "      <td id=\"T_fe5b1_row2_col8\" class=\"data row2 col8\" >6.7860</td>\n",
              "    </tr>\n",
              "    <tr>\n",
              "      <th id=\"T_fe5b1_level0_row3\" class=\"row_heading level0 row3\" >ridge</th>\n",
              "      <td id=\"T_fe5b1_row3_col0\" class=\"data row3 col0\" >Ridge Classifier</td>\n",
              "      <td id=\"T_fe5b1_row3_col1\" class=\"data row3 col1\" >0.8628</td>\n",
              "      <td id=\"T_fe5b1_row3_col2\" class=\"data row3 col2\" >0.8196</td>\n",
              "      <td id=\"T_fe5b1_row3_col3\" class=\"data row3 col3\" >0.0408</td>\n",
              "      <td id=\"T_fe5b1_row3_col4\" class=\"data row3 col4\" >0.6138</td>\n",
              "      <td id=\"T_fe5b1_row3_col5\" class=\"data row3 col5\" >0.0765</td>\n",
              "      <td id=\"T_fe5b1_row3_col6\" class=\"data row3 col6\" >0.0602</td>\n",
              "      <td id=\"T_fe5b1_row3_col7\" class=\"data row3 col7\" >0.1324</td>\n",
              "      <td id=\"T_fe5b1_row3_col8\" class=\"data row3 col8\" >0.4190</td>\n",
              "    </tr>\n",
              "    <tr>\n",
              "      <th id=\"T_fe5b1_level0_row4\" class=\"row_heading level0 row4\" >lda</th>\n",
              "      <td id=\"T_fe5b1_row4_col0\" class=\"data row4 col0\" >Linear Discriminant Analysis</td>\n",
              "      <td id=\"T_fe5b1_row4_col1\" class=\"data row4 col1\" >0.8619</td>\n",
              "      <td id=\"T_fe5b1_row4_col2\" class=\"data row4 col2\" >0.8196</td>\n",
              "      <td id=\"T_fe5b1_row4_col3\" class=\"data row4 col3\" >0.2094</td>\n",
              "      <td id=\"T_fe5b1_row4_col4\" class=\"data row4 col4\" >0.5108</td>\n",
              "      <td id=\"T_fe5b1_row4_col5\" class=\"data row4 col5\" >0.2970</td>\n",
              "      <td id=\"T_fe5b1_row4_col6\" class=\"data row4 col6\" >0.2350</td>\n",
              "      <td id=\"T_fe5b1_row4_col7\" class=\"data row4 col7\" >0.2640</td>\n",
              "      <td id=\"T_fe5b1_row4_col8\" class=\"data row4 col8\" >0.4180</td>\n",
              "    </tr>\n",
              "    <tr>\n",
              "      <th id=\"T_fe5b1_level0_row5\" class=\"row_heading level0 row5\" >svm</th>\n",
              "      <td id=\"T_fe5b1_row5_col0\" class=\"data row5 col0\" >SVM - Linear Kernel</td>\n",
              "      <td id=\"T_fe5b1_row5_col1\" class=\"data row5 col1\" >0.8602</td>\n",
              "      <td id=\"T_fe5b1_row5_col2\" class=\"data row5 col2\" >0.8020</td>\n",
              "      <td id=\"T_fe5b1_row5_col3\" class=\"data row5 col3\" >0.0786</td>\n",
              "      <td id=\"T_fe5b1_row5_col4\" class=\"data row5 col4\" >0.4679</td>\n",
              "      <td id=\"T_fe5b1_row5_col5\" class=\"data row5 col5\" >0.1191</td>\n",
              "      <td id=\"T_fe5b1_row5_col6\" class=\"data row5 col6\" >0.0913</td>\n",
              "      <td id=\"T_fe5b1_row5_col7\" class=\"data row5 col7\" >0.1241</td>\n",
              "      <td id=\"T_fe5b1_row5_col8\" class=\"data row5 col8\" >3.6020</td>\n",
              "    </tr>\n",
              "    <tr>\n",
              "      <th id=\"T_fe5b1_level0_row6\" class=\"row_heading level0 row6\" >rf</th>\n",
              "      <td id=\"T_fe5b1_row6_col0\" class=\"data row6 col0\" >Random Forest Classifier</td>\n",
              "      <td id=\"T_fe5b1_row6_col1\" class=\"data row6 col1\" >0.8599</td>\n",
              "      <td id=\"T_fe5b1_row6_col2\" class=\"data row6 col2\" >0.7994</td>\n",
              "      <td id=\"T_fe5b1_row6_col3\" class=\"data row6 col3\" >0.1714</td>\n",
              "      <td id=\"T_fe5b1_row6_col4\" class=\"data row6 col4\" >0.4923</td>\n",
              "      <td id=\"T_fe5b1_row6_col5\" class=\"data row6 col5\" >0.2542</td>\n",
              "      <td id=\"T_fe5b1_row6_col6\" class=\"data row6 col6\" >0.1964</td>\n",
              "      <td id=\"T_fe5b1_row6_col7\" class=\"data row6 col7\" >0.2301</td>\n",
              "      <td id=\"T_fe5b1_row6_col8\" class=\"data row6 col8\" >21.9160</td>\n",
              "    </tr>\n",
              "    <tr>\n",
              "      <th id=\"T_fe5b1_level0_row7\" class=\"row_heading level0 row7\" >knn</th>\n",
              "      <td id=\"T_fe5b1_row7_col0\" class=\"data row7 col0\" >K Neighbors Classifier</td>\n",
              "      <td id=\"T_fe5b1_row7_col1\" class=\"data row7 col1\" >0.8481</td>\n",
              "      <td id=\"T_fe5b1_row7_col2\" class=\"data row7 col2\" >0.7139</td>\n",
              "      <td id=\"T_fe5b1_row7_col3\" class=\"data row7 col3\" >0.1934</td>\n",
              "      <td id=\"T_fe5b1_row7_col4\" class=\"data row7 col4\" >0.4052</td>\n",
              "      <td id=\"T_fe5b1_row7_col5\" class=\"data row7 col5\" >0.2618</td>\n",
              "      <td id=\"T_fe5b1_row7_col6\" class=\"data row7 col6\" >0.1888</td>\n",
              "      <td id=\"T_fe5b1_row7_col7\" class=\"data row7 col7\" >0.2050</td>\n",
              "      <td id=\"T_fe5b1_row7_col8\" class=\"data row7 col8\" >28.6390</td>\n",
              "    </tr>\n",
              "    <tr>\n",
              "      <th id=\"T_fe5b1_level0_row8\" class=\"row_heading level0 row8\" >dt</th>\n",
              "      <td id=\"T_fe5b1_row8_col0\" class=\"data row8 col0\" >Decision Tree Classifier</td>\n",
              "      <td id=\"T_fe5b1_row8_col1\" class=\"data row8 col1\" >0.7970</td>\n",
              "      <td id=\"T_fe5b1_row8_col2\" class=\"data row8 col2\" >0.5986</td>\n",
              "      <td id=\"T_fe5b1_row8_col3\" class=\"data row8 col3\" >0.3248</td>\n",
              "      <td id=\"T_fe5b1_row8_col4\" class=\"data row8 col4\" >0.2936</td>\n",
              "      <td id=\"T_fe5b1_row8_col5\" class=\"data row8 col5\" >0.3084</td>\n",
              "      <td id=\"T_fe5b1_row8_col6\" class=\"data row8 col6\" >0.1898</td>\n",
              "      <td id=\"T_fe5b1_row8_col7\" class=\"data row8 col7\" >0.1902</td>\n",
              "      <td id=\"T_fe5b1_row8_col8\" class=\"data row8 col8\" >0.9610</td>\n",
              "    </tr>\n",
              "    <tr>\n",
              "      <th id=\"T_fe5b1_level0_row9\" class=\"row_heading level0 row9\" >nb</th>\n",
              "      <td id=\"T_fe5b1_row9_col0\" class=\"data row9 col0\" >Naive Bayes</td>\n",
              "      <td id=\"T_fe5b1_row9_col1\" class=\"data row9 col1\" >0.7742</td>\n",
              "      <td id=\"T_fe5b1_row9_col2\" class=\"data row9 col2\" >0.7842</td>\n",
              "      <td id=\"T_fe5b1_row9_col3\" class=\"data row9 col3\" >0.5720</td>\n",
              "      <td id=\"T_fe5b1_row9_col4\" class=\"data row9 col4\" >0.3242</td>\n",
              "      <td id=\"T_fe5b1_row9_col5\" class=\"data row9 col5\" >0.4138</td>\n",
              "      <td id=\"T_fe5b1_row9_col6\" class=\"data row9 col6\" >0.2870</td>\n",
              "      <td id=\"T_fe5b1_row9_col7\" class=\"data row9 col7\" >0.3048</td>\n",
              "      <td id=\"T_fe5b1_row9_col8\" class=\"data row9 col8\" >0.3390</td>\n",
              "    </tr>\n",
              "    <tr>\n",
              "      <th id=\"T_fe5b1_level0_row10\" class=\"row_heading level0 row10\" >qda</th>\n",
              "      <td id=\"T_fe5b1_row10_col0\" class=\"data row10 col0\" >Quadratic Discriminant Analysis</td>\n",
              "      <td id=\"T_fe5b1_row10_col1\" class=\"data row10 col1\" >0.7704</td>\n",
              "      <td id=\"T_fe5b1_row10_col2\" class=\"data row10 col2\" >0.7807</td>\n",
              "      <td id=\"T_fe5b1_row10_col3\" class=\"data row10 col3\" >0.5567</td>\n",
              "      <td id=\"T_fe5b1_row10_col4\" class=\"data row10 col4\" >0.3161</td>\n",
              "      <td id=\"T_fe5b1_row10_col5\" class=\"data row10 col5\" >0.4032</td>\n",
              "      <td id=\"T_fe5b1_row10_col6\" class=\"data row10 col6\" >0.2742</td>\n",
              "      <td id=\"T_fe5b1_row10_col7\" class=\"data row10 col7\" >0.2911</td>\n",
              "      <td id=\"T_fe5b1_row10_col8\" class=\"data row10 col8\" >0.5460</td>\n",
              "    </tr>\n",
              "  </tbody>\n",
              "</table>\n"
            ],
            "text/plain": [
              "<pandas.io.formats.style.Styler at 0x7d13f74071c0>"
            ]
          },
          "metadata": {},
          "output_type": "display_data"
        },
        {
          "data": {
            "application/vnd.jupyter.widget-view+json": {
              "model_id": "2c1ebb94d7da430082bbe00f7c529532",
              "version_major": 2,
              "version_minor": 0
            },
            "text/plain": [
              "Processing:   0%|          | 0/65 [00:00<?, ?it/s]"
            ]
          },
          "metadata": {
            "application/vnd.jupyter.widget-view+json": {
              "colab": {
                "custom_widget_manager": {
                  "url": "https://ssl.gstatic.com/colaboratory-static/widgets/colab-cdn-widget-manager/2b70e893a8ba7c0f/manager.min.js"
                }
              }
            }
          },
          "output_type": "display_data"
        },
        {
          "data": {
            "text/html": [
              "<style type=\"text/css\">\n",
              "#T_d66a9 th {\n",
              "  text-align: left;\n",
              "}\n",
              "#T_d66a9_row0_col0, #T_d66a9_row0_col3, #T_d66a9_row0_col4, #T_d66a9_row0_col5, #T_d66a9_row0_col6, #T_d66a9_row0_col7, #T_d66a9_row1_col0, #T_d66a9_row1_col1, #T_d66a9_row1_col2, #T_d66a9_row1_col3, #T_d66a9_row1_col4, #T_d66a9_row1_col5, #T_d66a9_row1_col6, #T_d66a9_row1_col7, #T_d66a9_row2_col0, #T_d66a9_row2_col1, #T_d66a9_row2_col2, #T_d66a9_row2_col3, #T_d66a9_row2_col4, #T_d66a9_row2_col5, #T_d66a9_row2_col6, #T_d66a9_row2_col7, #T_d66a9_row3_col0, #T_d66a9_row3_col1, #T_d66a9_row3_col2, #T_d66a9_row3_col3, #T_d66a9_row3_col4, #T_d66a9_row3_col5, #T_d66a9_row3_col6, #T_d66a9_row3_col7, #T_d66a9_row4_col0, #T_d66a9_row4_col1, #T_d66a9_row4_col2, #T_d66a9_row4_col3, #T_d66a9_row4_col4, #T_d66a9_row4_col5, #T_d66a9_row4_col6, #T_d66a9_row4_col7, #T_d66a9_row5_col0, #T_d66a9_row5_col1, #T_d66a9_row5_col2, #T_d66a9_row5_col3, #T_d66a9_row5_col5, #T_d66a9_row5_col6, #T_d66a9_row5_col7, #T_d66a9_row6_col0, #T_d66a9_row6_col1, #T_d66a9_row6_col2, #T_d66a9_row6_col3, #T_d66a9_row6_col4, #T_d66a9_row6_col5, #T_d66a9_row6_col6, #T_d66a9_row6_col7, #T_d66a9_row7_col0, #T_d66a9_row7_col1, #T_d66a9_row7_col2, #T_d66a9_row7_col3, #T_d66a9_row7_col4, #T_d66a9_row7_col5, #T_d66a9_row7_col6, #T_d66a9_row7_col7, #T_d66a9_row8_col0, #T_d66a9_row8_col1, #T_d66a9_row8_col2, #T_d66a9_row8_col3, #T_d66a9_row8_col4, #T_d66a9_row8_col5, #T_d66a9_row8_col6, #T_d66a9_row8_col7, #T_d66a9_row9_col0, #T_d66a9_row9_col1, #T_d66a9_row9_col2, #T_d66a9_row9_col3, #T_d66a9_row9_col4, #T_d66a9_row9_col5, #T_d66a9_row9_col6, #T_d66a9_row9_col7, #T_d66a9_row10_col0, #T_d66a9_row10_col1, #T_d66a9_row10_col2, #T_d66a9_row10_col3, #T_d66a9_row10_col4, #T_d66a9_row10_col5, #T_d66a9_row10_col6, #T_d66a9_row10_col7, #T_d66a9_row11_col0, #T_d66a9_row11_col1, #T_d66a9_row11_col2, #T_d66a9_row11_col3, #T_d66a9_row11_col4, #T_d66a9_row11_col5, #T_d66a9_row11_col6, #T_d66a9_row11_col7, #T_d66a9_row12_col0, #T_d66a9_row12_col1, #T_d66a9_row12_col2, #T_d66a9_row12_col3, #T_d66a9_row12_col4, #T_d66a9_row12_col5, #T_d66a9_row12_col6, #T_d66a9_row12_col7, #T_d66a9_row13_col0, #T_d66a9_row13_col1, #T_d66a9_row13_col2, #T_d66a9_row13_col4, #T_d66a9_row14_col0, #T_d66a9_row14_col1, #T_d66a9_row14_col2, #T_d66a9_row14_col3, #T_d66a9_row14_col4, #T_d66a9_row14_col5, #T_d66a9_row14_col6, #T_d66a9_row14_col7 {\n",
              "  text-align: left;\n",
              "}\n",
              "#T_d66a9_row0_col1, #T_d66a9_row0_col2, #T_d66a9_row5_col4, #T_d66a9_row13_col3, #T_d66a9_row13_col5, #T_d66a9_row13_col6, #T_d66a9_row13_col7 {\n",
              "  text-align: left;\n",
              "  background-color: yellow;\n",
              "}\n",
              "#T_d66a9_row0_col8, #T_d66a9_row1_col8, #T_d66a9_row2_col8, #T_d66a9_row3_col8, #T_d66a9_row4_col8, #T_d66a9_row5_col8, #T_d66a9_row6_col8, #T_d66a9_row8_col8, #T_d66a9_row9_col8, #T_d66a9_row10_col8, #T_d66a9_row11_col8, #T_d66a9_row12_col8, #T_d66a9_row13_col8, #T_d66a9_row14_col8 {\n",
              "  text-align: left;\n",
              "  background-color: lightgrey;\n",
              "}\n",
              "#T_d66a9_row7_col8 {\n",
              "  text-align: left;\n",
              "  background-color: yellow;\n",
              "  background-color: lightgrey;\n",
              "}\n",
              "</style>\n",
              "<table id=\"T_d66a9\" class=\"dataframe\">\n",
              "  <thead>\n",
              "    <tr>\n",
              "      <th class=\"blank level0\" >&nbsp;</th>\n",
              "      <th id=\"T_d66a9_level0_col0\" class=\"col_heading level0 col0\" >Model</th>\n",
              "      <th id=\"T_d66a9_level0_col1\" class=\"col_heading level0 col1\" >Accuracy</th>\n",
              "      <th id=\"T_d66a9_level0_col2\" class=\"col_heading level0 col2\" >AUC</th>\n",
              "      <th id=\"T_d66a9_level0_col3\" class=\"col_heading level0 col3\" >Recall</th>\n",
              "      <th id=\"T_d66a9_level0_col4\" class=\"col_heading level0 col4\" >Prec.</th>\n",
              "      <th id=\"T_d66a9_level0_col5\" class=\"col_heading level0 col5\" >F1</th>\n",
              "      <th id=\"T_d66a9_level0_col6\" class=\"col_heading level0 col6\" >Kappa</th>\n",
              "      <th id=\"T_d66a9_level0_col7\" class=\"col_heading level0 col7\" >MCC</th>\n",
              "      <th id=\"T_d66a9_level0_col8\" class=\"col_heading level0 col8\" >TT (Sec)</th>\n",
              "    </tr>\n",
              "  </thead>\n",
              "  <tbody>\n",
              "    <tr>\n",
              "      <th id=\"T_d66a9_level0_row0\" class=\"row_heading level0 row0\" >lightgbm</th>\n",
              "      <td id=\"T_d66a9_row0_col0\" class=\"data row0 col0\" >Light Gradient Boosting Machine</td>\n",
              "      <td id=\"T_d66a9_row0_col1\" class=\"data row0 col1\" >0.8668</td>\n",
              "      <td id=\"T_d66a9_row0_col2\" class=\"data row0 col2\" >0.8303</td>\n",
              "      <td id=\"T_d66a9_row0_col3\" class=\"data row0 col3\" >0.1624</td>\n",
              "      <td id=\"T_d66a9_row0_col4\" class=\"data row0 col4\" >0.5779</td>\n",
              "      <td id=\"T_d66a9_row0_col5\" class=\"data row0 col5\" >0.2535</td>\n",
              "      <td id=\"T_d66a9_row0_col6\" class=\"data row0 col6\" >0.2049</td>\n",
              "      <td id=\"T_d66a9_row0_col7\" class=\"data row0 col7\" >0.2556</td>\n",
              "      <td id=\"T_d66a9_row0_col8\" class=\"data row0 col8\" >11.0010</td>\n",
              "    </tr>\n",
              "    <tr>\n",
              "      <th id=\"T_d66a9_level0_row1\" class=\"row_heading level0 row1\" >gbc</th>\n",
              "      <td id=\"T_d66a9_row1_col0\" class=\"data row1 col0\" >Gradient Boosting Classifier</td>\n",
              "      <td id=\"T_d66a9_row1_col1\" class=\"data row1 col1\" >0.8666</td>\n",
              "      <td id=\"T_d66a9_row1_col2\" class=\"data row1 col2\" >0.8301</td>\n",
              "      <td id=\"T_d66a9_row1_col3\" class=\"data row1 col3\" >0.1684</td>\n",
              "      <td id=\"T_d66a9_row1_col4\" class=\"data row1 col4\" >0.5730</td>\n",
              "      <td id=\"T_d66a9_row1_col5\" class=\"data row1 col5\" >0.2602</td>\n",
              "      <td id=\"T_d66a9_row1_col6\" class=\"data row1 col6\" >0.2103</td>\n",
              "      <td id=\"T_d66a9_row1_col7\" class=\"data row1 col7\" >0.2587</td>\n",
              "      <td id=\"T_d66a9_row1_col8\" class=\"data row1 col8\" >18.6960</td>\n",
              "    </tr>\n",
              "    <tr>\n",
              "      <th id=\"T_d66a9_level0_row2\" class=\"row_heading level0 row2\" >xgboost</th>\n",
              "      <td id=\"T_d66a9_row2_col0\" class=\"data row2 col0\" >Extreme Gradient Boosting</td>\n",
              "      <td id=\"T_d66a9_row2_col1\" class=\"data row2 col1\" >0.8654</td>\n",
              "      <td id=\"T_d66a9_row2_col2\" class=\"data row2 col2\" >0.8257</td>\n",
              "      <td id=\"T_d66a9_row2_col3\" class=\"data row2 col3\" >0.1759</td>\n",
              "      <td id=\"T_d66a9_row2_col4\" class=\"data row2 col4\" >0.5535</td>\n",
              "      <td id=\"T_d66a9_row2_col5\" class=\"data row2 col5\" >0.2669</td>\n",
              "      <td id=\"T_d66a9_row2_col6\" class=\"data row2 col6\" >0.2141</td>\n",
              "      <td id=\"T_d66a9_row2_col7\" class=\"data row2 col7\" >0.2574</td>\n",
              "      <td id=\"T_d66a9_row2_col8\" class=\"data row2 col8\" >2.6670</td>\n",
              "    </tr>\n",
              "    <tr>\n",
              "      <th id=\"T_d66a9_level0_row3\" class=\"row_heading level0 row3\" >ada</th>\n",
              "      <td id=\"T_d66a9_row3_col0\" class=\"data row3 col0\" >Ada Boost Classifier</td>\n",
              "      <td id=\"T_d66a9_row3_col1\" class=\"data row3 col1\" >0.8652</td>\n",
              "      <td id=\"T_d66a9_row3_col2\" class=\"data row3 col2\" >0.8267</td>\n",
              "      <td id=\"T_d66a9_row3_col3\" class=\"data row3 col3\" >0.1905</td>\n",
              "      <td id=\"T_d66a9_row3_col4\" class=\"data row3 col4\" >0.5471</td>\n",
              "      <td id=\"T_d66a9_row3_col5\" class=\"data row3 col5\" >0.2825</td>\n",
              "      <td id=\"T_d66a9_row3_col6\" class=\"data row3 col6\" >0.2269</td>\n",
              "      <td id=\"T_d66a9_row3_col7\" class=\"data row3 col7\" >0.2658</td>\n",
              "      <td id=\"T_d66a9_row3_col8\" class=\"data row3 col8\" >4.5080</td>\n",
              "    </tr>\n",
              "    <tr>\n",
              "      <th id=\"T_d66a9_level0_row4\" class=\"row_heading level0 row4\" >lr</th>\n",
              "      <td id=\"T_d66a9_row4_col0\" class=\"data row4 col0\" >Logistic Regression</td>\n",
              "      <td id=\"T_d66a9_row4_col1\" class=\"data row4 col1\" >0.8640</td>\n",
              "      <td id=\"T_d66a9_row4_col2\" class=\"data row4 col2\" >0.8225</td>\n",
              "      <td id=\"T_d66a9_row4_col3\" class=\"data row4 col3\" >0.1606</td>\n",
              "      <td id=\"T_d66a9_row4_col4\" class=\"data row4 col4\" >0.5401</td>\n",
              "      <td id=\"T_d66a9_row4_col5\" class=\"data row4 col5\" >0.2475</td>\n",
              "      <td id=\"T_d66a9_row4_col6\" class=\"data row4 col6\" >0.1962</td>\n",
              "      <td id=\"T_d66a9_row4_col7\" class=\"data row4 col7\" >0.2406</td>\n",
              "      <td id=\"T_d66a9_row4_col8\" class=\"data row4 col8\" >6.7860</td>\n",
              "    </tr>\n",
              "    <tr>\n",
              "      <th id=\"T_d66a9_level0_row5\" class=\"row_heading level0 row5\" >ridge</th>\n",
              "      <td id=\"T_d66a9_row5_col0\" class=\"data row5 col0\" >Ridge Classifier</td>\n",
              "      <td id=\"T_d66a9_row5_col1\" class=\"data row5 col1\" >0.8628</td>\n",
              "      <td id=\"T_d66a9_row5_col2\" class=\"data row5 col2\" >0.8196</td>\n",
              "      <td id=\"T_d66a9_row5_col3\" class=\"data row5 col3\" >0.0408</td>\n",
              "      <td id=\"T_d66a9_row5_col4\" class=\"data row5 col4\" >0.6138</td>\n",
              "      <td id=\"T_d66a9_row5_col5\" class=\"data row5 col5\" >0.0765</td>\n",
              "      <td id=\"T_d66a9_row5_col6\" class=\"data row5 col6\" >0.0602</td>\n",
              "      <td id=\"T_d66a9_row5_col7\" class=\"data row5 col7\" >0.1324</td>\n",
              "      <td id=\"T_d66a9_row5_col8\" class=\"data row5 col8\" >0.4190</td>\n",
              "    </tr>\n",
              "    <tr>\n",
              "      <th id=\"T_d66a9_level0_row6\" class=\"row_heading level0 row6\" >lda</th>\n",
              "      <td id=\"T_d66a9_row6_col0\" class=\"data row6 col0\" >Linear Discriminant Analysis</td>\n",
              "      <td id=\"T_d66a9_row6_col1\" class=\"data row6 col1\" >0.8619</td>\n",
              "      <td id=\"T_d66a9_row6_col2\" class=\"data row6 col2\" >0.8196</td>\n",
              "      <td id=\"T_d66a9_row6_col3\" class=\"data row6 col3\" >0.2094</td>\n",
              "      <td id=\"T_d66a9_row6_col4\" class=\"data row6 col4\" >0.5108</td>\n",
              "      <td id=\"T_d66a9_row6_col5\" class=\"data row6 col5\" >0.2970</td>\n",
              "      <td id=\"T_d66a9_row6_col6\" class=\"data row6 col6\" >0.2350</td>\n",
              "      <td id=\"T_d66a9_row6_col7\" class=\"data row6 col7\" >0.2640</td>\n",
              "      <td id=\"T_d66a9_row6_col8\" class=\"data row6 col8\" >0.4180</td>\n",
              "    </tr>\n",
              "    <tr>\n",
              "      <th id=\"T_d66a9_level0_row7\" class=\"row_heading level0 row7\" >dummy</th>\n",
              "      <td id=\"T_d66a9_row7_col0\" class=\"data row7 col0\" >Dummy Classifier</td>\n",
              "      <td id=\"T_d66a9_row7_col1\" class=\"data row7 col1\" >0.8607</td>\n",
              "      <td id=\"T_d66a9_row7_col2\" class=\"data row7 col2\" >0.5000</td>\n",
              "      <td id=\"T_d66a9_row7_col3\" class=\"data row7 col3\" >0.0000</td>\n",
              "      <td id=\"T_d66a9_row7_col4\" class=\"data row7 col4\" >0.0000</td>\n",
              "      <td id=\"T_d66a9_row7_col5\" class=\"data row7 col5\" >0.0000</td>\n",
              "      <td id=\"T_d66a9_row7_col6\" class=\"data row7 col6\" >0.0000</td>\n",
              "      <td id=\"T_d66a9_row7_col7\" class=\"data row7 col7\" >0.0000</td>\n",
              "      <td id=\"T_d66a9_row7_col8\" class=\"data row7 col8\" >0.2370</td>\n",
              "    </tr>\n",
              "    <tr>\n",
              "      <th id=\"T_d66a9_level0_row8\" class=\"row_heading level0 row8\" >svm</th>\n",
              "      <td id=\"T_d66a9_row8_col0\" class=\"data row8 col0\" >SVM - Linear Kernel</td>\n",
              "      <td id=\"T_d66a9_row8_col1\" class=\"data row8 col1\" >0.8602</td>\n",
              "      <td id=\"T_d66a9_row8_col2\" class=\"data row8 col2\" >0.8020</td>\n",
              "      <td id=\"T_d66a9_row8_col3\" class=\"data row8 col3\" >0.0786</td>\n",
              "      <td id=\"T_d66a9_row8_col4\" class=\"data row8 col4\" >0.4679</td>\n",
              "      <td id=\"T_d66a9_row8_col5\" class=\"data row8 col5\" >0.1191</td>\n",
              "      <td id=\"T_d66a9_row8_col6\" class=\"data row8 col6\" >0.0913</td>\n",
              "      <td id=\"T_d66a9_row8_col7\" class=\"data row8 col7\" >0.1241</td>\n",
              "      <td id=\"T_d66a9_row8_col8\" class=\"data row8 col8\" >3.6020</td>\n",
              "    </tr>\n",
              "    <tr>\n",
              "      <th id=\"T_d66a9_level0_row9\" class=\"row_heading level0 row9\" >rf</th>\n",
              "      <td id=\"T_d66a9_row9_col0\" class=\"data row9 col0\" >Random Forest Classifier</td>\n",
              "      <td id=\"T_d66a9_row9_col1\" class=\"data row9 col1\" >0.8599</td>\n",
              "      <td id=\"T_d66a9_row9_col2\" class=\"data row9 col2\" >0.7994</td>\n",
              "      <td id=\"T_d66a9_row9_col3\" class=\"data row9 col3\" >0.1714</td>\n",
              "      <td id=\"T_d66a9_row9_col4\" class=\"data row9 col4\" >0.4923</td>\n",
              "      <td id=\"T_d66a9_row9_col5\" class=\"data row9 col5\" >0.2542</td>\n",
              "      <td id=\"T_d66a9_row9_col6\" class=\"data row9 col6\" >0.1964</td>\n",
              "      <td id=\"T_d66a9_row9_col7\" class=\"data row9 col7\" >0.2301</td>\n",
              "      <td id=\"T_d66a9_row9_col8\" class=\"data row9 col8\" >21.9160</td>\n",
              "    </tr>\n",
              "    <tr>\n",
              "      <th id=\"T_d66a9_level0_row10\" class=\"row_heading level0 row10\" >et</th>\n",
              "      <td id=\"T_d66a9_row10_col0\" class=\"data row10 col0\" >Extra Trees Classifier</td>\n",
              "      <td id=\"T_d66a9_row10_col1\" class=\"data row10 col1\" >0.8524</td>\n",
              "      <td id=\"T_d66a9_row10_col2\" class=\"data row10 col2\" >0.7780</td>\n",
              "      <td id=\"T_d66a9_row10_col3\" class=\"data row10 col3\" >0.1778</td>\n",
              "      <td id=\"T_d66a9_row10_col4\" class=\"data row10 col4\" >0.4287</td>\n",
              "      <td id=\"T_d66a9_row10_col5\" class=\"data row10 col5\" >0.2513</td>\n",
              "      <td id=\"T_d66a9_row10_col6\" class=\"data row10 col6\" >0.1847</td>\n",
              "      <td id=\"T_d66a9_row10_col7\" class=\"data row10 col7\" >0.2069</td>\n",
              "      <td id=\"T_d66a9_row10_col8\" class=\"data row10 col8\" >27.4080</td>\n",
              "    </tr>\n",
              "    <tr>\n",
              "      <th id=\"T_d66a9_level0_row11\" class=\"row_heading level0 row11\" >knn</th>\n",
              "      <td id=\"T_d66a9_row11_col0\" class=\"data row11 col0\" >K Neighbors Classifier</td>\n",
              "      <td id=\"T_d66a9_row11_col1\" class=\"data row11 col1\" >0.8481</td>\n",
              "      <td id=\"T_d66a9_row11_col2\" class=\"data row11 col2\" >0.7139</td>\n",
              "      <td id=\"T_d66a9_row11_col3\" class=\"data row11 col3\" >0.1934</td>\n",
              "      <td id=\"T_d66a9_row11_col4\" class=\"data row11 col4\" >0.4052</td>\n",
              "      <td id=\"T_d66a9_row11_col5\" class=\"data row11 col5\" >0.2618</td>\n",
              "      <td id=\"T_d66a9_row11_col6\" class=\"data row11 col6\" >0.1888</td>\n",
              "      <td id=\"T_d66a9_row11_col7\" class=\"data row11 col7\" >0.2050</td>\n",
              "      <td id=\"T_d66a9_row11_col8\" class=\"data row11 col8\" >28.6390</td>\n",
              "    </tr>\n",
              "    <tr>\n",
              "      <th id=\"T_d66a9_level0_row12\" class=\"row_heading level0 row12\" >dt</th>\n",
              "      <td id=\"T_d66a9_row12_col0\" class=\"data row12 col0\" >Decision Tree Classifier</td>\n",
              "      <td id=\"T_d66a9_row12_col1\" class=\"data row12 col1\" >0.7970</td>\n",
              "      <td id=\"T_d66a9_row12_col2\" class=\"data row12 col2\" >0.5986</td>\n",
              "      <td id=\"T_d66a9_row12_col3\" class=\"data row12 col3\" >0.3248</td>\n",
              "      <td id=\"T_d66a9_row12_col4\" class=\"data row12 col4\" >0.2936</td>\n",
              "      <td id=\"T_d66a9_row12_col5\" class=\"data row12 col5\" >0.3084</td>\n",
              "      <td id=\"T_d66a9_row12_col6\" class=\"data row12 col6\" >0.1898</td>\n",
              "      <td id=\"T_d66a9_row12_col7\" class=\"data row12 col7\" >0.1902</td>\n",
              "      <td id=\"T_d66a9_row12_col8\" class=\"data row12 col8\" >0.9610</td>\n",
              "    </tr>\n",
              "    <tr>\n",
              "      <th id=\"T_d66a9_level0_row13\" class=\"row_heading level0 row13\" >nb</th>\n",
              "      <td id=\"T_d66a9_row13_col0\" class=\"data row13 col0\" >Naive Bayes</td>\n",
              "      <td id=\"T_d66a9_row13_col1\" class=\"data row13 col1\" >0.7742</td>\n",
              "      <td id=\"T_d66a9_row13_col2\" class=\"data row13 col2\" >0.7842</td>\n",
              "      <td id=\"T_d66a9_row13_col3\" class=\"data row13 col3\" >0.5720</td>\n",
              "      <td id=\"T_d66a9_row13_col4\" class=\"data row13 col4\" >0.3242</td>\n",
              "      <td id=\"T_d66a9_row13_col5\" class=\"data row13 col5\" >0.4138</td>\n",
              "      <td id=\"T_d66a9_row13_col6\" class=\"data row13 col6\" >0.2870</td>\n",
              "      <td id=\"T_d66a9_row13_col7\" class=\"data row13 col7\" >0.3048</td>\n",
              "      <td id=\"T_d66a9_row13_col8\" class=\"data row13 col8\" >0.3390</td>\n",
              "    </tr>\n",
              "    <tr>\n",
              "      <th id=\"T_d66a9_level0_row14\" class=\"row_heading level0 row14\" >qda</th>\n",
              "      <td id=\"T_d66a9_row14_col0\" class=\"data row14 col0\" >Quadratic Discriminant Analysis</td>\n",
              "      <td id=\"T_d66a9_row14_col1\" class=\"data row14 col1\" >0.7704</td>\n",
              "      <td id=\"T_d66a9_row14_col2\" class=\"data row14 col2\" >0.7807</td>\n",
              "      <td id=\"T_d66a9_row14_col3\" class=\"data row14 col3\" >0.5567</td>\n",
              "      <td id=\"T_d66a9_row14_col4\" class=\"data row14 col4\" >0.3161</td>\n",
              "      <td id=\"T_d66a9_row14_col5\" class=\"data row14 col5\" >0.4032</td>\n",
              "      <td id=\"T_d66a9_row14_col6\" class=\"data row14 col6\" >0.2742</td>\n",
              "      <td id=\"T_d66a9_row14_col7\" class=\"data row14 col7\" >0.2911</td>\n",
              "      <td id=\"T_d66a9_row14_col8\" class=\"data row14 col8\" >0.5460</td>\n",
              "    </tr>\n",
              "  </tbody>\n",
              "</table>\n"
            ],
            "text/plain": [
              "<pandas.io.formats.style.Styler at 0x7d13588856f0>"
            ]
          },
          "metadata": {},
          "output_type": "display_data"
        },
        {
          "data": {
            "text/html": [],
            "text/plain": [
              "<IPython.core.display.HTML object>"
            ]
          },
          "metadata": {},
          "output_type": "display_data"
        },
        {
          "data": {
            "text/html": [],
            "text/plain": [
              "<IPython.core.display.HTML object>"
            ]
          },
          "metadata": {},
          "output_type": "display_data"
        }
      ],
      "source": [
        "from pycaret.classification import compare_models\n",
        "\n",
        "# Compara modelos\n",
        "mejor_modelo = compare_models()\n"
      ]
    },
    {
      "cell_type": "markdown",
      "metadata": {
        "id": "z53ANvDOHtIX"
      },
      "source": [
        "## Analysis"
      ]
    },
    {
      "cell_type": "code",
      "execution_count": 7,
      "metadata": {
        "colab": {
          "base_uri": "https://localhost:8080/"
        },
        "id": "Df1Qp7xQYP7U",
        "outputId": "906a3125-882b-4277-e4f6-94f06db1abe0"
      },
      "outputs": [
        {
          "data": {
            "text/plain": [
              "Diabetes_012\n",
              "0.0    190055\n",
              "2.0     35097\n",
              "1.0      4629\n",
              "Name: count, dtype: int64"
            ]
          },
          "execution_count": 7,
          "metadata": {},
          "output_type": "execute_result"
        }
      ],
      "source": [
        "df.drop_duplicates(inplace = True)\n",
        "df['Diabetes_012'].value_counts()"
      ]
    },
    {
      "cell_type": "code",
      "execution_count": 8,
      "metadata": {
        "id": "hCS9lWGDZd64"
      },
      "outputs": [],
      "source": [
        "df = df.drop(['CholCheck','AnyHealthcare','NoDocbcCost','Fruits', 'Veggies', 'Education', 'HvyAlcoholConsump', 'Sex', 'Income', 'DiffWalk'], axis=1)"
      ]
    },
    {
      "cell_type": "code",
      "execution_count": 9,
      "metadata": {
        "colab": {
          "base_uri": "https://localhost:8080/",
          "height": 423
        },
        "id": "dGaNBz33dBNu",
        "outputId": "6fc9b0fe-164f-404d-9226-fc77b2c2e8db"
      },
      "outputs": [
        {
          "data": {
            "text/html": [
              "<div>\n",
              "<style scoped>\n",
              "    .dataframe tbody tr th:only-of-type {\n",
              "        vertical-align: middle;\n",
              "    }\n",
              "\n",
              "    .dataframe tbody tr th {\n",
              "        vertical-align: top;\n",
              "    }\n",
              "\n",
              "    .dataframe thead th {\n",
              "        text-align: right;\n",
              "    }\n",
              "</style>\n",
              "<table border=\"1\" class=\"dataframe\">\n",
              "  <thead>\n",
              "    <tr style=\"text-align: right;\">\n",
              "      <th></th>\n",
              "      <th>Diabetes_012</th>\n",
              "      <th>HighBP</th>\n",
              "      <th>HighChol</th>\n",
              "      <th>BMI</th>\n",
              "      <th>Smoker</th>\n",
              "      <th>Stroke</th>\n",
              "      <th>HeartDiseaseorAttack</th>\n",
              "      <th>PhysActivity</th>\n",
              "      <th>GenHlth</th>\n",
              "      <th>MentHlth</th>\n",
              "      <th>PhysHlth</th>\n",
              "      <th>Age</th>\n",
              "    </tr>\n",
              "  </thead>\n",
              "  <tbody>\n",
              "    <tr>\n",
              "      <th>0</th>\n",
              "      <td>0.0</td>\n",
              "      <td>1.0</td>\n",
              "      <td>1.0</td>\n",
              "      <td>40.0</td>\n",
              "      <td>1.0</td>\n",
              "      <td>0.0</td>\n",
              "      <td>0.0</td>\n",
              "      <td>0.0</td>\n",
              "      <td>5.0</td>\n",
              "      <td>18.0</td>\n",
              "      <td>15.0</td>\n",
              "      <td>9.0</td>\n",
              "    </tr>\n",
              "    <tr>\n",
              "      <th>1</th>\n",
              "      <td>0.0</td>\n",
              "      <td>0.0</td>\n",
              "      <td>0.0</td>\n",
              "      <td>25.0</td>\n",
              "      <td>1.0</td>\n",
              "      <td>0.0</td>\n",
              "      <td>0.0</td>\n",
              "      <td>1.0</td>\n",
              "      <td>3.0</td>\n",
              "      <td>0.0</td>\n",
              "      <td>0.0</td>\n",
              "      <td>7.0</td>\n",
              "    </tr>\n",
              "    <tr>\n",
              "      <th>2</th>\n",
              "      <td>0.0</td>\n",
              "      <td>1.0</td>\n",
              "      <td>1.0</td>\n",
              "      <td>28.0</td>\n",
              "      <td>0.0</td>\n",
              "      <td>0.0</td>\n",
              "      <td>0.0</td>\n",
              "      <td>0.0</td>\n",
              "      <td>5.0</td>\n",
              "      <td>30.0</td>\n",
              "      <td>30.0</td>\n",
              "      <td>9.0</td>\n",
              "    </tr>\n",
              "    <tr>\n",
              "      <th>3</th>\n",
              "      <td>0.0</td>\n",
              "      <td>1.0</td>\n",
              "      <td>0.0</td>\n",
              "      <td>27.0</td>\n",
              "      <td>0.0</td>\n",
              "      <td>0.0</td>\n",
              "      <td>0.0</td>\n",
              "      <td>1.0</td>\n",
              "      <td>2.0</td>\n",
              "      <td>0.0</td>\n",
              "      <td>0.0</td>\n",
              "      <td>11.0</td>\n",
              "    </tr>\n",
              "    <tr>\n",
              "      <th>4</th>\n",
              "      <td>0.0</td>\n",
              "      <td>1.0</td>\n",
              "      <td>1.0</td>\n",
              "      <td>24.0</td>\n",
              "      <td>0.0</td>\n",
              "      <td>0.0</td>\n",
              "      <td>0.0</td>\n",
              "      <td>1.0</td>\n",
              "      <td>2.0</td>\n",
              "      <td>3.0</td>\n",
              "      <td>0.0</td>\n",
              "      <td>11.0</td>\n",
              "    </tr>\n",
              "    <tr>\n",
              "      <th>...</th>\n",
              "      <td>...</td>\n",
              "      <td>...</td>\n",
              "      <td>...</td>\n",
              "      <td>...</td>\n",
              "      <td>...</td>\n",
              "      <td>...</td>\n",
              "      <td>...</td>\n",
              "      <td>...</td>\n",
              "      <td>...</td>\n",
              "      <td>...</td>\n",
              "      <td>...</td>\n",
              "      <td>...</td>\n",
              "    </tr>\n",
              "    <tr>\n",
              "      <th>253675</th>\n",
              "      <td>0.0</td>\n",
              "      <td>1.0</td>\n",
              "      <td>1.0</td>\n",
              "      <td>45.0</td>\n",
              "      <td>0.0</td>\n",
              "      <td>0.0</td>\n",
              "      <td>0.0</td>\n",
              "      <td>0.0</td>\n",
              "      <td>3.0</td>\n",
              "      <td>0.0</td>\n",
              "      <td>5.0</td>\n",
              "      <td>5.0</td>\n",
              "    </tr>\n",
              "    <tr>\n",
              "      <th>253676</th>\n",
              "      <td>2.0</td>\n",
              "      <td>1.0</td>\n",
              "      <td>1.0</td>\n",
              "      <td>18.0</td>\n",
              "      <td>0.0</td>\n",
              "      <td>0.0</td>\n",
              "      <td>0.0</td>\n",
              "      <td>0.0</td>\n",
              "      <td>4.0</td>\n",
              "      <td>0.0</td>\n",
              "      <td>0.0</td>\n",
              "      <td>11.0</td>\n",
              "    </tr>\n",
              "    <tr>\n",
              "      <th>253677</th>\n",
              "      <td>0.0</td>\n",
              "      <td>0.0</td>\n",
              "      <td>0.0</td>\n",
              "      <td>28.0</td>\n",
              "      <td>0.0</td>\n",
              "      <td>0.0</td>\n",
              "      <td>0.0</td>\n",
              "      <td>1.0</td>\n",
              "      <td>1.0</td>\n",
              "      <td>0.0</td>\n",
              "      <td>0.0</td>\n",
              "      <td>2.0</td>\n",
              "    </tr>\n",
              "    <tr>\n",
              "      <th>253678</th>\n",
              "      <td>0.0</td>\n",
              "      <td>1.0</td>\n",
              "      <td>0.0</td>\n",
              "      <td>23.0</td>\n",
              "      <td>0.0</td>\n",
              "      <td>0.0</td>\n",
              "      <td>0.0</td>\n",
              "      <td>0.0</td>\n",
              "      <td>3.0</td>\n",
              "      <td>0.0</td>\n",
              "      <td>0.0</td>\n",
              "      <td>7.0</td>\n",
              "    </tr>\n",
              "    <tr>\n",
              "      <th>253679</th>\n",
              "      <td>2.0</td>\n",
              "      <td>1.0</td>\n",
              "      <td>1.0</td>\n",
              "      <td>25.0</td>\n",
              "      <td>0.0</td>\n",
              "      <td>0.0</td>\n",
              "      <td>1.0</td>\n",
              "      <td>1.0</td>\n",
              "      <td>2.0</td>\n",
              "      <td>0.0</td>\n",
              "      <td>0.0</td>\n",
              "      <td>9.0</td>\n",
              "    </tr>\n",
              "  </tbody>\n",
              "</table>\n",
              "<p>229781 rows × 12 columns</p>\n",
              "</div>"
            ],
            "text/plain": [
              "        Diabetes_012  HighBP  HighChol   BMI  Smoker  Stroke  \\\n",
              "0                0.0     1.0       1.0  40.0     1.0     0.0   \n",
              "1                0.0     0.0       0.0  25.0     1.0     0.0   \n",
              "2                0.0     1.0       1.0  28.0     0.0     0.0   \n",
              "3                0.0     1.0       0.0  27.0     0.0     0.0   \n",
              "4                0.0     1.0       1.0  24.0     0.0     0.0   \n",
              "...              ...     ...       ...   ...     ...     ...   \n",
              "253675           0.0     1.0       1.0  45.0     0.0     0.0   \n",
              "253676           2.0     1.0       1.0  18.0     0.0     0.0   \n",
              "253677           0.0     0.0       0.0  28.0     0.0     0.0   \n",
              "253678           0.0     1.0       0.0  23.0     0.0     0.0   \n",
              "253679           2.0     1.0       1.0  25.0     0.0     0.0   \n",
              "\n",
              "        HeartDiseaseorAttack  PhysActivity  GenHlth  MentHlth  PhysHlth   Age  \n",
              "0                        0.0           0.0      5.0      18.0      15.0   9.0  \n",
              "1                        0.0           1.0      3.0       0.0       0.0   7.0  \n",
              "2                        0.0           0.0      5.0      30.0      30.0   9.0  \n",
              "3                        0.0           1.0      2.0       0.0       0.0  11.0  \n",
              "4                        0.0           1.0      2.0       3.0       0.0  11.0  \n",
              "...                      ...           ...      ...       ...       ...   ...  \n",
              "253675                   0.0           0.0      3.0       0.0       5.0   5.0  \n",
              "253676                   0.0           0.0      4.0       0.0       0.0  11.0  \n",
              "253677                   0.0           1.0      1.0       0.0       0.0   2.0  \n",
              "253678                   0.0           0.0      3.0       0.0       0.0   7.0  \n",
              "253679                   1.0           1.0      2.0       0.0       0.0   9.0  \n",
              "\n",
              "[229781 rows x 12 columns]"
            ]
          },
          "execution_count": 9,
          "metadata": {},
          "output_type": "execute_result"
        }
      ],
      "source": [
        "df"
      ]
    },
    {
      "cell_type": "code",
      "execution_count": 10,
      "metadata": {
        "colab": {
          "base_uri": "https://localhost:8080/",
          "height": 1000
        },
        "id": "KvyW7wFgYP5N",
        "outputId": "f109d3bb-532f-41c3-ef2d-815045494dba"
      },
      "outputs": [
        {
          "data": {
            "text/plain": [
              "<Axes: title={'center': 'Pearson'}>"
            ]
          },
          "execution_count": 10,
          "metadata": {},
          "output_type": "execute_result"
        },
        {
          "data": {
            "image/png": "[encoded data removed]",
            "text/plain": [
              "<Figure size 2000x2000 with 2 Axes>"
            ]
          },
          "metadata": {},
          "output_type": "display_data"
        }
      ],
      "source": [
        "#CORRELACION PEARSON\n",
        "sns.set(style=\"whitegrid\",font_scale=1)\n",
        "plt.figure(figsize=(20,20))\n",
        "plt.title(\"Pearson\", fontsize=22)\n",
        "sns.heatmap(df.corr(),vmax=0.8,square=True,cmap=\"GnBu\",linecolor='r',annot=True,annot_kws={'size':7})"
      ]
    },
    {
      "cell_type": "code",
      "execution_count": 11,
      "metadata": {
        "colab": {
          "base_uri": "https://localhost:8080/"
        },
        "id": "-rB64b6vYQAN",
        "outputId": "aea1edf2-3cdd-47ce-ec2f-f8c2519967f4"
      },
      "outputs": [],
      "source": [
        "#Redistribucion de data entre clases\n",
        "df = df[df['Diabetes_012'] != 1.0]\n",
        "df.loc[df['Diabetes_012'] == 2.0, 'Diabetes_012'] = 1.0\n",
        "\n",
        "df_NO_Diabetes = df[df['Diabetes_012'] == 0.0]\n",
        "df_SI_Diabetes = df[df['Diabetes_012'] == 1.0]\n",
        "\n",
        "df_NO_Diabetes = df_NO_Diabetes.sample(frac=0.20, random_state=100)\n",
        "df = pd.concat([df_NO_Diabetes, df_SI_Diabetes])"
      ]
    },
    {
      "cell_type": "code",
      "execution_count": 12,
      "metadata": {
        "colab": {
          "base_uri": "https://localhost:8080/"
        },
        "id": "lNucRpnUYQCn",
        "outputId": "1b632884-2e06-48be-8d83-f36cc7e9dbdd"
      },
      "outputs": [
        {
          "data": {
            "text/plain": [
              "Diabetes_012\n",
              "0.0    38011\n",
              "1.0    35097\n",
              "Name: count, dtype: int64"
            ]
          },
          "execution_count": 12,
          "metadata": {},
          "output_type": "execute_result"
        }
      ],
      "source": [
        "df['Diabetes_012'].value_counts()"
      ]
    },
    {
      "cell_type": "code",
      "execution_count": 13,
      "metadata": {
        "colab": {
          "base_uri": "https://localhost:8080/",
          "height": 665
        },
        "id": "oqA3ndA3YP98",
        "outputId": "6c2a0b28-d111-46f4-eeca-2bb3f3bda249"
      },
      "outputs": [
        {
          "data": {
            "text/plain": [
              "array([[<Axes: title={'center': 'Diabetes_012'}>,\n",
              "        <Axes: title={'center': 'HighBP'}>,\n",
              "        <Axes: title={'center': 'HighChol'}>],\n",
              "       [<Axes: title={'center': 'BMI'}>,\n",
              "        <Axes: title={'center': 'Smoker'}>,\n",
              "        <Axes: title={'center': 'Stroke'}>],\n",
              "       [<Axes: title={'center': 'HeartDiseaseorAttack'}>,\n",
              "        <Axes: title={'center': 'PhysActivity'}>,\n",
              "        <Axes: title={'center': 'GenHlth'}>],\n",
              "       [<Axes: title={'center': 'MentHlth'}>,\n",
              "        <Axes: title={'center': 'PhysHlth'}>,\n",
              "        <Axes: title={'center': 'Age'}>]], dtype=object)"
            ]
          },
          "execution_count": 13,
          "metadata": {},
          "output_type": "execute_result"
        },
        {
          "data": {
            "image/png": "[encoded data removed]",
            "text/plain": [
              "<Figure size 800x550 with 12 Axes>"
            ]
          },
          "metadata": {},
          "output_type": "display_data"
        }
      ],
      "source": [
        "df.hist()"
      ]
    },
    {
      "cell_type": "code",
      "execution_count": 14,
      "metadata": {
        "colab": {
          "base_uri": "https://localhost:8080/"
        },
        "id": "n77DOt-ZIeG9",
        "outputId": "44bfa9b3-23f1-44a2-96b9-39e6942c10cb"
      },
      "outputs": [
        {
          "name": "stdout",
          "output_type": "stream",
          "text": [
            "<class 'pandas.core.frame.DataFrame'>\n",
            "Index: 73108 entries, 159046 to 253679\n",
            "Data columns (total 12 columns):\n",
            " #   Column                Non-Null Count  Dtype  \n",
            "---  ------                --------------  -----  \n",
            " 0   Diabetes_012          73108 non-null  float64\n",
            " 1   HighBP                73108 non-null  float64\n",
            " 2   HighChol              73108 non-null  float64\n",
            " 3   BMI                   73108 non-null  float64\n",
            " 4   Smoker                73108 non-null  float64\n",
            " 5   Stroke                73108 non-null  float64\n",
            " 6   HeartDiseaseorAttack  73108 non-null  float64\n",
            " 7   PhysActivity          73108 non-null  float64\n",
            " 8   GenHlth               73108 non-null  float64\n",
            " 9   MentHlth              73108 non-null  float64\n",
            " 10  PhysHlth              73108 non-null  float64\n",
            " 11  Age                   73108 non-null  float64\n",
            "dtypes: float64(12)\n",
            "memory usage: 7.3 MB\n"
          ]
        }
      ],
      "source": [
        "df.info()"
      ]
    },
    {
      "cell_type": "code",
      "execution_count": 15,
      "metadata": {
        "id": "dkh-0LUTYQE-"
      },
      "outputs": [],
      "source": [
        "#COPIAS DE DF\n",
        "df_SVM = df\n",
        "df_ANN = df"
      ]
    },
    {
      "cell_type": "code",
      "execution_count": null,
      "metadata": {},
      "outputs": [],
      "source": [
        "scaler = MinMaxScaler()"
      ]
    },
    {
      "cell_type": "markdown",
      "metadata": {
        "id": "RQnOjCcgY5JN"
      },
      "source": [
        "# **SVM:**"
      ]
    },
    {
      "cell_type": "code",
      "execution_count": 30,
      "metadata": {
        "id": "KOYfQpCGYQHM"
      },
      "outputs": [],
      "source": [
        "x_SVM = df_SVM.drop(df_SVM.columns[0], axis=1)"
      ]
    },
    {
      "cell_type": "code",
      "execution_count": null,
      "metadata": {},
      "outputs": [],
      "source": [
        "x_SVM = scaler.fit(x_SVM).transform(x_SVM)\n",
        "y_SVM = df_SVM[df.columns[0]]"
      ]
    },
    {
      "cell_type": "code",
      "execution_count": null,
      "metadata": {
        "id": "HIgEhbgFYQJt"
      },
      "outputs": [],
      "source": [
        "x_train_SVM, x_test_SVM, y_train_SVM, y_test_SVM = train_test_split(x_SVM, y_SVM, test_size=0.30, random_state=50)"
      ]
    },
    {
      "cell_type": "code",
      "execution_count": null,
      "metadata": {
        "colab": {
          "base_uri": "https://localhost:8080/",
          "height": 75
        },
        "id": "dX2wlk5aYQMF",
        "outputId": "0231735a-f6f0-4aa2-b73a-f76cd55e9ea7"
      },
      "outputs": [
        {
          "data": {
            "text/html": [
              "<style>#sk-container-id-1 {color: black;background-color: white;}#sk-container-id-1 pre{padding: 0;}#sk-container-id-1 div.sk-toggleable {background-color: white;}#sk-container-id-1 label.sk-toggleable__label {cursor: pointer;display: block;width: 100%;margin-bottom: 0;padding: 0.3em;box-sizing: border-box;text-align: center;}#sk-container-id-1 label.sk-toggleable__label-arrow:before {content: \"▸\";float: left;margin-right: 0.25em;color: #696969;}#sk-container-id-1 label.sk-toggleable__label-arrow:hover:before {color: black;}#sk-container-id-1 div.sk-estimator:hover label.sk-toggleable__label-arrow:before {color: black;}#sk-container-id-1 div.sk-toggleable__content {max-height: 0;max-width: 0;overflow: hidden;text-align: left;background-color: #f0f8ff;}#sk-container-id-1 div.sk-toggleable__content pre {margin: 0.2em;color: black;border-radius: 0.25em;background-color: #f0f8ff;}#sk-container-id-1 input.sk-toggleable__control:checked~div.sk-toggleable__content {max-height: 200px;max-width: 100%;overflow: auto;}#sk-container-id-1 input.sk-toggleable__control:checked~label.sk-toggleable__label-arrow:before {content: \"▾\";}#sk-container-id-1 div.sk-estimator input.sk-toggleable__control:checked~label.sk-toggleable__label {background-color: #d4ebff;}#sk-container-id-1 div.sk-label input.sk-toggleable__control:checked~label.sk-toggleable__label {background-color: #d4ebff;}#sk-container-id-1 input.sk-hidden--visually {border: 0;clip: rect(1px 1px 1px 1px);clip: rect(1px, 1px, 1px, 1px);height: 1px;margin: -1px;overflow: hidden;padding: 0;position: absolute;width: 1px;}#sk-container-id-1 div.sk-estimator {font-family: monospace;background-color: #f0f8ff;border: 1px dotted black;border-radius: 0.25em;box-sizing: border-box;margin-bottom: 0.5em;}#sk-container-id-1 div.sk-estimator:hover {background-color: #d4ebff;}#sk-container-id-1 div.sk-parallel-item::after {content: \"\";width: 100%;border-bottom: 1px solid gray;flex-grow: 1;}#sk-container-id-1 div.sk-label:hover label.sk-toggleable__label {background-color: #d4ebff;}#sk-container-id-1 div.sk-serial::before {content: \"\";position: absolute;border-left: 1px solid gray;box-sizing: border-box;top: 0;bottom: 0;left: 50%;z-index: 0;}#sk-container-id-1 div.sk-serial {display: flex;flex-direction: column;align-items: center;background-color: white;padding-right: 0.2em;padding-left: 0.2em;position: relative;}#sk-container-id-1 div.sk-item {position: relative;z-index: 1;}#sk-container-id-1 div.sk-parallel {display: flex;align-items: stretch;justify-content: center;background-color: white;position: relative;}#sk-container-id-1 div.sk-item::before, #sk-container-id-1 div.sk-parallel-item::before {content: \"\";position: absolute;border-left: 1px solid gray;box-sizing: border-box;top: 0;bottom: 0;left: 50%;z-index: -1;}#sk-container-id-1 div.sk-parallel-item {display: flex;flex-direction: column;z-index: 1;position: relative;background-color: white;}#sk-container-id-1 div.sk-parallel-item:first-child::after {align-self: flex-end;width: 50%;}#sk-container-id-1 div.sk-parallel-item:last-child::after {align-self: flex-start;width: 50%;}#sk-container-id-1 div.sk-parallel-item:only-child::after {width: 0;}#sk-container-id-1 div.sk-dashed-wrapped {border: 1px dashed gray;margin: 0 0.4em 0.5em 0.4em;box-sizing: border-box;padding-bottom: 0.4em;background-color: white;}#sk-container-id-1 div.sk-label label {font-family: monospace;font-weight: bold;display: inline-block;line-height: 1.2em;}#sk-container-id-1 div.sk-label-container {text-align: center;}#sk-container-id-1 div.sk-container {/* jupyter's `normalize.less` sets `[hidden] { display: none; }` but bootstrap.min.css set `[hidden] { display: none !important; }` so we also need the `!important` here to be able to override the default hidden behavior on the sphinx rendered scikit-learn.org. See: https://github.com/scikit-learn/scikit-learn/issues/21755 */display: inline-block !important;position: relative;}#sk-container-id-1 div.sk-text-repr-fallback {display: none;}</style><div id=\"sk-container-id-1\" class=\"sk-top-container\"><div class=\"sk-text-repr-fallback\"><pre>SVC(kernel=&#x27;linear&#x27;)</pre><b>In a Jupyter environment, please rerun this cell to show the HTML representation or trust the notebook. <br />On GitHub, the HTML representation is unable to render, please try loading this page with nbviewer.org.</b></div><div class=\"sk-container\" hidden><div class=\"sk-item\"><div class=\"sk-estimator sk-toggleable\"><input class=\"sk-toggleable__control sk-hidden--visually\" id=\"sk-estimator-id-1\" type=\"checkbox\" checked><label for=\"sk-estimator-id-1\" class=\"sk-toggleable__label sk-toggleable__label-arrow\">SVC</label><div class=\"sk-toggleable__content\"><pre>SVC(kernel=&#x27;linear&#x27;)</pre></div></div></div></div></div>"
            ],
            "text/plain": [
              "SVC(kernel='linear')"
            ]
          },
          "execution_count": 28,
          "metadata": {},
          "output_type": "execute_result"
        }
      ],
      "source": [
        "#ENTRENAMIENTO DEL MODELO\n",
        "#svm_model = SVC()\n",
        "svm_model = SVC(kernel='linear')\n",
        "svm_model.fit(x_train_SVM, y_train_SVM)"
      ]
    },
    {
      "cell_type": "code",
      "execution_count": null,
      "metadata": {
        "id": "oEJQ5CbYYQOg"
      },
      "outputs": [],
      "source": [
        "# Predicciones SVM\n",
        "y_pred_svm_train = svm_model.predict(x_train_SVM)\n",
        "y_pred_svm_test = svm_model.predict(x_test_SVM)"
      ]
    },
    {
      "cell_type": "code",
      "execution_count": null,
      "metadata": {
        "colab": {
          "base_uri": "https://localhost:8080/"
        },
        "id": "JMbDkcKTZLae",
        "outputId": "4d809777-7df4-4e78-c7ee-bb073b020334"
      },
      "outputs": [
        {
          "name": "stdout",
          "output_type": "stream",
          "text": [
            "Métricas para el modelo SVM:\n",
            "              precision    recall  f1-score   support\n",
            "\n",
            "         0.0       0.76      0.71      0.73     26526\n",
            "         1.0       0.71      0.76      0.73     24649\n",
            "\n",
            "    accuracy                           0.73     51175\n",
            "   macro avg       0.73      0.73      0.73     51175\n",
            "weighted avg       0.73      0.73      0.73     51175\n",
            "\n",
            "0.7321934538348803\n"
          ]
        }
      ],
      "source": [
        "# Evaluacion SVM TRAIN\n",
        "accuracy_svm = accuracy_score(y_train_SVM, y_pred_svm_train)\n",
        "print(\"Métricas para el modelo SVM:\")\n",
        "print(classification_report(y_train_SVM, y_pred_svm_train))\n",
        "print(accuracy_svm)"
      ]
    },
    {
      "cell_type": "code",
      "execution_count": null,
      "metadata": {
        "colab": {
          "base_uri": "https://localhost:8080/"
        },
        "id": "CnWMrherZLfF",
        "outputId": "12ce8b13-1192-4507-c85c-95fefb06f4a6"
      },
      "outputs": [
        {
          "name": "stdout",
          "output_type": "stream",
          "text": [
            "Métricas para el modelo SVM:\n",
            "              precision    recall  f1-score   support\n",
            "\n",
            "         0.0       0.76      0.69      0.73     11485\n",
            "         1.0       0.69      0.76      0.72     10448\n",
            "\n",
            "    accuracy                           0.72     21933\n",
            "   macro avg       0.73      0.73      0.72     21933\n",
            "weighted avg       0.73      0.72      0.72     21933\n",
            "\n",
            "0.7242055350385265\n"
          ]
        }
      ],
      "source": [
        "# Evaluacion SVM TEST\n",
        "accuracy_svm = accuracy_score(y_test_SVM, y_pred_svm_test)\n",
        "print(\"Métricas para el modelo SVM:\")\n",
        "print(classification_report(y_test_SVM, y_pred_svm_test))\n",
        "print(accuracy_svm)"
      ]
    },
    {
      "cell_type": "code",
      "execution_count": null,
      "metadata": {
        "colab": {
          "base_uri": "https://localhost:8080/"
        },
        "id": "XSooXqItZLhu",
        "outputId": "6eafc17d-becc-4a61-9304-49f8d7d0ed31"
      },
      "outputs": [
        {
          "data": {
            "text/plain": [
              "array([[7980, 3505],\n",
              "       [2544, 7904]])"
            ]
          },
          "execution_count": 32,
          "metadata": {},
          "output_type": "execute_result"
        }
      ],
      "source": [
        "confusion_matrix(y_test_SVM, y_pred_svm_test)"
      ]
    },
    {
      "cell_type": "code",
      "execution_count": null,
      "metadata": {
        "id": "X5ghlx9dJh31"
      },
      "outputs": [],
      "source": [
        "import pickle"
      ]
    },
    {
      "cell_type": "code",
      "execution_count": null,
      "metadata": {
        "id": "HxKxWtocJpb1"
      },
      "outputs": [],
      "source": [
        "with open('model.pkl', 'wb') as archivo:\n",
        "    pickle.dump(svm_model, archivo)"
      ]
    },
    {
      "cell_type": "code",
      "execution_count": null,
      "metadata": {
        "id": "TT0QbUIvJzRE"
      },
      "outputs": [],
      "source": [
        "with open('model.pkl', 'rb') as archivo:\n",
        "    modelo_cargado = pickle.load(archivo)"
      ]
    },
    {
      "cell_type": "code",
      "execution_count": 27,
      "metadata": {
        "colab": {
          "base_uri": "https://localhost:8080/",
          "height": 89
        },
        "id": "CsRhSIWSKGSD",
        "outputId": "e4e04694-0874-400d-de5e-e149ab76cd52"
      },
      "outputs": [
        {
          "data": {
            "text/html": [
              "<div>\n",
              "<style scoped>\n",
              "    .dataframe tbody tr th:only-of-type {\n",
              "        vertical-align: middle;\n",
              "    }\n",
              "\n",
              "    .dataframe tbody tr th {\n",
              "        vertical-align: top;\n",
              "    }\n",
              "\n",
              "    .dataframe thead th {\n",
              "        text-align: right;\n",
              "    }\n",
              "</style>\n",
              "<table border=\"1\" class=\"dataframe\">\n",
              "  <thead>\n",
              "    <tr style=\"text-align: right;\">\n",
              "      <th></th>\n",
              "      <th>Diabetes_012</th>\n",
              "      <th>HighBP</th>\n",
              "      <th>HighChol</th>\n",
              "      <th>BMI</th>\n",
              "      <th>Smoker</th>\n",
              "      <th>Stroke</th>\n",
              "      <th>HeartDiseaseorAttack</th>\n",
              "      <th>PhysActivity</th>\n",
              "      <th>GenHlth</th>\n",
              "      <th>MentHlth</th>\n",
              "      <th>PhysHlth</th>\n",
              "      <th>Age</th>\n",
              "    </tr>\n",
              "  </thead>\n",
              "  <tbody>\n",
              "    <tr>\n",
              "      <th>213242</th>\n",
              "      <td>1.0</td>\n",
              "      <td>1.0</td>\n",
              "      <td>1.0</td>\n",
              "      <td>42.0</td>\n",
              "      <td>1.0</td>\n",
              "      <td>0.0</td>\n",
              "      <td>1.0</td>\n",
              "      <td>0.0</td>\n",
              "      <td>5.0</td>\n",
              "      <td>1.0</td>\n",
              "      <td>20.0</td>\n",
              "      <td>10.0</td>\n",
              "    </tr>\n",
              "  </tbody>\n",
              "</table>\n",
              "</div>"
            ],
            "text/plain": [
              "        Diabetes_012  HighBP  HighChol   BMI  Smoker  Stroke  \\\n",
              "213242           1.0     1.0       1.0  42.0     1.0     0.0   \n",
              "\n",
              "        HeartDiseaseorAttack  PhysActivity  GenHlth  MentHlth  PhysHlth   Age  \n",
              "213242                   1.0           0.0      5.0       1.0      20.0  10.0  "
            ]
          },
          "execution_count": 27,
          "metadata": {},
          "output_type": "execute_result"
        }
      ],
      "source": [
        "fila_aleatoria = df.sample(n=1)\n",
        "fila_aleatoria"
      ]
    },
    {
      "cell_type": "code",
      "execution_count": 31,
      "metadata": {
        "colab": {
          "base_uri": "https://localhost:8080/"
        },
        "id": "klcjsWOjKgB8",
        "outputId": "85926fd6-7c5f-47ea-9f56-89711219f91d"
      },
      "outputs": [],
      "source": [
        "X_test = fila_aleatoria.drop('Diabetes_012', axis=1)  # Si 'target' es tu columna objetivo, elimínala de las características\n",
        "h1 = scaler.transform(X_test.values.reshape(-1, 11))"
      ]
    },
    {
      "cell_type": "code",
      "execution_count": null,
      "metadata": {
        "colab": {
          "base_uri": "https://localhost:8080/"
        },
        "id": "vvXPD9ShKh89",
        "outputId": "a4b87ef3-d89d-401d-c4ed-590a44e16da7"
      },
      "outputs": [
        {
          "data": {
            "text/plain": [
              "array([1.])"
            ]
          },
          "execution_count": 74,
          "metadata": {},
          "output_type": "execute_result"
        }
      ],
      "source": [
        "prediccion = svm_model.predict(h1)\n",
        "prediccion"
      ]
    },
    {
      "cell_type": "markdown",
      "metadata": {
        "id": "dx5ICAFdZQ0v"
      },
      "source": [
        "# **ANN:**"
      ]
    },
    {
      "cell_type": "code",
      "execution_count": 16,
      "metadata": {
        "id": "O9U-pI9hZLkO"
      },
      "outputs": [],
      "source": [
        "x_ANN = df_ANN.drop(df_ANN.columns[0], axis=1)\n",
        "x_ANN = MinMaxScaler().fit(x_ANN).transform(x_ANN)\n",
        "y_ANN = df_ANN[df.columns[0]]"
      ]
    },
    {
      "cell_type": "code",
      "execution_count": 17,
      "metadata": {
        "id": "5TeR_QHvZLnH"
      },
      "outputs": [],
      "source": [
        "x_train_ANN, x_test_ANN, y_train_ANN, y_test_ANN = train_test_split(x_ANN, y_ANN, test_size=0.30, random_state=50)"
      ]
    },
    {
      "cell_type": "code",
      "execution_count": 18,
      "metadata": {
        "id": "wxaeqku8ZLqH"
      },
      "outputs": [],
      "source": [
        "y_train_ANN = pd.get_dummies(y_train_ANN)\n",
        "y_test_ANN = pd.get_dummies(y_test_ANN)"
      ]
    },
    {
      "cell_type": "code",
      "execution_count": 19,
      "metadata": {
        "colab": {
          "base_uri": "https://localhost:8080/"
        },
        "id": "CeF1hmx5ZLsn",
        "outputId": "46612873-57c5-4d98-8fb4-0ccc16c5428d"
      },
      "outputs": [
        {
          "name": "stdout",
          "output_type": "stream",
          "text": [
            "Epoch 1/60\n",
            "\u001b[1m52/52\u001b[0m \u001b[32m━━━━━━━━━━━━━━━━━━━━\u001b[0m\u001b[37m\u001b[0m \u001b[1m1s\u001b[0m 3ms/step - accuracy: 0.5198 - loss: 0.7001 - val_accuracy: 0.6086 - val_loss: 0.6653\n",
            "Epoch 2/60\n",
            "\u001b[1m52/52\u001b[0m \u001b[32m━━━━━━━━━━━━━━━━━━━━\u001b[0m\u001b[37m\u001b[0m \u001b[1m0s\u001b[0m 1ms/step - accuracy: 0.6361 - loss: 0.6564 - val_accuracy: 0.6700 - val_loss: 0.6322\n",
            "Epoch 3/60\n",
            "\u001b[1m52/52\u001b[0m \u001b[32m━━━━━━━━━━━━━━━━━━━━\u001b[0m\u001b[37m\u001b[0m \u001b[1m0s\u001b[0m 962us/step - accuracy: 0.6887 - loss: 0.6185 - val_accuracy: 0.6811 - val_loss: 0.6019\n",
            "Epoch 4/60\n",
            "\u001b[1m52/52\u001b[0m \u001b[32m━━━━━━━━━━━━━━━━━━━━\u001b[0m\u001b[37m\u001b[0m \u001b[1m0s\u001b[0m 1ms/step - accuracy: 0.6977 - loss: 0.5889 - val_accuracy: 0.6886 - val_loss: 0.5868\n",
            "Epoch 5/60\n",
            "\u001b[1m52/52\u001b[0m \u001b[32m━━━━━━━━━━━━━━━━━━━━\u001b[0m\u001b[37m\u001b[0m \u001b[1m0s\u001b[0m 937us/step - accuracy: 0.7016 - loss: 0.5752 - val_accuracy: 0.6969 - val_loss: 0.5745\n",
            "Epoch 6/60\n",
            "\u001b[1m52/52\u001b[0m \u001b[32m━━━━━━━━━━━━━━━━━━━━\u001b[0m\u001b[37m\u001b[0m \u001b[1m0s\u001b[0m 926us/step - accuracy: 0.7096 - loss: 0.5631 - val_accuracy: 0.7080 - val_loss: 0.5630\n",
            "Epoch 7/60\n",
            "\u001b[1m52/52\u001b[0m \u001b[32m━━━━━━━━━━━━━━━━━━━━\u001b[0m\u001b[37m\u001b[0m \u001b[1m0s\u001b[0m 985us/step - accuracy: 0.7209 - loss: 0.5506 - val_accuracy: 0.7144 - val_loss: 0.5544\n",
            "Epoch 8/60\n",
            "\u001b[1m52/52\u001b[0m \u001b[32m━━━━━━━━━━━━━━━━━━━━\u001b[0m\u001b[37m\u001b[0m \u001b[1m0s\u001b[0m 964us/step - accuracy: 0.7243 - loss: 0.5443 - val_accuracy: 0.7189 - val_loss: 0.5485\n",
            "Epoch 9/60\n",
            "\u001b[1m52/52\u001b[0m \u001b[32m━━━━━━━━━━━━━━━━━━━━\u001b[0m\u001b[37m\u001b[0m \u001b[1m0s\u001b[0m 946us/step - accuracy: 0.7228 - loss: 0.5423 - val_accuracy: 0.7226 - val_loss: 0.5450\n",
            "Epoch 10/60\n",
            "\u001b[1m52/52\u001b[0m \u001b[32m━━━━━━━━━━━━━━━━━━━━\u001b[0m\u001b[37m\u001b[0m \u001b[1m0s\u001b[0m 939us/step - accuracy: 0.7260 - loss: 0.5355 - val_accuracy: 0.7218 - val_loss: 0.5429\n",
            "Epoch 11/60\n",
            "\u001b[1m52/52\u001b[0m \u001b[32m━━━━━━━━━━━━━━━━━━━━\u001b[0m\u001b[37m\u001b[0m \u001b[1m0s\u001b[0m 947us/step - accuracy: 0.7286 - loss: 0.5342 - val_accuracy: 0.7243 - val_loss: 0.5410\n",
            "Epoch 12/60\n",
            "\u001b[1m52/52\u001b[0m \u001b[32m━━━━━━━━━━━━━━━━━━━━\u001b[0m\u001b[37m\u001b[0m \u001b[1m0s\u001b[0m 953us/step - accuracy: 0.7294 - loss: 0.5334 - val_accuracy: 0.7238 - val_loss: 0.5406\n",
            "Epoch 13/60\n",
            "\u001b[1m52/52\u001b[0m \u001b[32m━━━━━━━━━━━━━━━━━━━━\u001b[0m\u001b[37m\u001b[0m \u001b[1m0s\u001b[0m 1ms/step - accuracy: 0.7315 - loss: 0.5295 - val_accuracy: 0.7248 - val_loss: 0.5398\n",
            "Epoch 14/60\n",
            "\u001b[1m52/52\u001b[0m \u001b[32m━━━━━━━━━━━━━━━━━━━━\u001b[0m\u001b[37m\u001b[0m \u001b[1m0s\u001b[0m 956us/step - accuracy: 0.7325 - loss: 0.5308 - val_accuracy: 0.7248 - val_loss: 0.5396\n",
            "Epoch 15/60\n",
            "\u001b[1m52/52\u001b[0m \u001b[32m━━━━━━━━━━━━━━━━━━━━\u001b[0m\u001b[37m\u001b[0m \u001b[1m0s\u001b[0m 948us/step - accuracy: 0.7368 - loss: 0.5263 - val_accuracy: 0.7250 - val_loss: 0.5384\n",
            "Epoch 16/60\n",
            "\u001b[1m52/52\u001b[0m \u001b[32m━━━━━━━━━━━━━━━━━━━━\u001b[0m\u001b[37m\u001b[0m \u001b[1m0s\u001b[0m 960us/step - accuracy: 0.7349 - loss: 0.5281 - val_accuracy: 0.7253 - val_loss: 0.5389\n",
            "Epoch 17/60\n",
            "\u001b[1m52/52\u001b[0m \u001b[32m━━━━━━━━━━━━━━━━━━━━\u001b[0m\u001b[37m\u001b[0m \u001b[1m0s\u001b[0m 930us/step - accuracy: 0.7359 - loss: 0.5264 - val_accuracy: 0.7242 - val_loss: 0.5379\n",
            "Epoch 18/60\n",
            "\u001b[1m52/52\u001b[0m \u001b[32m━━━━━━━━━━━━━━━━━━━━\u001b[0m\u001b[37m\u001b[0m \u001b[1m0s\u001b[0m 962us/step - accuracy: 0.7326 - loss: 0.5278 - val_accuracy: 0.7248 - val_loss: 0.5385\n",
            "Epoch 19/60\n",
            "\u001b[1m52/52\u001b[0m \u001b[32m━━━━━━━━━━━━━━━━━━━━\u001b[0m\u001b[37m\u001b[0m \u001b[1m0s\u001b[0m 993us/step - accuracy: 0.7345 - loss: 0.5293 - val_accuracy: 0.7237 - val_loss: 0.5374\n",
            "Epoch 20/60\n",
            "\u001b[1m52/52\u001b[0m \u001b[32m━━━━━━━━━━━━━━━━━━━━\u001b[0m\u001b[37m\u001b[0m \u001b[1m0s\u001b[0m 970us/step - accuracy: 0.7301 - loss: 0.5298 - val_accuracy: 0.7238 - val_loss: 0.5372\n",
            "Epoch 21/60\n",
            "\u001b[1m52/52\u001b[0m \u001b[32m━━━━━━━━━━━━━━━━━━━━\u001b[0m\u001b[37m\u001b[0m \u001b[1m0s\u001b[0m 960us/step - accuracy: 0.7376 - loss: 0.5252 - val_accuracy: 0.7243 - val_loss: 0.5368\n",
            "Epoch 22/60\n",
            "\u001b[1m52/52\u001b[0m \u001b[32m━━━━━━━━━━━━━━━━━━━━\u001b[0m\u001b[37m\u001b[0m \u001b[1m0s\u001b[0m 1ms/step - accuracy: 0.7355 - loss: 0.5275 - val_accuracy: 0.7257 - val_loss: 0.5369\n",
            "Epoch 23/60\n",
            "\u001b[1m52/52\u001b[0m \u001b[32m━━━━━━━━━━━━━━━━━━━━\u001b[0m\u001b[37m\u001b[0m \u001b[1m0s\u001b[0m 957us/step - accuracy: 0.7350 - loss: 0.5279 - val_accuracy: 0.7246 - val_loss: 0.5372\n",
            "Epoch 24/60\n",
            "\u001b[1m52/52\u001b[0m \u001b[32m━━━━━━━━━━━━━━━━━━━━\u001b[0m\u001b[37m\u001b[0m \u001b[1m0s\u001b[0m 958us/step - accuracy: 0.7320 - loss: 0.5276 - val_accuracy: 0.7248 - val_loss: 0.5369\n",
            "Epoch 25/60\n",
            "\u001b[1m52/52\u001b[0m \u001b[32m━━━━━━━━━━━━━━━━━━━━\u001b[0m\u001b[37m\u001b[0m \u001b[1m0s\u001b[0m 953us/step - accuracy: 0.7364 - loss: 0.5277 - val_accuracy: 0.7250 - val_loss: 0.5366\n",
            "Epoch 26/60\n",
            "\u001b[1m52/52\u001b[0m \u001b[32m━━━━━━━━━━━━━━━━━━━━\u001b[0m\u001b[37m\u001b[0m \u001b[1m0s\u001b[0m 922us/step - accuracy: 0.7345 - loss: 0.5297 - val_accuracy: 0.7250 - val_loss: 0.5362\n",
            "Epoch 27/60\n",
            "\u001b[1m52/52\u001b[0m \u001b[32m━━━━━━━━━━━━━━━━━━━━\u001b[0m\u001b[37m\u001b[0m \u001b[1m0s\u001b[0m 938us/step - accuracy: 0.7349 - loss: 0.5270 - val_accuracy: 0.7249 - val_loss: 0.5360\n",
            "Epoch 28/60\n",
            "\u001b[1m52/52\u001b[0m \u001b[32m━━━━━━━━━━━━━━━━━━━━\u001b[0m\u001b[37m\u001b[0m \u001b[1m0s\u001b[0m 934us/step - accuracy: 0.7357 - loss: 0.5261 - val_accuracy: 0.7258 - val_loss: 0.5361\n",
            "Epoch 29/60\n",
            "\u001b[1m52/52\u001b[0m \u001b[32m━━━━━━━━━━━━━━━━━━━━\u001b[0m\u001b[37m\u001b[0m \u001b[1m0s\u001b[0m 962us/step - accuracy: 0.7353 - loss: 0.5285 - val_accuracy: 0.7243 - val_loss: 0.5362\n",
            "Epoch 30/60\n",
            "\u001b[1m52/52\u001b[0m \u001b[32m━━━━━━━━━━━━━━━━━━━━\u001b[0m\u001b[37m\u001b[0m \u001b[1m0s\u001b[0m 942us/step - accuracy: 0.7354 - loss: 0.5246 - val_accuracy: 0.7253 - val_loss: 0.5360\n",
            "Epoch 31/60\n",
            "\u001b[1m52/52\u001b[0m \u001b[32m━━━━━━━━━━━━━━━━━━━━\u001b[0m\u001b[37m\u001b[0m \u001b[1m0s\u001b[0m 1ms/step - accuracy: 0.7334 - loss: 0.5270 - val_accuracy: 0.7250 - val_loss: 0.5361\n",
            "Epoch 32/60\n",
            "\u001b[1m52/52\u001b[0m \u001b[32m━━━━━━━━━━━━━━━━━━━━\u001b[0m\u001b[37m\u001b[0m \u001b[1m0s\u001b[0m 944us/step - accuracy: 0.7389 - loss: 0.5241 - val_accuracy: 0.7240 - val_loss: 0.5363\n",
            "Epoch 33/60\n",
            "\u001b[1m52/52\u001b[0m \u001b[32m━━━━━━━━━━━━━━━━━━━━\u001b[0m\u001b[37m\u001b[0m \u001b[1m0s\u001b[0m 950us/step - accuracy: 0.7375 - loss: 0.5252 - val_accuracy: 0.7256 - val_loss: 0.5357\n",
            "Epoch 34/60\n",
            "\u001b[1m52/52\u001b[0m \u001b[32m━━━━━━━━━━━━━━━━━━━━\u001b[0m\u001b[37m\u001b[0m \u001b[1m0s\u001b[0m 982us/step - accuracy: 0.7379 - loss: 0.5213 - val_accuracy: 0.7253 - val_loss: 0.5360\n",
            "Epoch 35/60\n",
            "\u001b[1m52/52\u001b[0m \u001b[32m━━━━━━━━━━━━━━━━━━━━\u001b[0m\u001b[37m\u001b[0m \u001b[1m0s\u001b[0m 955us/step - accuracy: 0.7326 - loss: 0.5280 - val_accuracy: 0.7241 - val_loss: 0.5359\n",
            "Epoch 36/60\n",
            "\u001b[1m52/52\u001b[0m \u001b[32m━━━━━━━━━━━━━━━━━━━━\u001b[0m\u001b[37m\u001b[0m \u001b[1m0s\u001b[0m 953us/step - accuracy: 0.7370 - loss: 0.5253 - val_accuracy: 0.7244 - val_loss: 0.5364\n",
            "Epoch 37/60\n",
            "\u001b[1m52/52\u001b[0m \u001b[32m━━━━━━━━━━━━━━━━━━━━\u001b[0m\u001b[37m\u001b[0m \u001b[1m0s\u001b[0m 932us/step - accuracy: 0.7394 - loss: 0.5217 - val_accuracy: 0.7259 - val_loss: 0.5354\n",
            "Epoch 38/60\n",
            "\u001b[1m52/52\u001b[0m \u001b[32m━━━━━━━━━━━━━━━━━━━━\u001b[0m\u001b[37m\u001b[0m \u001b[1m0s\u001b[0m 932us/step - accuracy: 0.7342 - loss: 0.5295 - val_accuracy: 0.7233 - val_loss: 0.5373\n",
            "Epoch 39/60\n",
            "\u001b[1m52/52\u001b[0m \u001b[32m━━━━━━━━━━━━━━━━━━━━\u001b[0m\u001b[37m\u001b[0m \u001b[1m0s\u001b[0m 971us/step - accuracy: 0.7351 - loss: 0.5253 - val_accuracy: 0.7253 - val_loss: 0.5353\n",
            "Epoch 40/60\n",
            "\u001b[1m52/52\u001b[0m \u001b[32m━━━━━━━━━━━━━━━━━━━━\u001b[0m\u001b[37m\u001b[0m \u001b[1m0s\u001b[0m 963us/step - accuracy: 0.7319 - loss: 0.5303 - val_accuracy: 0.7245 - val_loss: 0.5363\n",
            "Epoch 41/60\n",
            "\u001b[1m52/52\u001b[0m \u001b[32m━━━━━━━━━━━━━━━━━━━━\u001b[0m\u001b[37m\u001b[0m \u001b[1m0s\u001b[0m 973us/step - accuracy: 0.7337 - loss: 0.5297 - val_accuracy: 0.7248 - val_loss: 0.5358\n",
            "Epoch 42/60\n",
            "\u001b[1m52/52\u001b[0m \u001b[32m━━━━━━━━━━━━━━━━━━━━\u001b[0m\u001b[37m\u001b[0m \u001b[1m0s\u001b[0m 942us/step - accuracy: 0.7332 - loss: 0.5308 - val_accuracy: 0.7250 - val_loss: 0.5367\n",
            "Epoch 43/60\n",
            "\u001b[1m52/52\u001b[0m \u001b[32m━━━━━━━━━━━━━━━━━━━━\u001b[0m\u001b[37m\u001b[0m \u001b[1m0s\u001b[0m 950us/step - accuracy: 0.7360 - loss: 0.5273 - val_accuracy: 0.7253 - val_loss: 0.5354\n",
            "Epoch 44/60\n",
            "\u001b[1m52/52\u001b[0m \u001b[32m━━━━━━━━━━━━━━━━━━━━\u001b[0m\u001b[37m\u001b[0m \u001b[1m0s\u001b[0m 1ms/step - accuracy: 0.7341 - loss: 0.5273 - val_accuracy: 0.7254 - val_loss: 0.5353\n",
            "Epoch 45/60\n",
            "\u001b[1m52/52\u001b[0m \u001b[32m━━━━━━━━━━━━━━━━━━━━\u001b[0m\u001b[37m\u001b[0m \u001b[1m0s\u001b[0m 962us/step - accuracy: 0.7359 - loss: 0.5268 - val_accuracy: 0.7256 - val_loss: 0.5353\n",
            "Epoch 46/60\n",
            "\u001b[1m52/52\u001b[0m \u001b[32m━━━━━━━━━━━━━━━━━━━━\u001b[0m\u001b[37m\u001b[0m \u001b[1m0s\u001b[0m 952us/step - accuracy: 0.7355 - loss: 0.5264 - val_accuracy: 0.7251 - val_loss: 0.5352\n",
            "Epoch 47/60\n",
            "\u001b[1m52/52\u001b[0m \u001b[32m━━━━━━━━━━━━━━━━━━━━\u001b[0m\u001b[37m\u001b[0m \u001b[1m0s\u001b[0m 923us/step - accuracy: 0.7356 - loss: 0.5260 - val_accuracy: 0.7250 - val_loss: 0.5361\n",
            "Epoch 48/60\n",
            "\u001b[1m52/52\u001b[0m \u001b[32m━━━━━━━━━━━━━━━━━━━━\u001b[0m\u001b[37m\u001b[0m \u001b[1m0s\u001b[0m 929us/step - accuracy: 0.7383 - loss: 0.5250 - val_accuracy: 0.7238 - val_loss: 0.5366\n",
            "Epoch 49/60\n",
            "\u001b[1m52/52\u001b[0m \u001b[32m━━━━━━━━━━━━━━━━━━━━\u001b[0m\u001b[37m\u001b[0m \u001b[1m0s\u001b[0m 942us/step - accuracy: 0.7314 - loss: 0.5296 - val_accuracy: 0.7244 - val_loss: 0.5358\n",
            "Epoch 50/60\n",
            "\u001b[1m52/52\u001b[0m \u001b[32m━━━━━━━━━━━━━━━━━━━━\u001b[0m\u001b[37m\u001b[0m \u001b[1m0s\u001b[0m 942us/step - accuracy: 0.7328 - loss: 0.5282 - val_accuracy: 0.7260 - val_loss: 0.5356\n",
            "Epoch 51/60\n",
            "\u001b[1m52/52\u001b[0m \u001b[32m━━━━━━━━━━━━━━━━━━━━\u001b[0m\u001b[37m\u001b[0m \u001b[1m0s\u001b[0m 963us/step - accuracy: 0.7355 - loss: 0.5261 - val_accuracy: 0.7252 - val_loss: 0.5353\n",
            "Epoch 52/60\n",
            "\u001b[1m52/52\u001b[0m \u001b[32m━━━━━━━━━━━━━━━━━━━━\u001b[0m\u001b[37m\u001b[0m \u001b[1m0s\u001b[0m 987us/step - accuracy: 0.7349 - loss: 0.5290 - val_accuracy: 0.7254 - val_loss: 0.5354\n",
            "Epoch 53/60\n",
            "\u001b[1m52/52\u001b[0m \u001b[32m━━━━━━━━━━━━━━━━━━━━\u001b[0m\u001b[37m\u001b[0m \u001b[1m0s\u001b[0m 922us/step - accuracy: 0.7355 - loss: 0.5263 - val_accuracy: 0.7245 - val_loss: 0.5356\n",
            "Epoch 54/60\n",
            "\u001b[1m52/52\u001b[0m \u001b[32m━━━━━━━━━━━━━━━━━━━━\u001b[0m\u001b[37m\u001b[0m \u001b[1m0s\u001b[0m 968us/step - accuracy: 0.7357 - loss: 0.5256 - val_accuracy: 0.7252 - val_loss: 0.5350\n",
            "Epoch 55/60\n",
            "\u001b[1m52/52\u001b[0m \u001b[32m━━━━━━━━━━━━━━━━━━━━\u001b[0m\u001b[37m\u001b[0m \u001b[1m0s\u001b[0m 952us/step - accuracy: 0.7354 - loss: 0.5263 - val_accuracy: 0.7246 - val_loss: 0.5361\n",
            "Epoch 56/60\n",
            "\u001b[1m52/52\u001b[0m \u001b[32m━━━━━━━━━━━━━━━━━━━━\u001b[0m\u001b[37m\u001b[0m \u001b[1m0s\u001b[0m 956us/step - accuracy: 0.7310 - loss: 0.5285 - val_accuracy: 0.7246 - val_loss: 0.5353\n",
            "Epoch 57/60\n",
            "\u001b[1m52/52\u001b[0m \u001b[32m━━━━━━━━━━━━━━━━━━━━\u001b[0m\u001b[37m\u001b[0m \u001b[1m0s\u001b[0m 970us/step - accuracy: 0.7354 - loss: 0.5274 - val_accuracy: 0.7258 - val_loss: 0.5350\n",
            "Epoch 58/60\n",
            "\u001b[1m52/52\u001b[0m \u001b[32m━━━━━━━━━━━━━━━━━━━━\u001b[0m\u001b[37m\u001b[0m \u001b[1m0s\u001b[0m 949us/step - accuracy: 0.7366 - loss: 0.5252 - val_accuracy: 0.7260 - val_loss: 0.5351\n",
            "Epoch 59/60\n",
            "\u001b[1m52/52\u001b[0m \u001b[32m━━━━━━━━━━━━━━━━━━━━\u001b[0m\u001b[37m\u001b[0m \u001b[1m0s\u001b[0m 942us/step - accuracy: 0.7377 - loss: 0.5221 - val_accuracy: 0.7257 - val_loss: 0.5349\n",
            "Epoch 60/60\n",
            "\u001b[1m52/52\u001b[0m \u001b[32m━━━━━━━━━━━━━━━━━━━━\u001b[0m\u001b[37m\u001b[0m \u001b[1m0s\u001b[0m 952us/step - accuracy: 0.7365 - loss: 0.5250 - val_accuracy: 0.7258 - val_loss: 0.5350\n"
          ]
        },
        {
          "data": {
            "text/plain": [
              "<keras.src.callbacks.history.History at 0x1eb46ce9010>"
            ]
          },
          "execution_count": 19,
          "metadata": {},
          "output_type": "execute_result"
        }
      ],
      "source": [
        "#CONSTRUCCIÓN DE LA RED\n",
        "ann = Sequential()\n",
        "ann.add(Dense(11, activation='relu'))\n",
        "ann.add(Dense(6, activation='relu'))\n",
        "ann.add(Dense(4, activation='relu'))\n",
        "ann.add(Dense(2, activation='sigmoid'))\n",
        "ann.compile(optimizer='adam', loss='categorical_crossentropy',metrics=['accuracy'])\n",
        "ann.fit(x=x_train_ANN, y=y_train_ANN ,validation_data=(x_test_ANN,y_test_ANN), batch_size=1000, epochs=60,verbose=1)"
      ]
    },
    {
      "cell_type": "code",
      "execution_count": 20,
      "metadata": {
        "colab": {
          "base_uri": "https://localhost:8080/",
          "height": 1000
        },
        "id": "fbtODDPdecxR",
        "outputId": "6bdea35d-1079-41ca-9afb-dcee0acf3cc7"
      },
      "outputs": [
        {
          "data": {
            "image/png": "[encoded data removed]",
            "text/plain": [
              "<Figure size 1500x1500 with 1 Axes>"
            ]
          },
          "metadata": {},
          "output_type": "display_data"
        }
      ],
      "source": [
        "loss = pd.DataFrame(ann.history.history)\n",
        "plt.figure(figsize=(15,15))\n",
        "sns.lineplot(data=loss, lw=3)\n",
        "sns.despine()"
      ]
    },
    {
      "cell_type": "code",
      "execution_count": 21,
      "metadata": {
        "colab": {
          "base_uri": "https://localhost:8080/"
        },
        "id": "nJKYlArlec0B",
        "outputId": "41cd4422-b816-4821-efee-f9e9af7bcfeb"
      },
      "outputs": [
        {
          "name": "stdout",
          "output_type": "stream",
          "text": [
            "\u001b[1m1600/1600\u001b[0m \u001b[32m━━━━━━━━━━━━━━━━━━━━\u001b[0m\u001b[37m\u001b[0m \u001b[1m1s\u001b[0m 342us/step\n",
            "\u001b[1m686/686\u001b[0m \u001b[32m━━━━━━━━━━━━━━━━━━━━\u001b[0m\u001b[37m\u001b[0m \u001b[1m0s\u001b[0m 309us/step\n"
          ]
        }
      ],
      "source": [
        "y_pred_train_ANN = ann.predict(x_train_ANN)\n",
        "y_pred_test_ANN = ann.predict(x_test_ANN)"
      ]
    },
    {
      "cell_type": "code",
      "execution_count": 22,
      "metadata": {
        "id": "ziOMP4dsec24"
      },
      "outputs": [],
      "source": [
        "for i in range(len(y_pred_train_ANN)):\n",
        "  index = list(y_pred_train_ANN[i]).index(max(y_pred_train_ANN[i]))\n",
        "  for j in range(len(y_pred_train_ANN[i])):\n",
        "    y_pred_train_ANN[i][j] = 0\n",
        "  y_pred_train_ANN[i][index] = 1\n",
        "\n",
        "for i in range(len(y_pred_test_ANN)):\n",
        "  index = list(y_pred_test_ANN[i]).index(max(y_pred_test_ANN[i]))\n",
        "  for j in range(len(y_pred_test_ANN[i])):\n",
        "    y_pred_test_ANN[i][j] = 0\n",
        "  y_pred_test_ANN[i][index] = 1"
      ]
    },
    {
      "cell_type": "code",
      "execution_count": 23,
      "metadata": {
        "colab": {
          "base_uri": "https://localhost:8080/"
        },
        "id": "Sz2JJMSsec5Z",
        "outputId": "8e8a286d-fd9f-42ff-c6f1-9a1e55a8c868"
      },
      "outputs": [
        {
          "data": {
            "text/plain": [
              "array([[0., 1.],\n",
              "       [1., 0.],\n",
              "       [1., 0.],\n",
              "       ...,\n",
              "       [0., 1.],\n",
              "       [1., 0.],\n",
              "       [1., 0.]], dtype=float32)"
            ]
          },
          "execution_count": 23,
          "metadata": {},
          "output_type": "execute_result"
        }
      ],
      "source": [
        "y_pred_train_ANN"
      ]
    },
    {
      "cell_type": "code",
      "execution_count": 24,
      "metadata": {
        "colab": {
          "base_uri": "https://localhost:8080/"
        },
        "id": "IiDfjc8mel1B",
        "outputId": "7fcd5878-cfe9-46fb-8928-a81ef6e5748f"
      },
      "outputs": [
        {
          "name": "stdout",
          "output_type": "stream",
          "text": [
            "Métricas para el modelo SVM:\n",
            "              precision    recall  f1-score   support\n",
            "\n",
            "           0       0.76      0.71      0.74     26526\n",
            "           1       0.71      0.76      0.74     24649\n",
            "\n",
            "   micro avg       0.74      0.74      0.74     51175\n",
            "   macro avg       0.74      0.74      0.74     51175\n",
            "weighted avg       0.74      0.74      0.74     51175\n",
            " samples avg       0.74      0.74      0.74     51175\n",
            "\n",
            "0.736629213483146\n"
          ]
        }
      ],
      "source": [
        "# Evaluacion ANN TRAIN\n",
        "accuracy_ann = accuracy_score(y_train_ANN, y_pred_train_ANN)\n",
        "print(\"Métricas para el modelo SVM:\")\n",
        "print(classification_report(y_train_ANN, y_pred_train_ANN))\n",
        "print(accuracy_ann)"
      ]
    },
    {
      "cell_type": "code",
      "execution_count": 25,
      "metadata": {
        "colab": {
          "base_uri": "https://localhost:8080/"
        },
        "id": "kQPFvhH-el6x",
        "outputId": "dcf00b79-e768-404a-a75d-580c0c6c30d9"
      },
      "outputs": [
        {
          "name": "stdout",
          "output_type": "stream",
          "text": [
            "Métricas para el modelo SVM:\n",
            "              precision    recall  f1-score   support\n",
            "\n",
            "           0       0.76      0.70      0.73     11485\n",
            "           1       0.69      0.76      0.72     10448\n",
            "\n",
            "   micro avg       0.73      0.73      0.73     21933\n",
            "   macro avg       0.73      0.73      0.73     21933\n",
            "weighted avg       0.73      0.73      0.73     21933\n",
            " samples avg       0.73      0.73      0.73     21933\n",
            "\n",
            "0.7257557105731091\n"
          ]
        }
      ],
      "source": [
        "# Evaluacion ANN TEST\n",
        "accuracy_ann = accuracy_score(y_test_ANN, y_pred_test_ANN)\n",
        "print(\"Métricas para el modelo SVM:\")\n",
        "print(classification_report(y_test_ANN, y_pred_test_ANN))\n",
        "print(accuracy_ann)"
      ]
    },
    {
      "cell_type": "code",
      "execution_count": 32,
      "metadata": {
        "colab": {
          "base_uri": "https://localhost:8080/"
        },
        "id": "g-xc56nPMsoX",
        "outputId": "88b60485-5066-4c79-ae5c-0c555db1e7b1"
      },
      "outputs": [
        {
          "name": "stdout",
          "output_type": "stream",
          "text": [
            "\u001b[1m1/1\u001b[0m \u001b[32m━━━━━━━━━━━━━━━━━━━━\u001b[0m\u001b[37m\u001b[0m \u001b[1m0s\u001b[0m 12ms/step\n"
          ]
        },
        {
          "data": {
            "text/plain": [
              "array([[0.4919077, 0.9086842]], dtype=float32)"
            ]
          },
          "execution_count": 32,
          "metadata": {},
          "output_type": "execute_result"
        }
      ],
      "source": [
        "pred_ann = ann.predict(h1)\n",
        "pred_ann"
      ]
    },
    {
      "cell_type": "code",
      "execution_count": null,
      "metadata": {
        "id": "cTYfGUVoqF2P"
      },
      "outputs": [],
      "source": [
        "#confusion_matrix(y_test_ANN, y_pred_test_ANN)"
      ]
    },
    {
      "cell_type": "markdown",
      "metadata": {
        "id": "NSJu9iKhBk6N"
      },
      "source": [
        "La primera descarga da resultados sobre el 70, entre un rango de la clase 0 de 0.22 a 0.26. Con 22 da los mejores resultados. Incluso se ve que con 55 o 60 epocas podria ser suficiente."
      ]
    },
    {
      "cell_type": "markdown",
      "metadata": {
        "id": "U3xVeeB3J3kr"
      },
      "source": [
        "La segunda descarga tiene un buen resultado con 0.25."
      ]
    },
    {
      "cell_type": "markdown",
      "metadata": {
        "id": "hNZFfIjQlmAH"
      },
      "source": [
        "La tercera descarga tiene los mejores resultados con 0.20"
      ]
    }
  ],
  "metadata": {
    "colab": {
      "provenance": []
    },
    "kernelspec": {
      "display_name": "Python 3",
      "name": "python3"
    },
    "language_info": {
      "codemirror_mode": {
        "name": "ipython",
        "version": 3
      },
      "file_extension": ".py",
      "mimetype": "text/x-python",
      "name": "python",
      "nbconvert_exporter": "python",
      "pygments_lexer": "ipython3",
      "version": "3.11.7"
    },
    "widgets": {
      "application/vnd.jupyter.widget-state+json": {
        "07d394b2e68641cd995148926d423ade": {
          "model_module": "@jupyter-widgets/controls",
          "model_module_version": "1.5.0",
          "model_name": "HTMLModel",
          "state": {
            "_dom_classes": [],
            "_model_module": "@jupyter-widgets/controls",
            "_model_module_version": "1.5.0",
            "_model_name": "HTMLModel",
            "_view_count": null,
            "_view_module": "@jupyter-widgets/controls",
            "_view_module_version": "1.5.0",
            "_view_name": "HTMLView",
            "description": "",
            "description_tooltip": null,
            "layout": "IPY_MODEL_69f71caaecce427295ad8038ada30c22",
            "placeholder": "​",
            "style": "IPY_MODEL_9f0f72c3d2784dfd894aa3e9ba5aee50",
            "value": "Processing: 100%"
          }
        },
        "2c1ebb94d7da430082bbe00f7c529532": {
          "model_module": "@jupyter-widgets/controls",
          "model_module_version": "1.5.0",
          "model_name": "HBoxModel",
          "state": {
            "_dom_classes": [],
            "_model_module": "@jupyter-widgets/controls",
            "_model_module_version": "1.5.0",
            "_model_name": "HBoxModel",
            "_view_count": null,
            "_view_module": "@jupyter-widgets/controls",
            "_view_module_version": "1.5.0",
            "_view_name": "HBoxView",
            "box_style": "",
            "children": [
              "IPY_MODEL_07d394b2e68641cd995148926d423ade",
              "IPY_MODEL_891e76702dfc4087825957893529fecf",
              "IPY_MODEL_c1c0653b61d048e5be022aa2a4689599"
            ],
            "layout": "IPY_MODEL_64737de117274f6a9af6c2c47acf2c27"
          }
        },
        "4f15ce25b3e04f90b1444cefc3a90de4": {
          "model_module": "@jupyter-widgets/base",
          "model_module_version": "1.2.0",
          "model_name": "LayoutModel",
          "state": {
            "_model_module": "@jupyter-widgets/base",
            "_model_module_version": "1.2.0",
            "_model_name": "LayoutModel",
            "_view_count": null,
            "_view_module": "@jupyter-widgets/base",
            "_view_module_version": "1.2.0",
            "_view_name": "LayoutView",
            "align_content": null,
            "align_items": null,
            "align_self": null,
            "border": null,
            "bottom": null,
            "display": null,
            "flex": null,
            "flex_flow": null,
            "grid_area": null,
            "grid_auto_columns": null,
            "grid_auto_flow": null,
            "grid_auto_rows": null,
            "grid_column": null,
            "grid_gap": null,
            "grid_row": null,
            "grid_template_areas": null,
            "grid_template_columns": null,
            "grid_template_rows": null,
            "height": null,
            "justify_content": null,
            "justify_items": null,
            "left": null,
            "margin": null,
            "max_height": null,
            "max_width": null,
            "min_height": null,
            "min_width": null,
            "object_fit": null,
            "object_position": null,
            "order": null,
            "overflow": null,
            "overflow_x": null,
            "overflow_y": null,
            "padding": null,
            "right": null,
            "top": null,
            "visibility": null,
            "width": null
          }
        },
        "64737de117274f6a9af6c2c47acf2c27": {
          "model_module": "@jupyter-widgets/base",
          "model_module_version": "1.2.0",
          "model_name": "LayoutModel",
          "state": {
            "_model_module": "@jupyter-widgets/base",
            "_model_module_version": "1.2.0",
            "_model_name": "LayoutModel",
            "_view_count": null,
            "_view_module": "@jupyter-widgets/base",
            "_view_module_version": "1.2.0",
            "_view_name": "LayoutView",
            "align_content": null,
            "align_items": null,
            "align_self": null,
            "border": null,
            "bottom": null,
            "display": null,
            "flex": null,
            "flex_flow": null,
            "grid_area": null,
            "grid_auto_columns": null,
            "grid_auto_flow": null,
            "grid_auto_rows": null,
            "grid_column": null,
            "grid_gap": null,
            "grid_row": null,
            "grid_template_areas": null,
            "grid_template_columns": null,
            "grid_template_rows": null,
            "height": null,
            "justify_content": null,
            "justify_items": null,
            "left": null,
            "margin": null,
            "max_height": null,
            "max_width": null,
            "min_height": null,
            "min_width": null,
            "object_fit": null,
            "object_position": null,
            "order": null,
            "overflow": null,
            "overflow_x": null,
            "overflow_y": null,
            "padding": null,
            "right": null,
            "top": null,
            "visibility": "hidden",
            "width": null
          }
        },
        "69f71caaecce427295ad8038ada30c22": {
          "model_module": "@jupyter-widgets/base",
          "model_module_version": "1.2.0",
          "model_name": "LayoutModel",
          "state": {
            "_model_module": "@jupyter-widgets/base",
            "_model_module_version": "1.2.0",
            "_model_name": "LayoutModel",
            "_view_count": null,
            "_view_module": "@jupyter-widgets/base",
            "_view_module_version": "1.2.0",
            "_view_name": "LayoutView",
            "align_content": null,
            "align_items": null,
            "align_self": null,
            "border": null,
            "bottom": null,
            "display": null,
            "flex": null,
            "flex_flow": null,
            "grid_area": null,
            "grid_auto_columns": null,
            "grid_auto_flow": null,
            "grid_auto_rows": null,
            "grid_column": null,
            "grid_gap": null,
            "grid_row": null,
            "grid_template_areas": null,
            "grid_template_columns": null,
            "grid_template_rows": null,
            "height": null,
            "justify_content": null,
            "justify_items": null,
            "left": null,
            "margin": null,
            "max_height": null,
            "max_width": null,
            "min_height": null,
            "min_width": null,
            "object_fit": null,
            "object_position": null,
            "order": null,
            "overflow": null,
            "overflow_x": null,
            "overflow_y": null,
            "padding": null,
            "right": null,
            "top": null,
            "visibility": null,
            "width": null
          }
        },
        "6b9fa7c6c51d4b06b5d696534e5f1ae8": {
          "model_module": "@jupyter-widgets/controls",
          "model_module_version": "1.5.0",
          "model_name": "DescriptionStyleModel",
          "state": {
            "_model_module": "@jupyter-widgets/controls",
            "_model_module_version": "1.5.0",
            "_model_name": "DescriptionStyleModel",
            "_view_count": null,
            "_view_module": "@jupyter-widgets/base",
            "_view_module_version": "1.2.0",
            "_view_name": "StyleView",
            "description_width": ""
          }
        },
        "891e76702dfc4087825957893529fecf": {
          "model_module": "@jupyter-widgets/controls",
          "model_module_version": "1.5.0",
          "model_name": "FloatProgressModel",
          "state": {
            "_dom_classes": [],
            "_model_module": "@jupyter-widgets/controls",
            "_model_module_version": "1.5.0",
            "_model_name": "FloatProgressModel",
            "_view_count": null,
            "_view_module": "@jupyter-widgets/controls",
            "_view_module_version": "1.5.0",
            "_view_name": "ProgressView",
            "bar_style": "",
            "description": "",
            "description_tooltip": null,
            "layout": "IPY_MODEL_4f15ce25b3e04f90b1444cefc3a90de4",
            "max": 65,
            "min": 0,
            "orientation": "horizontal",
            "style": "IPY_MODEL_c02a51e1d9614107a4ee35f480863112",
            "value": 65
          }
        },
        "95af1d182fcf4c93841781bbee20d3d2": {
          "model_module": "@jupyter-widgets/base",
          "model_module_version": "1.2.0",
          "model_name": "LayoutModel",
          "state": {
            "_model_module": "@jupyter-widgets/base",
            "_model_module_version": "1.2.0",
            "_model_name": "LayoutModel",
            "_view_count": null,
            "_view_module": "@jupyter-widgets/base",
            "_view_module_version": "1.2.0",
            "_view_name": "LayoutView",
            "align_content": null,
            "align_items": null,
            "align_self": null,
            "border": null,
            "bottom": null,
            "display": null,
            "flex": null,
            "flex_flow": null,
            "grid_area": null,
            "grid_auto_columns": null,
            "grid_auto_flow": null,
            "grid_auto_rows": null,
            "grid_column": null,
            "grid_gap": null,
            "grid_row": null,
            "grid_template_areas": null,
            "grid_template_columns": null,
            "grid_template_rows": null,
            "height": null,
            "justify_content": null,
            "justify_items": null,
            "left": null,
            "margin": null,
            "max_height": null,
            "max_width": null,
            "min_height": null,
            "min_width": null,
            "object_fit": null,
            "object_position": null,
            "order": null,
            "overflow": null,
            "overflow_x": null,
            "overflow_y": null,
            "padding": null,
            "right": null,
            "top": null,
            "visibility": null,
            "width": null
          }
        },
        "9f0f72c3d2784dfd894aa3e9ba5aee50": {
          "model_module": "@jupyter-widgets/controls",
          "model_module_version": "1.5.0",
          "model_name": "DescriptionStyleModel",
          "state": {
            "_model_module": "@jupyter-widgets/controls",
            "_model_module_version": "1.5.0",
            "_model_name": "DescriptionStyleModel",
            "_view_count": null,
            "_view_module": "@jupyter-widgets/base",
            "_view_module_version": "1.2.0",
            "_view_name": "StyleView",
            "description_width": ""
          }
        },
        "c02a51e1d9614107a4ee35f480863112": {
          "model_module": "@jupyter-widgets/controls",
          "model_module_version": "1.5.0",
          "model_name": "ProgressStyleModel",
          "state": {
            "_model_module": "@jupyter-widgets/controls",
            "_model_module_version": "1.5.0",
            "_model_name": "ProgressStyleModel",
            "_view_count": null,
            "_view_module": "@jupyter-widgets/base",
            "_view_module_version": "1.2.0",
            "_view_name": "StyleView",
            "bar_color": null,
            "description_width": ""
          }
        },
        "c1c0653b61d048e5be022aa2a4689599": {
          "model_module": "@jupyter-widgets/controls",
          "model_module_version": "1.5.0",
          "model_name": "HTMLModel",
          "state": {
            "_dom_classes": [],
            "_model_module": "@jupyter-widgets/controls",
            "_model_module_version": "1.5.0",
            "_model_name": "HTMLModel",
            "_view_count": null,
            "_view_module": "@jupyter-widgets/controls",
            "_view_module_version": "1.5.0",
            "_view_name": "HTMLView",
            "description": "",
            "description_tooltip": null,
            "layout": "IPY_MODEL_95af1d182fcf4c93841781bbee20d3d2",
            "placeholder": "​",
            "style": "IPY_MODEL_6b9fa7c6c51d4b06b5d696534e5f1ae8",
            "value": " 65/65 [21:34&lt;00:00,  7.99s/it]"
          }
        }
      }
    }
  },
  "nbformat": 4,
  "nbformat_minor": 0
}
