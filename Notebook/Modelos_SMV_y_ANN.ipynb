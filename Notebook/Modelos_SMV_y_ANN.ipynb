{
  "nbformat": 4,
  "nbformat_minor": 0,
  "metadata": {
    "colab": {
      "provenance": []
    },
    "kernelspec": {
      "name": "python3",
      "display_name": "Python 3"
    },
    "language_info": {
      "name": "python"
    },
    "widgets": {
      "application/vnd.jupyter.widget-state+json": {
        "2c1ebb94d7da430082bbe00f7c529532": {
          "model_module": "@jupyter-widgets/controls",
          "model_name": "HBoxModel",
          "model_module_version": "1.5.0",
          "state": {
            "_dom_classes": [],
            "_model_module": "@jupyter-widgets/controls",
            "_model_module_version": "1.5.0",
            "_model_name": "HBoxModel",
            "_view_count": null,
            "_view_module": "@jupyter-widgets/controls",
            "_view_module_version": "1.5.0",
            "_view_name": "HBoxView",
            "box_style": "",
            "children": [
              "IPY_MODEL_07d394b2e68641cd995148926d423ade",
              "IPY_MODEL_891e76702dfc4087825957893529fecf",
              "IPY_MODEL_c1c0653b61d048e5be022aa2a4689599"
            ],
            "layout": "IPY_MODEL_64737de117274f6a9af6c2c47acf2c27"
          }
        },
        "07d394b2e68641cd995148926d423ade": {
          "model_module": "@jupyter-widgets/controls",
          "model_name": "HTMLModel",
          "model_module_version": "1.5.0",
          "state": {
            "_dom_classes": [],
            "_model_module": "@jupyter-widgets/controls",
            "_model_module_version": "1.5.0",
            "_model_name": "HTMLModel",
            "_view_count": null,
            "_view_module": "@jupyter-widgets/controls",
            "_view_module_version": "1.5.0",
            "_view_name": "HTMLView",
            "description": "",
            "description_tooltip": null,
            "layout": "IPY_MODEL_69f71caaecce427295ad8038ada30c22",
            "placeholder": "​",
            "style": "IPY_MODEL_9f0f72c3d2784dfd894aa3e9ba5aee50",
            "value": "Processing: 100%"
          }
        },
        "891e76702dfc4087825957893529fecf": {
          "model_module": "@jupyter-widgets/controls",
          "model_name": "FloatProgressModel",
          "model_module_version": "1.5.0",
          "state": {
            "_dom_classes": [],
            "_model_module": "@jupyter-widgets/controls",
            "_model_module_version": "1.5.0",
            "_model_name": "FloatProgressModel",
            "_view_count": null,
            "_view_module": "@jupyter-widgets/controls",
            "_view_module_version": "1.5.0",
            "_view_name": "ProgressView",
            "bar_style": "",
            "description": "",
            "description_tooltip": null,
            "layout": "IPY_MODEL_4f15ce25b3e04f90b1444cefc3a90de4",
            "max": 65,
            "min": 0,
            "orientation": "horizontal",
            "style": "IPY_MODEL_c02a51e1d9614107a4ee35f480863112",
            "value": 65
          }
        },
        "c1c0653b61d048e5be022aa2a4689599": {
          "model_module": "@jupyter-widgets/controls",
          "model_name": "HTMLModel",
          "model_module_version": "1.5.0",
          "state": {
            "_dom_classes": [],
            "_model_module": "@jupyter-widgets/controls",
            "_model_module_version": "1.5.0",
            "_model_name": "HTMLModel",
            "_view_count": null,
            "_view_module": "@jupyter-widgets/controls",
            "_view_module_version": "1.5.0",
            "_view_name": "HTMLView",
            "description": "",
            "description_tooltip": null,
            "layout": "IPY_MODEL_95af1d182fcf4c93841781bbee20d3d2",
            "placeholder": "​",
            "style": "IPY_MODEL_6b9fa7c6c51d4b06b5d696534e5f1ae8",
            "value": " 65/65 [21:34&lt;00:00,  7.99s/it]"
          }
        },
        "64737de117274f6a9af6c2c47acf2c27": {
          "model_module": "@jupyter-widgets/base",
          "model_name": "LayoutModel",
          "model_module_version": "1.2.0",
          "state": {
            "_model_module": "@jupyter-widgets/base",
            "_model_module_version": "1.2.0",
            "_model_name": "LayoutModel",
            "_view_count": null,
            "_view_module": "@jupyter-widgets/base",
            "_view_module_version": "1.2.0",
            "_view_name": "LayoutView",
            "align_content": null,
            "align_items": null,
            "align_self": null,
            "border": null,
            "bottom": null,
            "display": null,
            "flex": null,
            "flex_flow": null,
            "grid_area": null,
            "grid_auto_columns": null,
            "grid_auto_flow": null,
            "grid_auto_rows": null,
            "grid_column": null,
            "grid_gap": null,
            "grid_row": null,
            "grid_template_areas": null,
            "grid_template_columns": null,
            "grid_template_rows": null,
            "height": null,
            "justify_content": null,
            "justify_items": null,
            "left": null,
            "margin": null,
            "max_height": null,
            "max_width": null,
            "min_height": null,
            "min_width": null,
            "object_fit": null,
            "object_position": null,
            "order": null,
            "overflow": null,
            "overflow_x": null,
            "overflow_y": null,
            "padding": null,
            "right": null,
            "top": null,
            "visibility": "hidden",
            "width": null
          }
        },
        "69f71caaecce427295ad8038ada30c22": {
          "model_module": "@jupyter-widgets/base",
          "model_name": "LayoutModel",
          "model_module_version": "1.2.0",
          "state": {
            "_model_module": "@jupyter-widgets/base",
            "_model_module_version": "1.2.0",
            "_model_name": "LayoutModel",
            "_view_count": null,
            "_view_module": "@jupyter-widgets/base",
            "_view_module_version": "1.2.0",
            "_view_name": "LayoutView",
            "align_content": null,
            "align_items": null,
            "align_self": null,
            "border": null,
            "bottom": null,
            "display": null,
            "flex": null,
            "flex_flow": null,
            "grid_area": null,
            "grid_auto_columns": null,
            "grid_auto_flow": null,
            "grid_auto_rows": null,
            "grid_column": null,
            "grid_gap": null,
            "grid_row": null,
            "grid_template_areas": null,
            "grid_template_columns": null,
            "grid_template_rows": null,
            "height": null,
            "justify_content": null,
            "justify_items": null,
            "left": null,
            "margin": null,
            "max_height": null,
            "max_width": null,
            "min_height": null,
            "min_width": null,
            "object_fit": null,
            "object_position": null,
            "order": null,
            "overflow": null,
            "overflow_x": null,
            "overflow_y": null,
            "padding": null,
            "right": null,
            "top": null,
            "visibility": null,
            "width": null
          }
        },
        "9f0f72c3d2784dfd894aa3e9ba5aee50": {
          "model_module": "@jupyter-widgets/controls",
          "model_name": "DescriptionStyleModel",
          "model_module_version": "1.5.0",
          "state": {
            "_model_module": "@jupyter-widgets/controls",
            "_model_module_version": "1.5.0",
            "_model_name": "DescriptionStyleModel",
            "_view_count": null,
            "_view_module": "@jupyter-widgets/base",
            "_view_module_version": "1.2.0",
            "_view_name": "StyleView",
            "description_width": ""
          }
        },
        "4f15ce25b3e04f90b1444cefc3a90de4": {
          "model_module": "@jupyter-widgets/base",
          "model_name": "LayoutModel",
          "model_module_version": "1.2.0",
          "state": {
            "_model_module": "@jupyter-widgets/base",
            "_model_module_version": "1.2.0",
            "_model_name": "LayoutModel",
            "_view_count": null,
            "_view_module": "@jupyter-widgets/base",
            "_view_module_version": "1.2.0",
            "_view_name": "LayoutView",
            "align_content": null,
            "align_items": null,
            "align_self": null,
            "border": null,
            "bottom": null,
            "display": null,
            "flex": null,
            "flex_flow": null,
            "grid_area": null,
            "grid_auto_columns": null,
            "grid_auto_flow": null,
            "grid_auto_rows": null,
            "grid_column": null,
            "grid_gap": null,
            "grid_row": null,
            "grid_template_areas": null,
            "grid_template_columns": null,
            "grid_template_rows": null,
            "height": null,
            "justify_content": null,
            "justify_items": null,
            "left": null,
            "margin": null,
            "max_height": null,
            "max_width": null,
            "min_height": null,
            "min_width": null,
            "object_fit": null,
            "object_position": null,
            "order": null,
            "overflow": null,
            "overflow_x": null,
            "overflow_y": null,
            "padding": null,
            "right": null,
            "top": null,
            "visibility": null,
            "width": null
          }
        },
        "c02a51e1d9614107a4ee35f480863112": {
          "model_module": "@jupyter-widgets/controls",
          "model_name": "ProgressStyleModel",
          "model_module_version": "1.5.0",
          "state": {
            "_model_module": "@jupyter-widgets/controls",
            "_model_module_version": "1.5.0",
            "_model_name": "ProgressStyleModel",
            "_view_count": null,
            "_view_module": "@jupyter-widgets/base",
            "_view_module_version": "1.2.0",
            "_view_name": "StyleView",
            "bar_color": null,
            "description_width": ""
          }
        },
        "95af1d182fcf4c93841781bbee20d3d2": {
          "model_module": "@jupyter-widgets/base",
          "model_name": "LayoutModel",
          "model_module_version": "1.2.0",
          "state": {
            "_model_module": "@jupyter-widgets/base",
            "_model_module_version": "1.2.0",
            "_model_name": "LayoutModel",
            "_view_count": null,
            "_view_module": "@jupyter-widgets/base",
            "_view_module_version": "1.2.0",
            "_view_name": "LayoutView",
            "align_content": null,
            "align_items": null,
            "align_self": null,
            "border": null,
            "bottom": null,
            "display": null,
            "flex": null,
            "flex_flow": null,
            "grid_area": null,
            "grid_auto_columns": null,
            "grid_auto_flow": null,
            "grid_auto_rows": null,
            "grid_column": null,
            "grid_gap": null,
            "grid_row": null,
            "grid_template_areas": null,
            "grid_template_columns": null,
            "grid_template_rows": null,
            "height": null,
            "justify_content": null,
            "justify_items": null,
            "left": null,
            "margin": null,
            "max_height": null,
            "max_width": null,
            "min_height": null,
            "min_width": null,
            "object_fit": null,
            "object_position": null,
            "order": null,
            "overflow": null,
            "overflow_x": null,
            "overflow_y": null,
            "padding": null,
            "right": null,
            "top": null,
            "visibility": null,
            "width": null
          }
        },
        "6b9fa7c6c51d4b06b5d696534e5f1ae8": {
          "model_module": "@jupyter-widgets/controls",
          "model_name": "DescriptionStyleModel",
          "model_module_version": "1.5.0",
          "state": {
            "_model_module": "@jupyter-widgets/controls",
            "_model_module_version": "1.5.0",
            "_model_name": "DescriptionStyleModel",
            "_view_count": null,
            "_view_module": "@jupyter-widgets/base",
            "_view_module_version": "1.2.0",
            "_view_name": "StyleView",
            "description_width": ""
          }
        }
      }
    }
  },
  "cells": [
    {
      "cell_type": "code",
      "source": [
        "pip install pycaret"
      ],
      "metadata": {
        "id": "LzMAL9Nrqywr"
      },
      "execution_count": null,
      "outputs": []
    },
    {
      "cell_type": "code",
      "execution_count": null,
      "metadata": {
        "id": "vUBlxZNSX64r"
      },
      "outputs": [],
      "source": [
        "import pandas as pd\n",
        "from sklearn.model_selection import train_test_split\n",
        "#from sklearn.preprocessing import StandardScaler\n",
        "from sklearn.preprocessing import MinMaxScaler\n",
        "from sklearn.metrics import accuracy_score, mean_squared_error\n",
        "from sklearn.ensemble import RandomForestClassifier\n",
        "from sklearn.neighbors import KNeighborsClassifier\n",
        "from sklearn.metrics import classification_report\n",
        "from sklearn.svm import SVC\n",
        "from sklearn.metrics import confusion_matrix\n",
        "from sklearn.metrics import multilabel_confusion_matrix\n",
        "from mlxtend.evaluate import confusion_matrix as CM\n",
        "from tensorflow.keras.models import Sequential\n",
        "from tensorflow.keras.layers import Dense\n",
        "import seaborn as sns\n",
        "import matplotlib.pyplot as plt\n",
        "from sklearn.impute import KNNImputer\n",
        "import numpy as np"
      ]
    },
    {
      "cell_type": "code",
      "source": [
        "df = pd.read_csv(\"data.csv\")"
      ],
      "metadata": {
        "id": "sAFcFAG9YPcl"
      },
      "execution_count": null,
      "outputs": []
    },
    {
      "cell_type": "code",
      "source": [
        "df.info()"
      ],
      "metadata": {
        "id": "gjLCpBD5rd7o",
        "outputId": "067a1141-564a-4679-d55f-c2bc67a22cca",
        "colab": {
          "base_uri": "https://localhost:8080/"
        }
      },
      "execution_count": null,
      "outputs": [
        {
          "output_type": "stream",
          "name": "stdout",
          "text": [
            "<class 'pandas.core.frame.DataFrame'>\n",
            "RangeIndex: 253680 entries, 0 to 253679\n",
            "Data columns (total 22 columns):\n",
            " #   Column                Non-Null Count   Dtype  \n",
            "---  ------                --------------   -----  \n",
            " 0   Diabetes_012          253680 non-null  float64\n",
            " 1   HighBP                253680 non-null  float64\n",
            " 2   HighChol              253680 non-null  float64\n",
            " 3   CholCheck             253680 non-null  float64\n",
            " 4   BMI                   253680 non-null  float64\n",
            " 5   Smoker                253680 non-null  float64\n",
            " 6   Stroke                253680 non-null  float64\n",
            " 7   HeartDiseaseorAttack  253680 non-null  float64\n",
            " 8   PhysActivity          253680 non-null  float64\n",
            " 9   Fruits                253680 non-null  float64\n",
            " 10  Veggies               253680 non-null  float64\n",
            " 11  HvyAlcoholConsump     253680 non-null  float64\n",
            " 12  AnyHealthcare         253680 non-null  float64\n",
            " 13  NoDocbcCost           253680 non-null  float64\n",
            " 14  GenHlth               253680 non-null  float64\n",
            " 15  MentHlth              253680 non-null  float64\n",
            " 16  PhysHlth              253680 non-null  float64\n",
            " 17  DiffWalk              253680 non-null  float64\n",
            " 18  Sex                   253680 non-null  float64\n",
            " 19  Age                   253680 non-null  float64\n",
            " 20  Education             253680 non-null  float64\n",
            " 21  Income                253680 non-null  float64\n",
            "dtypes: float64(22)\n",
            "memory usage: 42.6 MB\n"
          ]
        }
      ]
    },
    {
      "cell_type": "markdown",
      "source": [
        "## PYCARET\n"
      ],
      "metadata": {
        "id": "3JO-j12XHo_a"
      }
    },
    {
      "cell_type": "code",
      "source": [
        "from pycaret.classification import setup\n",
        "\n",
        "# Configura tu entorno de Pycaret\n",
        "modelo = setup(data = df, target = 'Diabetes_binary')\n"
      ],
      "metadata": {
        "id": "tnB1uRyFra0N",
        "outputId": "f64a3da2-659b-4fa9-c1bc-88841398e72f",
        "colab": {
          "base_uri": "https://localhost:8080/",
          "height": 645
        }
      },
      "execution_count": null,
      "outputs": [
        {
          "output_type": "display_data",
          "data": {
            "text/plain": [
              "<pandas.io.formats.style.Styler at 0x7d140431ae30>"
            ],
            "text/html": [
              "<style type=\"text/css\">\n",
              "#T_1cc95_row8_col1 {\n",
              "  background-color: lightgreen;\n",
              "}\n",
              "</style>\n",
              "<table id=\"T_1cc95\" class=\"dataframe\">\n",
              "  <thead>\n",
              "    <tr>\n",
              "      <th class=\"blank level0\" >&nbsp;</th>\n",
              "      <th id=\"T_1cc95_level0_col0\" class=\"col_heading level0 col0\" >Description</th>\n",
              "      <th id=\"T_1cc95_level0_col1\" class=\"col_heading level0 col1\" >Value</th>\n",
              "    </tr>\n",
              "  </thead>\n",
              "  <tbody>\n",
              "    <tr>\n",
              "      <th id=\"T_1cc95_level0_row0\" class=\"row_heading level0 row0\" >0</th>\n",
              "      <td id=\"T_1cc95_row0_col0\" class=\"data row0 col0\" >Session id</td>\n",
              "      <td id=\"T_1cc95_row0_col1\" class=\"data row0 col1\" >220</td>\n",
              "    </tr>\n",
              "    <tr>\n",
              "      <th id=\"T_1cc95_level0_row1\" class=\"row_heading level0 row1\" >1</th>\n",
              "      <td id=\"T_1cc95_row1_col0\" class=\"data row1 col0\" >Target</td>\n",
              "      <td id=\"T_1cc95_row1_col1\" class=\"data row1 col1\" >Diabetes_binary</td>\n",
              "    </tr>\n",
              "    <tr>\n",
              "      <th id=\"T_1cc95_level0_row2\" class=\"row_heading level0 row2\" >2</th>\n",
              "      <td id=\"T_1cc95_row2_col0\" class=\"data row2 col0\" >Target type</td>\n",
              "      <td id=\"T_1cc95_row2_col1\" class=\"data row2 col1\" >Binary</td>\n",
              "    </tr>\n",
              "    <tr>\n",
              "      <th id=\"T_1cc95_level0_row3\" class=\"row_heading level0 row3\" >3</th>\n",
              "      <td id=\"T_1cc95_row3_col0\" class=\"data row3 col0\" >Original data shape</td>\n",
              "      <td id=\"T_1cc95_row3_col1\" class=\"data row3 col1\" >(253680, 22)</td>\n",
              "    </tr>\n",
              "    <tr>\n",
              "      <th id=\"T_1cc95_level0_row4\" class=\"row_heading level0 row4\" >4</th>\n",
              "      <td id=\"T_1cc95_row4_col0\" class=\"data row4 col0\" >Transformed data shape</td>\n",
              "      <td id=\"T_1cc95_row4_col1\" class=\"data row4 col1\" >(253680, 22)</td>\n",
              "    </tr>\n",
              "    <tr>\n",
              "      <th id=\"T_1cc95_level0_row5\" class=\"row_heading level0 row5\" >5</th>\n",
              "      <td id=\"T_1cc95_row5_col0\" class=\"data row5 col0\" >Transformed train set shape</td>\n",
              "      <td id=\"T_1cc95_row5_col1\" class=\"data row5 col1\" >(177576, 22)</td>\n",
              "    </tr>\n",
              "    <tr>\n",
              "      <th id=\"T_1cc95_level0_row6\" class=\"row_heading level0 row6\" >6</th>\n",
              "      <td id=\"T_1cc95_row6_col0\" class=\"data row6 col0\" >Transformed test set shape</td>\n",
              "      <td id=\"T_1cc95_row6_col1\" class=\"data row6 col1\" >(76104, 22)</td>\n",
              "    </tr>\n",
              "    <tr>\n",
              "      <th id=\"T_1cc95_level0_row7\" class=\"row_heading level0 row7\" >7</th>\n",
              "      <td id=\"T_1cc95_row7_col0\" class=\"data row7 col0\" >Numeric features</td>\n",
              "      <td id=\"T_1cc95_row7_col1\" class=\"data row7 col1\" >21</td>\n",
              "    </tr>\n",
              "    <tr>\n",
              "      <th id=\"T_1cc95_level0_row8\" class=\"row_heading level0 row8\" >8</th>\n",
              "      <td id=\"T_1cc95_row8_col0\" class=\"data row8 col0\" >Preprocess</td>\n",
              "      <td id=\"T_1cc95_row8_col1\" class=\"data row8 col1\" >True</td>\n",
              "    </tr>\n",
              "    <tr>\n",
              "      <th id=\"T_1cc95_level0_row9\" class=\"row_heading level0 row9\" >9</th>\n",
              "      <td id=\"T_1cc95_row9_col0\" class=\"data row9 col0\" >Imputation type</td>\n",
              "      <td id=\"T_1cc95_row9_col1\" class=\"data row9 col1\" >simple</td>\n",
              "    </tr>\n",
              "    <tr>\n",
              "      <th id=\"T_1cc95_level0_row10\" class=\"row_heading level0 row10\" >10</th>\n",
              "      <td id=\"T_1cc95_row10_col0\" class=\"data row10 col0\" >Numeric imputation</td>\n",
              "      <td id=\"T_1cc95_row10_col1\" class=\"data row10 col1\" >mean</td>\n",
              "    </tr>\n",
              "    <tr>\n",
              "      <th id=\"T_1cc95_level0_row11\" class=\"row_heading level0 row11\" >11</th>\n",
              "      <td id=\"T_1cc95_row11_col0\" class=\"data row11 col0\" >Categorical imputation</td>\n",
              "      <td id=\"T_1cc95_row11_col1\" class=\"data row11 col1\" >mode</td>\n",
              "    </tr>\n",
              "    <tr>\n",
              "      <th id=\"T_1cc95_level0_row12\" class=\"row_heading level0 row12\" >12</th>\n",
              "      <td id=\"T_1cc95_row12_col0\" class=\"data row12 col0\" >Fold Generator</td>\n",
              "      <td id=\"T_1cc95_row12_col1\" class=\"data row12 col1\" >StratifiedKFold</td>\n",
              "    </tr>\n",
              "    <tr>\n",
              "      <th id=\"T_1cc95_level0_row13\" class=\"row_heading level0 row13\" >13</th>\n",
              "      <td id=\"T_1cc95_row13_col0\" class=\"data row13 col0\" >Fold Number</td>\n",
              "      <td id=\"T_1cc95_row13_col1\" class=\"data row13 col1\" >10</td>\n",
              "    </tr>\n",
              "    <tr>\n",
              "      <th id=\"T_1cc95_level0_row14\" class=\"row_heading level0 row14\" >14</th>\n",
              "      <td id=\"T_1cc95_row14_col0\" class=\"data row14 col0\" >CPU Jobs</td>\n",
              "      <td id=\"T_1cc95_row14_col1\" class=\"data row14 col1\" >-1</td>\n",
              "    </tr>\n",
              "    <tr>\n",
              "      <th id=\"T_1cc95_level0_row15\" class=\"row_heading level0 row15\" >15</th>\n",
              "      <td id=\"T_1cc95_row15_col0\" class=\"data row15 col0\" >Use GPU</td>\n",
              "      <td id=\"T_1cc95_row15_col1\" class=\"data row15 col1\" >False</td>\n",
              "    </tr>\n",
              "    <tr>\n",
              "      <th id=\"T_1cc95_level0_row16\" class=\"row_heading level0 row16\" >16</th>\n",
              "      <td id=\"T_1cc95_row16_col0\" class=\"data row16 col0\" >Log Experiment</td>\n",
              "      <td id=\"T_1cc95_row16_col1\" class=\"data row16 col1\" >False</td>\n",
              "    </tr>\n",
              "    <tr>\n",
              "      <th id=\"T_1cc95_level0_row17\" class=\"row_heading level0 row17\" >17</th>\n",
              "      <td id=\"T_1cc95_row17_col0\" class=\"data row17 col0\" >Experiment Name</td>\n",
              "      <td id=\"T_1cc95_row17_col1\" class=\"data row17 col1\" >clf-default-name</td>\n",
              "    </tr>\n",
              "    <tr>\n",
              "      <th id=\"T_1cc95_level0_row18\" class=\"row_heading level0 row18\" >18</th>\n",
              "      <td id=\"T_1cc95_row18_col0\" class=\"data row18 col0\" >USI</td>\n",
              "      <td id=\"T_1cc95_row18_col1\" class=\"data row18 col1\" >b4c5</td>\n",
              "    </tr>\n",
              "  </tbody>\n",
              "</table>\n"
            ]
          },
          "metadata": {}
        }
      ]
    },
    {
      "cell_type": "code",
      "source": [
        "from pycaret.classification import compare_models\n",
        "\n",
        "# Compara modelos\n",
        "mejor_modelo = compare_models()\n"
      ],
      "metadata": {
        "id": "0XmmDP36r3fZ",
        "outputId": "a1e7144f-318c-469f-e2e4-ee3c45875547",
        "colab": {
          "base_uri": "https://localhost:8080/",
          "height": 1000,
          "referenced_widgets": [
            "2c1ebb94d7da430082bbe00f7c529532",
            "07d394b2e68641cd995148926d423ade",
            "891e76702dfc4087825957893529fecf",
            "c1c0653b61d048e5be022aa2a4689599",
            "64737de117274f6a9af6c2c47acf2c27",
            "69f71caaecce427295ad8038ada30c22",
            "9f0f72c3d2784dfd894aa3e9ba5aee50",
            "4f15ce25b3e04f90b1444cefc3a90de4",
            "c02a51e1d9614107a4ee35f480863112",
            "95af1d182fcf4c93841781bbee20d3d2",
            "6b9fa7c6c51d4b06b5d696534e5f1ae8"
          ]
        }
      },
      "execution_count": null,
      "outputs": [
        {
          "data": {
            "application/vnd.google.colaboratory.intrinsic+json": {
              "summary": "{\n  \"name\": \"mejor_modelo = compare_models()\",\n  \"rows\": 3,\n  \"fields\": [\n    {\n      \"column\": \" \",\n      \"properties\": {\n        \"dtype\": \"category\",\n        \"num_unique_values\": 1,\n        \"samples\": [\n          \". . . . . . . . . . . . . . . . . .\"\n        ],\n        \"semantic_type\": \"\",\n        \"description\": \"\"\n      }\n    },\n    {\n      \"column\": \"  \",\n      \"properties\": {\n        \"dtype\": \"string\",\n        \"num_unique_values\": 3,\n        \"samples\": [\n          \"02:29:27\"\n        ],\n        \"semantic_type\": \"\",\n        \"description\": \"\"\n      }\n    }\n  ]\n}",
              "type": "dataframe"
            },
            "text/html": [
              "\n",
              "  <div id=\"df-03a78039-0254-4b38-afa4-1b588185316f\" class=\"colab-df-container\">\n",
              "    <div>\n",
              "<style scoped>\n",
              "    .dataframe tbody tr th:only-of-type {\n",
              "        vertical-align: middle;\n",
              "    }\n",
              "\n",
              "    .dataframe tbody tr th {\n",
              "        vertical-align: top;\n",
              "    }\n",
              "\n",
              "    .dataframe thead th {\n",
              "        text-align: right;\n",
              "    }\n",
              "</style>\n",
              "<table border=\"1\" class=\"dataframe\">\n",
              "  <thead>\n",
              "    <tr style=\"text-align: right;\">\n",
              "      <th></th>\n",
              "      <th></th>\n",
              "      <th></th>\n",
              "    </tr>\n",
              "    <tr>\n",
              "      <th></th>\n",
              "      <th></th>\n",
              "      <th></th>\n",
              "    </tr>\n",
              "  </thead>\n",
              "  <tbody>\n",
              "    <tr>\n",
              "      <th>Initiated</th>\n",
              "      <td>. . . . . . . . . . . . . . . . . .</td>\n",
              "      <td>02:29:27</td>\n",
              "    </tr>\n",
              "    <tr>\n",
              "      <th>Status</th>\n",
              "      <td>. . . . . . . . . . . . . . . . . .</td>\n",
              "      <td>Fitting 10 Folds</td>\n",
              "    </tr>\n",
              "    <tr>\n",
              "      <th>Estimator</th>\n",
              "      <td>. . . . . . . . . . . . . . . . . .</td>\n",
              "      <td>Extra Trees Classifier</td>\n",
              "    </tr>\n",
              "  </tbody>\n",
              "</table>\n",
              "</div>\n",
              "    <div class=\"colab-df-buttons\">\n",
              "\n",
              "  <div class=\"colab-df-container\">\n",
              "    <button class=\"colab-df-convert\" onclick=\"convertToInteractive('df-03a78039-0254-4b38-afa4-1b588185316f')\"\n",
              "            title=\"Convert this dataframe to an interactive table.\"\n",
              "            style=\"display:none;\">\n",
              "\n",
              "  <svg xmlns=\"http://www.w3.org/2000/svg\" height=\"24px\" viewBox=\"0 -960 960 960\">\n",
              "    <path d=\"M120-120v-720h720v720H120Zm60-500h600v-160H180v160Zm220 220h160v-160H400v160Zm0 220h160v-160H400v160ZM180-400h160v-160H180v160Zm440 0h160v-160H620v160ZM180-180h160v-160H180v160Zm440 0h160v-160H620v160Z\"/>\n",
              "  </svg>\n",
              "    </button>\n",
              "\n",
              "  <style>\n",
              "    .colab-df-container {\n",
              "      display:flex;\n",
              "      gap: 12px;\n",
              "    }\n",
              "\n",
              "    .colab-df-convert {\n",
              "      background-color: #E8F0FE;\n",
              "      border: none;\n",
              "      border-radius: 50%;\n",
              "      cursor: pointer;\n",
              "      display: none;\n",
              "      fill: #1967D2;\n",
              "      height: 32px;\n",
              "      padding: 0 0 0 0;\n",
              "      width: 32px;\n",
              "    }\n",
              "\n",
              "    .colab-df-convert:hover {\n",
              "      background-color: #E2EBFA;\n",
              "      box-shadow: 0px 1px 2px rgba(60, 64, 67, 0.3), 0px 1px 3px 1px rgba(60, 64, 67, 0.15);\n",
              "      fill: #174EA6;\n",
              "    }\n",
              "\n",
              "    .colab-df-buttons div {\n",
              "      margin-bottom: 4px;\n",
              "    }\n",
              "\n",
              "    [theme=dark] .colab-df-convert {\n",
              "      background-color: #3B4455;\n",
              "      fill: #D2E3FC;\n",
              "    }\n",
              "\n",
              "    [theme=dark] .colab-df-convert:hover {\n",
              "      background-color: #434B5C;\n",
              "      box-shadow: 0px 1px 3px 1px rgba(0, 0, 0, 0.15);\n",
              "      filter: drop-shadow(0px 1px 2px rgba(0, 0, 0, 0.3));\n",
              "      fill: #FFFFFF;\n",
              "    }\n",
              "  </style>\n",
              "\n",
              "    <script>\n",
              "      const buttonEl =\n",
              "        document.querySelector('#df-03a78039-0254-4b38-afa4-1b588185316f button.colab-df-convert');\n",
              "      buttonEl.style.display =\n",
              "        google.colab.kernel.accessAllowed ? 'block' : 'none';\n",
              "\n",
              "      async function convertToInteractive(key) {\n",
              "        const element = document.querySelector('#df-03a78039-0254-4b38-afa4-1b588185316f');\n",
              "        const dataTable =\n",
              "          await google.colab.kernel.invokeFunction('convertToInteractive',\n",
              "                                                    [key], {});\n",
              "        if (!dataTable) return;\n",
              "\n",
              "        const docLinkHtml = 'Like what you see? Visit the ' +\n",
              "          '<a target=\"_blank\" href=https://colab.research.google.com/notebooks/data_table.ipynb>data table notebook</a>'\n",
              "          + ' to learn more about interactive tables.';\n",
              "        element.innerHTML = '';\n",
              "        dataTable['output_type'] = 'display_data';\n",
              "        await google.colab.output.renderOutput(dataTable, element);\n",
              "        const docLink = document.createElement('div');\n",
              "        docLink.innerHTML = docLinkHtml;\n",
              "        element.appendChild(docLink);\n",
              "      }\n",
              "    </script>\n",
              "  </div>\n",
              "\n",
              "\n",
              "<div id=\"df-538a5af1-5050-4c83-896c-6a1cb9ce1d51\">\n",
              "  <button class=\"colab-df-quickchart\" onclick=\"quickchart('df-538a5af1-5050-4c83-896c-6a1cb9ce1d51')\"\n",
              "            title=\"Suggest charts\"\n",
              "            style=\"display:none;\">\n",
              "\n",
              "<svg xmlns=\"http://www.w3.org/2000/svg\" height=\"24px\"viewBox=\"0 0 24 24\"\n",
              "     width=\"24px\">\n",
              "    <g>\n",
              "        <path d=\"M19 3H5c-1.1 0-2 .9-2 2v14c0 1.1.9 2 2 2h14c1.1 0 2-.9 2-2V5c0-1.1-.9-2-2-2zM9 17H7v-7h2v7zm4 0h-2V7h2v10zm4 0h-2v-4h2v4z\"/>\n",
              "    </g>\n",
              "</svg>\n",
              "  </button>\n",
              "\n",
              "<style>\n",
              "  .colab-df-quickchart {\n",
              "      --bg-color: #E8F0FE;\n",
              "      --fill-color: #1967D2;\n",
              "      --hover-bg-color: #E2EBFA;\n",
              "      --hover-fill-color: #174EA6;\n",
              "      --disabled-fill-color: #AAA;\n",
              "      --disabled-bg-color: #DDD;\n",
              "  }\n",
              "\n",
              "  [theme=dark] .colab-df-quickchart {\n",
              "      --bg-color: #3B4455;\n",
              "      --fill-color: #D2E3FC;\n",
              "      --hover-bg-color: #434B5C;\n",
              "      --hover-fill-color: #FFFFFF;\n",
              "      --disabled-bg-color: #3B4455;\n",
              "      --disabled-fill-color: #666;\n",
              "  }\n",
              "\n",
              "  .colab-df-quickchart {\n",
              "    background-color: var(--bg-color);\n",
              "    border: none;\n",
              "    border-radius: 50%;\n",
              "    cursor: pointer;\n",
              "    display: none;\n",
              "    fill: var(--fill-color);\n",
              "    height: 32px;\n",
              "    padding: 0;\n",
              "    width: 32px;\n",
              "  }\n",
              "\n",
              "  .colab-df-quickchart:hover {\n",
              "    background-color: var(--hover-bg-color);\n",
              "    box-shadow: 0 1px 2px rgba(60, 64, 67, 0.3), 0 1px 3px 1px rgba(60, 64, 67, 0.15);\n",
              "    fill: var(--button-hover-fill-color);\n",
              "  }\n",
              "\n",
              "  .colab-df-quickchart-complete:disabled,\n",
              "  .colab-df-quickchart-complete:disabled:hover {\n",
              "    background-color: var(--disabled-bg-color);\n",
              "    fill: var(--disabled-fill-color);\n",
              "    box-shadow: none;\n",
              "  }\n",
              "\n",
              "  .colab-df-spinner {\n",
              "    border: 2px solid var(--fill-color);\n",
              "    border-color: transparent;\n",
              "    border-bottom-color: var(--fill-color);\n",
              "    animation:\n",
              "      spin 1s steps(1) infinite;\n",
              "  }\n",
              "\n",
              "  @keyframes spin {\n",
              "    0% {\n",
              "      border-color: transparent;\n",
              "      border-bottom-color: var(--fill-color);\n",
              "      border-left-color: var(--fill-color);\n",
              "    }\n",
              "    20% {\n",
              "      border-color: transparent;\n",
              "      border-left-color: var(--fill-color);\n",
              "      border-top-color: var(--fill-color);\n",
              "    }\n",
              "    30% {\n",
              "      border-color: transparent;\n",
              "      border-left-color: var(--fill-color);\n",
              "      border-top-color: var(--fill-color);\n",
              "      border-right-color: var(--fill-color);\n",
              "    }\n",
              "    40% {\n",
              "      border-color: transparent;\n",
              "      border-right-color: var(--fill-color);\n",
              "      border-top-color: var(--fill-color);\n",
              "    }\n",
              "    60% {\n",
              "      border-color: transparent;\n",
              "      border-right-color: var(--fill-color);\n",
              "    }\n",
              "    80% {\n",
              "      border-color: transparent;\n",
              "      border-right-color: var(--fill-color);\n",
              "      border-bottom-color: var(--fill-color);\n",
              "    }\n",
              "    90% {\n",
              "      border-color: transparent;\n",
              "      border-bottom-color: var(--fill-color);\n",
              "    }\n",
              "  }\n",
              "</style>\n",
              "\n",
              "  <script>\n",
              "    async function quickchart(key) {\n",
              "      const quickchartButtonEl =\n",
              "        document.querySelector('#' + key + ' button');\n",
              "      quickchartButtonEl.disabled = true;  // To prevent multiple clicks.\n",
              "      quickchartButtonEl.classList.add('colab-df-spinner');\n",
              "      try {\n",
              "        const charts = await google.colab.kernel.invokeFunction(\n",
              "            'suggestCharts', [key], {});\n",
              "      } catch (error) {\n",
              "        console.error('Error during call to suggestCharts:', error);\n",
              "      }\n",
              "      quickchartButtonEl.classList.remove('colab-df-spinner');\n",
              "      quickchartButtonEl.classList.add('colab-df-quickchart-complete');\n",
              "    }\n",
              "    (() => {\n",
              "      let quickchartButtonEl =\n",
              "        document.querySelector('#df-538a5af1-5050-4c83-896c-6a1cb9ce1d51 button');\n",
              "      quickchartButtonEl.style.display =\n",
              "        google.colab.kernel.accessAllowed ? 'block' : 'none';\n",
              "    })();\n",
              "  </script>\n",
              "</div>\n",
              "\n",
              "    </div>\n",
              "  </div>\n"
            ],
            "text/plain": [
              "                                                                      \n",
              "                                                                      \n",
              "Initiated  . . . . . . . . . . . . . . . . . .                02:29:27\n",
              "Status     . . . . . . . . . . . . . . . . . .        Fitting 10 Folds\n",
              "Estimator  . . . . . . . . . . . . . . . . . .  Extra Trees Classifier"
            ]
          },
          "metadata": {},
          "output_type": "display_data"
        },
        {
          "data": {
            "text/html": [
              "<style type=\"text/css\">\n",
              "#T_fe5b1 th {\n",
              "  text-align: left;\n",
              "}\n",
              "#T_fe5b1_row0_col0, #T_fe5b1_row0_col1, #T_fe5b1_row0_col2, #T_fe5b1_row0_col3, #T_fe5b1_row0_col4, #T_fe5b1_row0_col5, #T_fe5b1_row0_col6, #T_fe5b1_row0_col7, #T_fe5b1_row0_col8, #T_fe5b1_row1_col0, #T_fe5b1_row1_col1, #T_fe5b1_row1_col2, #T_fe5b1_row1_col3, #T_fe5b1_row1_col4, #T_fe5b1_row1_col5, #T_fe5b1_row1_col6, #T_fe5b1_row1_col7, #T_fe5b1_row1_col8, #T_fe5b1_row2_col0, #T_fe5b1_row2_col1, #T_fe5b1_row2_col2, #T_fe5b1_row2_col3, #T_fe5b1_row2_col4, #T_fe5b1_row2_col5, #T_fe5b1_row2_col6, #T_fe5b1_row2_col7, #T_fe5b1_row2_col8, #T_fe5b1_row3_col0, #T_fe5b1_row3_col1, #T_fe5b1_row3_col2, #T_fe5b1_row3_col3, #T_fe5b1_row3_col4, #T_fe5b1_row3_col5, #T_fe5b1_row3_col6, #T_fe5b1_row3_col7, #T_fe5b1_row3_col8, #T_fe5b1_row4_col0, #T_fe5b1_row4_col1, #T_fe5b1_row4_col2, #T_fe5b1_row4_col3, #T_fe5b1_row4_col4, #T_fe5b1_row4_col5, #T_fe5b1_row4_col6, #T_fe5b1_row4_col7, #T_fe5b1_row4_col8, #T_fe5b1_row5_col0, #T_fe5b1_row5_col1, #T_fe5b1_row5_col2, #T_fe5b1_row5_col3, #T_fe5b1_row5_col4, #T_fe5b1_row5_col5, #T_fe5b1_row5_col6, #T_fe5b1_row5_col7, #T_fe5b1_row5_col8, #T_fe5b1_row6_col0, #T_fe5b1_row6_col1, #T_fe5b1_row6_col2, #T_fe5b1_row6_col3, #T_fe5b1_row6_col4, #T_fe5b1_row6_col5, #T_fe5b1_row6_col6, #T_fe5b1_row6_col7, #T_fe5b1_row6_col8, #T_fe5b1_row7_col0, #T_fe5b1_row7_col1, #T_fe5b1_row7_col2, #T_fe5b1_row7_col3, #T_fe5b1_row7_col4, #T_fe5b1_row7_col5, #T_fe5b1_row7_col6, #T_fe5b1_row7_col7, #T_fe5b1_row7_col8, #T_fe5b1_row8_col0, #T_fe5b1_row8_col1, #T_fe5b1_row8_col2, #T_fe5b1_row8_col3, #T_fe5b1_row8_col4, #T_fe5b1_row8_col5, #T_fe5b1_row8_col6, #T_fe5b1_row8_col7, #T_fe5b1_row8_col8, #T_fe5b1_row9_col0, #T_fe5b1_row9_col1, #T_fe5b1_row9_col2, #T_fe5b1_row9_col3, #T_fe5b1_row9_col4, #T_fe5b1_row9_col5, #T_fe5b1_row9_col6, #T_fe5b1_row9_col7, #T_fe5b1_row9_col8, #T_fe5b1_row10_col0, #T_fe5b1_row10_col1, #T_fe5b1_row10_col2, #T_fe5b1_row10_col3, #T_fe5b1_row10_col4, #T_fe5b1_row10_col5, #T_fe5b1_row10_col6, #T_fe5b1_row10_col7, #T_fe5b1_row10_col8 {\n",
              "  text-align: left;\n",
              "}\n",
              "</style>\n",
              "<table id=\"T_fe5b1\" class=\"dataframe\">\n",
              "  <thead>\n",
              "    <tr>\n",
              "      <th class=\"blank level0\" >&nbsp;</th>\n",
              "      <th id=\"T_fe5b1_level0_col0\" class=\"col_heading level0 col0\" >Model</th>\n",
              "      <th id=\"T_fe5b1_level0_col1\" class=\"col_heading level0 col1\" >Accuracy</th>\n",
              "      <th id=\"T_fe5b1_level0_col2\" class=\"col_heading level0 col2\" >AUC</th>\n",
              "      <th id=\"T_fe5b1_level0_col3\" class=\"col_heading level0 col3\" >Recall</th>\n",
              "      <th id=\"T_fe5b1_level0_col4\" class=\"col_heading level0 col4\" >Prec.</th>\n",
              "      <th id=\"T_fe5b1_level0_col5\" class=\"col_heading level0 col5\" >F1</th>\n",
              "      <th id=\"T_fe5b1_level0_col6\" class=\"col_heading level0 col6\" >Kappa</th>\n",
              "      <th id=\"T_fe5b1_level0_col7\" class=\"col_heading level0 col7\" >MCC</th>\n",
              "      <th id=\"T_fe5b1_level0_col8\" class=\"col_heading level0 col8\" >TT (Sec)</th>\n",
              "    </tr>\n",
              "  </thead>\n",
              "  <tbody>\n",
              "    <tr>\n",
              "      <th id=\"T_fe5b1_level0_row0\" class=\"row_heading level0 row0\" >gbc</th>\n",
              "      <td id=\"T_fe5b1_row0_col0\" class=\"data row0 col0\" >Gradient Boosting Classifier</td>\n",
              "      <td id=\"T_fe5b1_row0_col1\" class=\"data row0 col1\" >0.8666</td>\n",
              "      <td id=\"T_fe5b1_row0_col2\" class=\"data row0 col2\" >0.8301</td>\n",
              "      <td id=\"T_fe5b1_row0_col3\" class=\"data row0 col3\" >0.1684</td>\n",
              "      <td id=\"T_fe5b1_row0_col4\" class=\"data row0 col4\" >0.5730</td>\n",
              "      <td id=\"T_fe5b1_row0_col5\" class=\"data row0 col5\" >0.2602</td>\n",
              "      <td id=\"T_fe5b1_row0_col6\" class=\"data row0 col6\" >0.2103</td>\n",
              "      <td id=\"T_fe5b1_row0_col7\" class=\"data row0 col7\" >0.2587</td>\n",
              "      <td id=\"T_fe5b1_row0_col8\" class=\"data row0 col8\" >18.6960</td>\n",
              "    </tr>\n",
              "    <tr>\n",
              "      <th id=\"T_fe5b1_level0_row1\" class=\"row_heading level0 row1\" >ada</th>\n",
              "      <td id=\"T_fe5b1_row1_col0\" class=\"data row1 col0\" >Ada Boost Classifier</td>\n",
              "      <td id=\"T_fe5b1_row1_col1\" class=\"data row1 col1\" >0.8652</td>\n",
              "      <td id=\"T_fe5b1_row1_col2\" class=\"data row1 col2\" >0.8267</td>\n",
              "      <td id=\"T_fe5b1_row1_col3\" class=\"data row1 col3\" >0.1905</td>\n",
              "      <td id=\"T_fe5b1_row1_col4\" class=\"data row1 col4\" >0.5471</td>\n",
              "      <td id=\"T_fe5b1_row1_col5\" class=\"data row1 col5\" >0.2825</td>\n",
              "      <td id=\"T_fe5b1_row1_col6\" class=\"data row1 col6\" >0.2269</td>\n",
              "      <td id=\"T_fe5b1_row1_col7\" class=\"data row1 col7\" >0.2658</td>\n",
              "      <td id=\"T_fe5b1_row1_col8\" class=\"data row1 col8\" >4.5080</td>\n",
              "    </tr>\n",
              "    <tr>\n",
              "      <th id=\"T_fe5b1_level0_row2\" class=\"row_heading level0 row2\" >lr</th>\n",
              "      <td id=\"T_fe5b1_row2_col0\" class=\"data row2 col0\" >Logistic Regression</td>\n",
              "      <td id=\"T_fe5b1_row2_col1\" class=\"data row2 col1\" >0.8640</td>\n",
              "      <td id=\"T_fe5b1_row2_col2\" class=\"data row2 col2\" >0.8225</td>\n",
              "      <td id=\"T_fe5b1_row2_col3\" class=\"data row2 col3\" >0.1606</td>\n",
              "      <td id=\"T_fe5b1_row2_col4\" class=\"data row2 col4\" >0.5401</td>\n",
              "      <td id=\"T_fe5b1_row2_col5\" class=\"data row2 col5\" >0.2475</td>\n",
              "      <td id=\"T_fe5b1_row2_col6\" class=\"data row2 col6\" >0.1962</td>\n",
              "      <td id=\"T_fe5b1_row2_col7\" class=\"data row2 col7\" >0.2406</td>\n",
              "      <td id=\"T_fe5b1_row2_col8\" class=\"data row2 col8\" >6.7860</td>\n",
              "    </tr>\n",
              "    <tr>\n",
              "      <th id=\"T_fe5b1_level0_row3\" class=\"row_heading level0 row3\" >ridge</th>\n",
              "      <td id=\"T_fe5b1_row3_col0\" class=\"data row3 col0\" >Ridge Classifier</td>\n",
              "      <td id=\"T_fe5b1_row3_col1\" class=\"data row3 col1\" >0.8628</td>\n",
              "      <td id=\"T_fe5b1_row3_col2\" class=\"data row3 col2\" >0.8196</td>\n",
              "      <td id=\"T_fe5b1_row3_col3\" class=\"data row3 col3\" >0.0408</td>\n",
              "      <td id=\"T_fe5b1_row3_col4\" class=\"data row3 col4\" >0.6138</td>\n",
              "      <td id=\"T_fe5b1_row3_col5\" class=\"data row3 col5\" >0.0765</td>\n",
              "      <td id=\"T_fe5b1_row3_col6\" class=\"data row3 col6\" >0.0602</td>\n",
              "      <td id=\"T_fe5b1_row3_col7\" class=\"data row3 col7\" >0.1324</td>\n",
              "      <td id=\"T_fe5b1_row3_col8\" class=\"data row3 col8\" >0.4190</td>\n",
              "    </tr>\n",
              "    <tr>\n",
              "      <th id=\"T_fe5b1_level0_row4\" class=\"row_heading level0 row4\" >lda</th>\n",
              "      <td id=\"T_fe5b1_row4_col0\" class=\"data row4 col0\" >Linear Discriminant Analysis</td>\n",
              "      <td id=\"T_fe5b1_row4_col1\" class=\"data row4 col1\" >0.8619</td>\n",
              "      <td id=\"T_fe5b1_row4_col2\" class=\"data row4 col2\" >0.8196</td>\n",
              "      <td id=\"T_fe5b1_row4_col3\" class=\"data row4 col3\" >0.2094</td>\n",
              "      <td id=\"T_fe5b1_row4_col4\" class=\"data row4 col4\" >0.5108</td>\n",
              "      <td id=\"T_fe5b1_row4_col5\" class=\"data row4 col5\" >0.2970</td>\n",
              "      <td id=\"T_fe5b1_row4_col6\" class=\"data row4 col6\" >0.2350</td>\n",
              "      <td id=\"T_fe5b1_row4_col7\" class=\"data row4 col7\" >0.2640</td>\n",
              "      <td id=\"T_fe5b1_row4_col8\" class=\"data row4 col8\" >0.4180</td>\n",
              "    </tr>\n",
              "    <tr>\n",
              "      <th id=\"T_fe5b1_level0_row5\" class=\"row_heading level0 row5\" >svm</th>\n",
              "      <td id=\"T_fe5b1_row5_col0\" class=\"data row5 col0\" >SVM - Linear Kernel</td>\n",
              "      <td id=\"T_fe5b1_row5_col1\" class=\"data row5 col1\" >0.8602</td>\n",
              "      <td id=\"T_fe5b1_row5_col2\" class=\"data row5 col2\" >0.8020</td>\n",
              "      <td id=\"T_fe5b1_row5_col3\" class=\"data row5 col3\" >0.0786</td>\n",
              "      <td id=\"T_fe5b1_row5_col4\" class=\"data row5 col4\" >0.4679</td>\n",
              "      <td id=\"T_fe5b1_row5_col5\" class=\"data row5 col5\" >0.1191</td>\n",
              "      <td id=\"T_fe5b1_row5_col6\" class=\"data row5 col6\" >0.0913</td>\n",
              "      <td id=\"T_fe5b1_row5_col7\" class=\"data row5 col7\" >0.1241</td>\n",
              "      <td id=\"T_fe5b1_row5_col8\" class=\"data row5 col8\" >3.6020</td>\n",
              "    </tr>\n",
              "    <tr>\n",
              "      <th id=\"T_fe5b1_level0_row6\" class=\"row_heading level0 row6\" >rf</th>\n",
              "      <td id=\"T_fe5b1_row6_col0\" class=\"data row6 col0\" >Random Forest Classifier</td>\n",
              "      <td id=\"T_fe5b1_row6_col1\" class=\"data row6 col1\" >0.8599</td>\n",
              "      <td id=\"T_fe5b1_row6_col2\" class=\"data row6 col2\" >0.7994</td>\n",
              "      <td id=\"T_fe5b1_row6_col3\" class=\"data row6 col3\" >0.1714</td>\n",
              "      <td id=\"T_fe5b1_row6_col4\" class=\"data row6 col4\" >0.4923</td>\n",
              "      <td id=\"T_fe5b1_row6_col5\" class=\"data row6 col5\" >0.2542</td>\n",
              "      <td id=\"T_fe5b1_row6_col6\" class=\"data row6 col6\" >0.1964</td>\n",
              "      <td id=\"T_fe5b1_row6_col7\" class=\"data row6 col7\" >0.2301</td>\n",
              "      <td id=\"T_fe5b1_row6_col8\" class=\"data row6 col8\" >21.9160</td>\n",
              "    </tr>\n",
              "    <tr>\n",
              "      <th id=\"T_fe5b1_level0_row7\" class=\"row_heading level0 row7\" >knn</th>\n",
              "      <td id=\"T_fe5b1_row7_col0\" class=\"data row7 col0\" >K Neighbors Classifier</td>\n",
              "      <td id=\"T_fe5b1_row7_col1\" class=\"data row7 col1\" >0.8481</td>\n",
              "      <td id=\"T_fe5b1_row7_col2\" class=\"data row7 col2\" >0.7139</td>\n",
              "      <td id=\"T_fe5b1_row7_col3\" class=\"data row7 col3\" >0.1934</td>\n",
              "      <td id=\"T_fe5b1_row7_col4\" class=\"data row7 col4\" >0.4052</td>\n",
              "      <td id=\"T_fe5b1_row7_col5\" class=\"data row7 col5\" >0.2618</td>\n",
              "      <td id=\"T_fe5b1_row7_col6\" class=\"data row7 col6\" >0.1888</td>\n",
              "      <td id=\"T_fe5b1_row7_col7\" class=\"data row7 col7\" >0.2050</td>\n",
              "      <td id=\"T_fe5b1_row7_col8\" class=\"data row7 col8\" >28.6390</td>\n",
              "    </tr>\n",
              "    <tr>\n",
              "      <th id=\"T_fe5b1_level0_row8\" class=\"row_heading level0 row8\" >dt</th>\n",
              "      <td id=\"T_fe5b1_row8_col0\" class=\"data row8 col0\" >Decision Tree Classifier</td>\n",
              "      <td id=\"T_fe5b1_row8_col1\" class=\"data row8 col1\" >0.7970</td>\n",
              "      <td id=\"T_fe5b1_row8_col2\" class=\"data row8 col2\" >0.5986</td>\n",
              "      <td id=\"T_fe5b1_row8_col3\" class=\"data row8 col3\" >0.3248</td>\n",
              "      <td id=\"T_fe5b1_row8_col4\" class=\"data row8 col4\" >0.2936</td>\n",
              "      <td id=\"T_fe5b1_row8_col5\" class=\"data row8 col5\" >0.3084</td>\n",
              "      <td id=\"T_fe5b1_row8_col6\" class=\"data row8 col6\" >0.1898</td>\n",
              "      <td id=\"T_fe5b1_row8_col7\" class=\"data row8 col7\" >0.1902</td>\n",
              "      <td id=\"T_fe5b1_row8_col8\" class=\"data row8 col8\" >0.9610</td>\n",
              "    </tr>\n",
              "    <tr>\n",
              "      <th id=\"T_fe5b1_level0_row9\" class=\"row_heading level0 row9\" >nb</th>\n",
              "      <td id=\"T_fe5b1_row9_col0\" class=\"data row9 col0\" >Naive Bayes</td>\n",
              "      <td id=\"T_fe5b1_row9_col1\" class=\"data row9 col1\" >0.7742</td>\n",
              "      <td id=\"T_fe5b1_row9_col2\" class=\"data row9 col2\" >0.7842</td>\n",
              "      <td id=\"T_fe5b1_row9_col3\" class=\"data row9 col3\" >0.5720</td>\n",
              "      <td id=\"T_fe5b1_row9_col4\" class=\"data row9 col4\" >0.3242</td>\n",
              "      <td id=\"T_fe5b1_row9_col5\" class=\"data row9 col5\" >0.4138</td>\n",
              "      <td id=\"T_fe5b1_row9_col6\" class=\"data row9 col6\" >0.2870</td>\n",
              "      <td id=\"T_fe5b1_row9_col7\" class=\"data row9 col7\" >0.3048</td>\n",
              "      <td id=\"T_fe5b1_row9_col8\" class=\"data row9 col8\" >0.3390</td>\n",
              "    </tr>\n",
              "    <tr>\n",
              "      <th id=\"T_fe5b1_level0_row10\" class=\"row_heading level0 row10\" >qda</th>\n",
              "      <td id=\"T_fe5b1_row10_col0\" class=\"data row10 col0\" >Quadratic Discriminant Analysis</td>\n",
              "      <td id=\"T_fe5b1_row10_col1\" class=\"data row10 col1\" >0.7704</td>\n",
              "      <td id=\"T_fe5b1_row10_col2\" class=\"data row10 col2\" >0.7807</td>\n",
              "      <td id=\"T_fe5b1_row10_col3\" class=\"data row10 col3\" >0.5567</td>\n",
              "      <td id=\"T_fe5b1_row10_col4\" class=\"data row10 col4\" >0.3161</td>\n",
              "      <td id=\"T_fe5b1_row10_col5\" class=\"data row10 col5\" >0.4032</td>\n",
              "      <td id=\"T_fe5b1_row10_col6\" class=\"data row10 col6\" >0.2742</td>\n",
              "      <td id=\"T_fe5b1_row10_col7\" class=\"data row10 col7\" >0.2911</td>\n",
              "      <td id=\"T_fe5b1_row10_col8\" class=\"data row10 col8\" >0.5460</td>\n",
              "    </tr>\n",
              "  </tbody>\n",
              "</table>\n"
            ],
            "text/plain": [
              "<pandas.io.formats.style.Styler at 0x7d13f74071c0>"
            ]
          },
          "metadata": {},
          "output_type": "display_data"
        },
        {
          "data": {
            "application/vnd.jupyter.widget-view+json": {
              "model_id": "2c1ebb94d7da430082bbe00f7c529532",
              "version_major": 2,
              "version_minor": 0
            },
            "text/plain": [
              "Processing:   0%|          | 0/65 [00:00<?, ?it/s]"
            ]
          },
          "metadata": {
            "application/vnd.jupyter.widget-view+json": {
              "colab": {
                "custom_widget_manager": {
                  "url": "https://ssl.gstatic.com/colaboratory-static/widgets/colab-cdn-widget-manager/2b70e893a8ba7c0f/manager.min.js"
                }
              }
            }
          },
          "output_type": "display_data"
        },
        {
          "output_type": "display_data",
          "data": {
            "text/plain": [
              "<pandas.io.formats.style.Styler at 0x7d13588856f0>"
            ],
            "text/html": [
              "<style type=\"text/css\">\n",
              "#T_d66a9 th {\n",
              "  text-align: left;\n",
              "}\n",
              "#T_d66a9_row0_col0, #T_d66a9_row0_col3, #T_d66a9_row0_col4, #T_d66a9_row0_col5, #T_d66a9_row0_col6, #T_d66a9_row0_col7, #T_d66a9_row1_col0, #T_d66a9_row1_col1, #T_d66a9_row1_col2, #T_d66a9_row1_col3, #T_d66a9_row1_col4, #T_d66a9_row1_col5, #T_d66a9_row1_col6, #T_d66a9_row1_col7, #T_d66a9_row2_col0, #T_d66a9_row2_col1, #T_d66a9_row2_col2, #T_d66a9_row2_col3, #T_d66a9_row2_col4, #T_d66a9_row2_col5, #T_d66a9_row2_col6, #T_d66a9_row2_col7, #T_d66a9_row3_col0, #T_d66a9_row3_col1, #T_d66a9_row3_col2, #T_d66a9_row3_col3, #T_d66a9_row3_col4, #T_d66a9_row3_col5, #T_d66a9_row3_col6, #T_d66a9_row3_col7, #T_d66a9_row4_col0, #T_d66a9_row4_col1, #T_d66a9_row4_col2, #T_d66a9_row4_col3, #T_d66a9_row4_col4, #T_d66a9_row4_col5, #T_d66a9_row4_col6, #T_d66a9_row4_col7, #T_d66a9_row5_col0, #T_d66a9_row5_col1, #T_d66a9_row5_col2, #T_d66a9_row5_col3, #T_d66a9_row5_col5, #T_d66a9_row5_col6, #T_d66a9_row5_col7, #T_d66a9_row6_col0, #T_d66a9_row6_col1, #T_d66a9_row6_col2, #T_d66a9_row6_col3, #T_d66a9_row6_col4, #T_d66a9_row6_col5, #T_d66a9_row6_col6, #T_d66a9_row6_col7, #T_d66a9_row7_col0, #T_d66a9_row7_col1, #T_d66a9_row7_col2, #T_d66a9_row7_col3, #T_d66a9_row7_col4, #T_d66a9_row7_col5, #T_d66a9_row7_col6, #T_d66a9_row7_col7, #T_d66a9_row8_col0, #T_d66a9_row8_col1, #T_d66a9_row8_col2, #T_d66a9_row8_col3, #T_d66a9_row8_col4, #T_d66a9_row8_col5, #T_d66a9_row8_col6, #T_d66a9_row8_col7, #T_d66a9_row9_col0, #T_d66a9_row9_col1, #T_d66a9_row9_col2, #T_d66a9_row9_col3, #T_d66a9_row9_col4, #T_d66a9_row9_col5, #T_d66a9_row9_col6, #T_d66a9_row9_col7, #T_d66a9_row10_col0, #T_d66a9_row10_col1, #T_d66a9_row10_col2, #T_d66a9_row10_col3, #T_d66a9_row10_col4, #T_d66a9_row10_col5, #T_d66a9_row10_col6, #T_d66a9_row10_col7, #T_d66a9_row11_col0, #T_d66a9_row11_col1, #T_d66a9_row11_col2, #T_d66a9_row11_col3, #T_d66a9_row11_col4, #T_d66a9_row11_col5, #T_d66a9_row11_col6, #T_d66a9_row11_col7, #T_d66a9_row12_col0, #T_d66a9_row12_col1, #T_d66a9_row12_col2, #T_d66a9_row12_col3, #T_d66a9_row12_col4, #T_d66a9_row12_col5, #T_d66a9_row12_col6, #T_d66a9_row12_col7, #T_d66a9_row13_col0, #T_d66a9_row13_col1, #T_d66a9_row13_col2, #T_d66a9_row13_col4, #T_d66a9_row14_col0, #T_d66a9_row14_col1, #T_d66a9_row14_col2, #T_d66a9_row14_col3, #T_d66a9_row14_col4, #T_d66a9_row14_col5, #T_d66a9_row14_col6, #T_d66a9_row14_col7 {\n",
              "  text-align: left;\n",
              "}\n",
              "#T_d66a9_row0_col1, #T_d66a9_row0_col2, #T_d66a9_row5_col4, #T_d66a9_row13_col3, #T_d66a9_row13_col5, #T_d66a9_row13_col6, #T_d66a9_row13_col7 {\n",
              "  text-align: left;\n",
              "  background-color: yellow;\n",
              "}\n",
              "#T_d66a9_row0_col8, #T_d66a9_row1_col8, #T_d66a9_row2_col8, #T_d66a9_row3_col8, #T_d66a9_row4_col8, #T_d66a9_row5_col8, #T_d66a9_row6_col8, #T_d66a9_row8_col8, #T_d66a9_row9_col8, #T_d66a9_row10_col8, #T_d66a9_row11_col8, #T_d66a9_row12_col8, #T_d66a9_row13_col8, #T_d66a9_row14_col8 {\n",
              "  text-align: left;\n",
              "  background-color: lightgrey;\n",
              "}\n",
              "#T_d66a9_row7_col8 {\n",
              "  text-align: left;\n",
              "  background-color: yellow;\n",
              "  background-color: lightgrey;\n",
              "}\n",
              "</style>\n",
              "<table id=\"T_d66a9\" class=\"dataframe\">\n",
              "  <thead>\n",
              "    <tr>\n",
              "      <th class=\"blank level0\" >&nbsp;</th>\n",
              "      <th id=\"T_d66a9_level0_col0\" class=\"col_heading level0 col0\" >Model</th>\n",
              "      <th id=\"T_d66a9_level0_col1\" class=\"col_heading level0 col1\" >Accuracy</th>\n",
              "      <th id=\"T_d66a9_level0_col2\" class=\"col_heading level0 col2\" >AUC</th>\n",
              "      <th id=\"T_d66a9_level0_col3\" class=\"col_heading level0 col3\" >Recall</th>\n",
              "      <th id=\"T_d66a9_level0_col4\" class=\"col_heading level0 col4\" >Prec.</th>\n",
              "      <th id=\"T_d66a9_level0_col5\" class=\"col_heading level0 col5\" >F1</th>\n",
              "      <th id=\"T_d66a9_level0_col6\" class=\"col_heading level0 col6\" >Kappa</th>\n",
              "      <th id=\"T_d66a9_level0_col7\" class=\"col_heading level0 col7\" >MCC</th>\n",
              "      <th id=\"T_d66a9_level0_col8\" class=\"col_heading level0 col8\" >TT (Sec)</th>\n",
              "    </tr>\n",
              "  </thead>\n",
              "  <tbody>\n",
              "    <tr>\n",
              "      <th id=\"T_d66a9_level0_row0\" class=\"row_heading level0 row0\" >lightgbm</th>\n",
              "      <td id=\"T_d66a9_row0_col0\" class=\"data row0 col0\" >Light Gradient Boosting Machine</td>\n",
              "      <td id=\"T_d66a9_row0_col1\" class=\"data row0 col1\" >0.8668</td>\n",
              "      <td id=\"T_d66a9_row0_col2\" class=\"data row0 col2\" >0.8303</td>\n",
              "      <td id=\"T_d66a9_row0_col3\" class=\"data row0 col3\" >0.1624</td>\n",
              "      <td id=\"T_d66a9_row0_col4\" class=\"data row0 col4\" >0.5779</td>\n",
              "      <td id=\"T_d66a9_row0_col5\" class=\"data row0 col5\" >0.2535</td>\n",
              "      <td id=\"T_d66a9_row0_col6\" class=\"data row0 col6\" >0.2049</td>\n",
              "      <td id=\"T_d66a9_row0_col7\" class=\"data row0 col7\" >0.2556</td>\n",
              "      <td id=\"T_d66a9_row0_col8\" class=\"data row0 col8\" >11.0010</td>\n",
              "    </tr>\n",
              "    <tr>\n",
              "      <th id=\"T_d66a9_level0_row1\" class=\"row_heading level0 row1\" >gbc</th>\n",
              "      <td id=\"T_d66a9_row1_col0\" class=\"data row1 col0\" >Gradient Boosting Classifier</td>\n",
              "      <td id=\"T_d66a9_row1_col1\" class=\"data row1 col1\" >0.8666</td>\n",
              "      <td id=\"T_d66a9_row1_col2\" class=\"data row1 col2\" >0.8301</td>\n",
              "      <td id=\"T_d66a9_row1_col3\" class=\"data row1 col3\" >0.1684</td>\n",
              "      <td id=\"T_d66a9_row1_col4\" class=\"data row1 col4\" >0.5730</td>\n",
              "      <td id=\"T_d66a9_row1_col5\" class=\"data row1 col5\" >0.2602</td>\n",
              "      <td id=\"T_d66a9_row1_col6\" class=\"data row1 col6\" >0.2103</td>\n",
              "      <td id=\"T_d66a9_row1_col7\" class=\"data row1 col7\" >0.2587</td>\n",
              "      <td id=\"T_d66a9_row1_col8\" class=\"data row1 col8\" >18.6960</td>\n",
              "    </tr>\n",
              "    <tr>\n",
              "      <th id=\"T_d66a9_level0_row2\" class=\"row_heading level0 row2\" >xgboost</th>\n",
              "      <td id=\"T_d66a9_row2_col0\" class=\"data row2 col0\" >Extreme Gradient Boosting</td>\n",
              "      <td id=\"T_d66a9_row2_col1\" class=\"data row2 col1\" >0.8654</td>\n",
              "      <td id=\"T_d66a9_row2_col2\" class=\"data row2 col2\" >0.8257</td>\n",
              "      <td id=\"T_d66a9_row2_col3\" class=\"data row2 col3\" >0.1759</td>\n",
              "      <td id=\"T_d66a9_row2_col4\" class=\"data row2 col4\" >0.5535</td>\n",
              "      <td id=\"T_d66a9_row2_col5\" class=\"data row2 col5\" >0.2669</td>\n",
              "      <td id=\"T_d66a9_row2_col6\" class=\"data row2 col6\" >0.2141</td>\n",
              "      <td id=\"T_d66a9_row2_col7\" class=\"data row2 col7\" >0.2574</td>\n",
              "      <td id=\"T_d66a9_row2_col8\" class=\"data row2 col8\" >2.6670</td>\n",
              "    </tr>\n",
              "    <tr>\n",
              "      <th id=\"T_d66a9_level0_row3\" class=\"row_heading level0 row3\" >ada</th>\n",
              "      <td id=\"T_d66a9_row3_col0\" class=\"data row3 col0\" >Ada Boost Classifier</td>\n",
              "      <td id=\"T_d66a9_row3_col1\" class=\"data row3 col1\" >0.8652</td>\n",
              "      <td id=\"T_d66a9_row3_col2\" class=\"data row3 col2\" >0.8267</td>\n",
              "      <td id=\"T_d66a9_row3_col3\" class=\"data row3 col3\" >0.1905</td>\n",
              "      <td id=\"T_d66a9_row3_col4\" class=\"data row3 col4\" >0.5471</td>\n",
              "      <td id=\"T_d66a9_row3_col5\" class=\"data row3 col5\" >0.2825</td>\n",
              "      <td id=\"T_d66a9_row3_col6\" class=\"data row3 col6\" >0.2269</td>\n",
              "      <td id=\"T_d66a9_row3_col7\" class=\"data row3 col7\" >0.2658</td>\n",
              "      <td id=\"T_d66a9_row3_col8\" class=\"data row3 col8\" >4.5080</td>\n",
              "    </tr>\n",
              "    <tr>\n",
              "      <th id=\"T_d66a9_level0_row4\" class=\"row_heading level0 row4\" >lr</th>\n",
              "      <td id=\"T_d66a9_row4_col0\" class=\"data row4 col0\" >Logistic Regression</td>\n",
              "      <td id=\"T_d66a9_row4_col1\" class=\"data row4 col1\" >0.8640</td>\n",
              "      <td id=\"T_d66a9_row4_col2\" class=\"data row4 col2\" >0.8225</td>\n",
              "      <td id=\"T_d66a9_row4_col3\" class=\"data row4 col3\" >0.1606</td>\n",
              "      <td id=\"T_d66a9_row4_col4\" class=\"data row4 col4\" >0.5401</td>\n",
              "      <td id=\"T_d66a9_row4_col5\" class=\"data row4 col5\" >0.2475</td>\n",
              "      <td id=\"T_d66a9_row4_col6\" class=\"data row4 col6\" >0.1962</td>\n",
              "      <td id=\"T_d66a9_row4_col7\" class=\"data row4 col7\" >0.2406</td>\n",
              "      <td id=\"T_d66a9_row4_col8\" class=\"data row4 col8\" >6.7860</td>\n",
              "    </tr>\n",
              "    <tr>\n",
              "      <th id=\"T_d66a9_level0_row5\" class=\"row_heading level0 row5\" >ridge</th>\n",
              "      <td id=\"T_d66a9_row5_col0\" class=\"data row5 col0\" >Ridge Classifier</td>\n",
              "      <td id=\"T_d66a9_row5_col1\" class=\"data row5 col1\" >0.8628</td>\n",
              "      <td id=\"T_d66a9_row5_col2\" class=\"data row5 col2\" >0.8196</td>\n",
              "      <td id=\"T_d66a9_row5_col3\" class=\"data row5 col3\" >0.0408</td>\n",
              "      <td id=\"T_d66a9_row5_col4\" class=\"data row5 col4\" >0.6138</td>\n",
              "      <td id=\"T_d66a9_row5_col5\" class=\"data row5 col5\" >0.0765</td>\n",
              "      <td id=\"T_d66a9_row5_col6\" class=\"data row5 col6\" >0.0602</td>\n",
              "      <td id=\"T_d66a9_row5_col7\" class=\"data row5 col7\" >0.1324</td>\n",
              "      <td id=\"T_d66a9_row5_col8\" class=\"data row5 col8\" >0.4190</td>\n",
              "    </tr>\n",
              "    <tr>\n",
              "      <th id=\"T_d66a9_level0_row6\" class=\"row_heading level0 row6\" >lda</th>\n",
              "      <td id=\"T_d66a9_row6_col0\" class=\"data row6 col0\" >Linear Discriminant Analysis</td>\n",
              "      <td id=\"T_d66a9_row6_col1\" class=\"data row6 col1\" >0.8619</td>\n",
              "      <td id=\"T_d66a9_row6_col2\" class=\"data row6 col2\" >0.8196</td>\n",
              "      <td id=\"T_d66a9_row6_col3\" class=\"data row6 col3\" >0.2094</td>\n",
              "      <td id=\"T_d66a9_row6_col4\" class=\"data row6 col4\" >0.5108</td>\n",
              "      <td id=\"T_d66a9_row6_col5\" class=\"data row6 col5\" >0.2970</td>\n",
              "      <td id=\"T_d66a9_row6_col6\" class=\"data row6 col6\" >0.2350</td>\n",
              "      <td id=\"T_d66a9_row6_col7\" class=\"data row6 col7\" >0.2640</td>\n",
              "      <td id=\"T_d66a9_row6_col8\" class=\"data row6 col8\" >0.4180</td>\n",
              "    </tr>\n",
              "    <tr>\n",
              "      <th id=\"T_d66a9_level0_row7\" class=\"row_heading level0 row7\" >dummy</th>\n",
              "      <td id=\"T_d66a9_row7_col0\" class=\"data row7 col0\" >Dummy Classifier</td>\n",
              "      <td id=\"T_d66a9_row7_col1\" class=\"data row7 col1\" >0.8607</td>\n",
              "      <td id=\"T_d66a9_row7_col2\" class=\"data row7 col2\" >0.5000</td>\n",
              "      <td id=\"T_d66a9_row7_col3\" class=\"data row7 col3\" >0.0000</td>\n",
              "      <td id=\"T_d66a9_row7_col4\" class=\"data row7 col4\" >0.0000</td>\n",
              "      <td id=\"T_d66a9_row7_col5\" class=\"data row7 col5\" >0.0000</td>\n",
              "      <td id=\"T_d66a9_row7_col6\" class=\"data row7 col6\" >0.0000</td>\n",
              "      <td id=\"T_d66a9_row7_col7\" class=\"data row7 col7\" >0.0000</td>\n",
              "      <td id=\"T_d66a9_row7_col8\" class=\"data row7 col8\" >0.2370</td>\n",
              "    </tr>\n",
              "    <tr>\n",
              "      <th id=\"T_d66a9_level0_row8\" class=\"row_heading level0 row8\" >svm</th>\n",
              "      <td id=\"T_d66a9_row8_col0\" class=\"data row8 col0\" >SVM - Linear Kernel</td>\n",
              "      <td id=\"T_d66a9_row8_col1\" class=\"data row8 col1\" >0.8602</td>\n",
              "      <td id=\"T_d66a9_row8_col2\" class=\"data row8 col2\" >0.8020</td>\n",
              "      <td id=\"T_d66a9_row8_col3\" class=\"data row8 col3\" >0.0786</td>\n",
              "      <td id=\"T_d66a9_row8_col4\" class=\"data row8 col4\" >0.4679</td>\n",
              "      <td id=\"T_d66a9_row8_col5\" class=\"data row8 col5\" >0.1191</td>\n",
              "      <td id=\"T_d66a9_row8_col6\" class=\"data row8 col6\" >0.0913</td>\n",
              "      <td id=\"T_d66a9_row8_col7\" class=\"data row8 col7\" >0.1241</td>\n",
              "      <td id=\"T_d66a9_row8_col8\" class=\"data row8 col8\" >3.6020</td>\n",
              "    </tr>\n",
              "    <tr>\n",
              "      <th id=\"T_d66a9_level0_row9\" class=\"row_heading level0 row9\" >rf</th>\n",
              "      <td id=\"T_d66a9_row9_col0\" class=\"data row9 col0\" >Random Forest Classifier</td>\n",
              "      <td id=\"T_d66a9_row9_col1\" class=\"data row9 col1\" >0.8599</td>\n",
              "      <td id=\"T_d66a9_row9_col2\" class=\"data row9 col2\" >0.7994</td>\n",
              "      <td id=\"T_d66a9_row9_col3\" class=\"data row9 col3\" >0.1714</td>\n",
              "      <td id=\"T_d66a9_row9_col4\" class=\"data row9 col4\" >0.4923</td>\n",
              "      <td id=\"T_d66a9_row9_col5\" class=\"data row9 col5\" >0.2542</td>\n",
              "      <td id=\"T_d66a9_row9_col6\" class=\"data row9 col6\" >0.1964</td>\n",
              "      <td id=\"T_d66a9_row9_col7\" class=\"data row9 col7\" >0.2301</td>\n",
              "      <td id=\"T_d66a9_row9_col8\" class=\"data row9 col8\" >21.9160</td>\n",
              "    </tr>\n",
              "    <tr>\n",
              "      <th id=\"T_d66a9_level0_row10\" class=\"row_heading level0 row10\" >et</th>\n",
              "      <td id=\"T_d66a9_row10_col0\" class=\"data row10 col0\" >Extra Trees Classifier</td>\n",
              "      <td id=\"T_d66a9_row10_col1\" class=\"data row10 col1\" >0.8524</td>\n",
              "      <td id=\"T_d66a9_row10_col2\" class=\"data row10 col2\" >0.7780</td>\n",
              "      <td id=\"T_d66a9_row10_col3\" class=\"data row10 col3\" >0.1778</td>\n",
              "      <td id=\"T_d66a9_row10_col4\" class=\"data row10 col4\" >0.4287</td>\n",
              "      <td id=\"T_d66a9_row10_col5\" class=\"data row10 col5\" >0.2513</td>\n",
              "      <td id=\"T_d66a9_row10_col6\" class=\"data row10 col6\" >0.1847</td>\n",
              "      <td id=\"T_d66a9_row10_col7\" class=\"data row10 col7\" >0.2069</td>\n",
              "      <td id=\"T_d66a9_row10_col8\" class=\"data row10 col8\" >27.4080</td>\n",
              "    </tr>\n",
              "    <tr>\n",
              "      <th id=\"T_d66a9_level0_row11\" class=\"row_heading level0 row11\" >knn</th>\n",
              "      <td id=\"T_d66a9_row11_col0\" class=\"data row11 col0\" >K Neighbors Classifier</td>\n",
              "      <td id=\"T_d66a9_row11_col1\" class=\"data row11 col1\" >0.8481</td>\n",
              "      <td id=\"T_d66a9_row11_col2\" class=\"data row11 col2\" >0.7139</td>\n",
              "      <td id=\"T_d66a9_row11_col3\" class=\"data row11 col3\" >0.1934</td>\n",
              "      <td id=\"T_d66a9_row11_col4\" class=\"data row11 col4\" >0.4052</td>\n",
              "      <td id=\"T_d66a9_row11_col5\" class=\"data row11 col5\" >0.2618</td>\n",
              "      <td id=\"T_d66a9_row11_col6\" class=\"data row11 col6\" >0.1888</td>\n",
              "      <td id=\"T_d66a9_row11_col7\" class=\"data row11 col7\" >0.2050</td>\n",
              "      <td id=\"T_d66a9_row11_col8\" class=\"data row11 col8\" >28.6390</td>\n",
              "    </tr>\n",
              "    <tr>\n",
              "      <th id=\"T_d66a9_level0_row12\" class=\"row_heading level0 row12\" >dt</th>\n",
              "      <td id=\"T_d66a9_row12_col0\" class=\"data row12 col0\" >Decision Tree Classifier</td>\n",
              "      <td id=\"T_d66a9_row12_col1\" class=\"data row12 col1\" >0.7970</td>\n",
              "      <td id=\"T_d66a9_row12_col2\" class=\"data row12 col2\" >0.5986</td>\n",
              "      <td id=\"T_d66a9_row12_col3\" class=\"data row12 col3\" >0.3248</td>\n",
              "      <td id=\"T_d66a9_row12_col4\" class=\"data row12 col4\" >0.2936</td>\n",
              "      <td id=\"T_d66a9_row12_col5\" class=\"data row12 col5\" >0.3084</td>\n",
              "      <td id=\"T_d66a9_row12_col6\" class=\"data row12 col6\" >0.1898</td>\n",
              "      <td id=\"T_d66a9_row12_col7\" class=\"data row12 col7\" >0.1902</td>\n",
              "      <td id=\"T_d66a9_row12_col8\" class=\"data row12 col8\" >0.9610</td>\n",
              "    </tr>\n",
              "    <tr>\n",
              "      <th id=\"T_d66a9_level0_row13\" class=\"row_heading level0 row13\" >nb</th>\n",
              "      <td id=\"T_d66a9_row13_col0\" class=\"data row13 col0\" >Naive Bayes</td>\n",
              "      <td id=\"T_d66a9_row13_col1\" class=\"data row13 col1\" >0.7742</td>\n",
              "      <td id=\"T_d66a9_row13_col2\" class=\"data row13 col2\" >0.7842</td>\n",
              "      <td id=\"T_d66a9_row13_col3\" class=\"data row13 col3\" >0.5720</td>\n",
              "      <td id=\"T_d66a9_row13_col4\" class=\"data row13 col4\" >0.3242</td>\n",
              "      <td id=\"T_d66a9_row13_col5\" class=\"data row13 col5\" >0.4138</td>\n",
              "      <td id=\"T_d66a9_row13_col6\" class=\"data row13 col6\" >0.2870</td>\n",
              "      <td id=\"T_d66a9_row13_col7\" class=\"data row13 col7\" >0.3048</td>\n",
              "      <td id=\"T_d66a9_row13_col8\" class=\"data row13 col8\" >0.3390</td>\n",
              "    </tr>\n",
              "    <tr>\n",
              "      <th id=\"T_d66a9_level0_row14\" class=\"row_heading level0 row14\" >qda</th>\n",
              "      <td id=\"T_d66a9_row14_col0\" class=\"data row14 col0\" >Quadratic Discriminant Analysis</td>\n",
              "      <td id=\"T_d66a9_row14_col1\" class=\"data row14 col1\" >0.7704</td>\n",
              "      <td id=\"T_d66a9_row14_col2\" class=\"data row14 col2\" >0.7807</td>\n",
              "      <td id=\"T_d66a9_row14_col3\" class=\"data row14 col3\" >0.5567</td>\n",
              "      <td id=\"T_d66a9_row14_col4\" class=\"data row14 col4\" >0.3161</td>\n",
              "      <td id=\"T_d66a9_row14_col5\" class=\"data row14 col5\" >0.4032</td>\n",
              "      <td id=\"T_d66a9_row14_col6\" class=\"data row14 col6\" >0.2742</td>\n",
              "      <td id=\"T_d66a9_row14_col7\" class=\"data row14 col7\" >0.2911</td>\n",
              "      <td id=\"T_d66a9_row14_col8\" class=\"data row14 col8\" >0.5460</td>\n",
              "    </tr>\n",
              "  </tbody>\n",
              "</table>\n"
            ]
          },
          "metadata": {}
        },
        {
          "output_type": "display_data",
          "data": {
            "text/plain": [
              "<IPython.core.display.HTML object>"
            ],
            "text/html": []
          },
          "metadata": {}
        },
        {
          "output_type": "display_data",
          "data": {
            "text/plain": [
              "<IPython.core.display.HTML object>"
            ],
            "text/html": []
          },
          "metadata": {}
        }
      ]
    },
    {
      "cell_type": "markdown",
      "source": [
        "## Analysis"
      ],
      "metadata": {
        "id": "z53ANvDOHtIX"
      }
    },
    {
      "cell_type": "code",
      "source": [
        "df.drop_duplicates(inplace = True)\n",
        "df['Diabetes_012'].value_counts()"
      ],
      "metadata": {
        "colab": {
          "base_uri": "https://localhost:8080/"
        },
        "id": "Df1Qp7xQYP7U",
        "outputId": "906a3125-882b-4277-e4f6-94f06db1abe0"
      },
      "execution_count": null,
      "outputs": [
        {
          "output_type": "execute_result",
          "data": {
            "text/plain": [
              "Diabetes_012\n",
              "0.0    190055\n",
              "2.0     35097\n",
              "1.0      4629\n",
              "Name: count, dtype: int64"
            ]
          },
          "metadata": {},
          "execution_count": 8
        }
      ]
    },
    {
      "cell_type": "code",
      "source": [
        "df = df.drop(['CholCheck','AnyHealthcare','NoDocbcCost','Fruits', 'Veggies', 'Education', 'HvyAlcoholConsump', 'Sex', 'Income', 'DiffWalk'], axis=1)"
      ],
      "metadata": {
        "id": "hCS9lWGDZd64"
      },
      "execution_count": null,
      "outputs": []
    },
    {
      "cell_type": "code",
      "source": [
        "df"
      ],
      "metadata": {
        "colab": {
          "base_uri": "https://localhost:8080/",
          "height": 423
        },
        "id": "dGaNBz33dBNu",
        "outputId": "6fc9b0fe-164f-404d-9226-fc77b2c2e8db"
      },
      "execution_count": null,
      "outputs": [
        {
          "output_type": "execute_result",
          "data": {
            "text/plain": [
              "        Diabetes_012  HighBP  HighChol   BMI  Smoker  Stroke  \\\n",
              "0                0.0     1.0       1.0  40.0     1.0     0.0   \n",
              "1                0.0     0.0       0.0  25.0     1.0     0.0   \n",
              "2                0.0     1.0       1.0  28.0     0.0     0.0   \n",
              "3                0.0     1.0       0.0  27.0     0.0     0.0   \n",
              "4                0.0     1.0       1.0  24.0     0.0     0.0   \n",
              "...              ...     ...       ...   ...     ...     ...   \n",
              "253675           0.0     1.0       1.0  45.0     0.0     0.0   \n",
              "253676           2.0     1.0       1.0  18.0     0.0     0.0   \n",
              "253677           0.0     0.0       0.0  28.0     0.0     0.0   \n",
              "253678           0.0     1.0       0.0  23.0     0.0     0.0   \n",
              "253679           2.0     1.0       1.0  25.0     0.0     0.0   \n",
              "\n",
              "        HeartDiseaseorAttack  PhysActivity  GenHlth  MentHlth  PhysHlth   Age  \n",
              "0                        0.0           0.0      5.0      18.0      15.0   9.0  \n",
              "1                        0.0           1.0      3.0       0.0       0.0   7.0  \n",
              "2                        0.0           0.0      5.0      30.0      30.0   9.0  \n",
              "3                        0.0           1.0      2.0       0.0       0.0  11.0  \n",
              "4                        0.0           1.0      2.0       3.0       0.0  11.0  \n",
              "...                      ...           ...      ...       ...       ...   ...  \n",
              "253675                   0.0           0.0      3.0       0.0       5.0   5.0  \n",
              "253676                   0.0           0.0      4.0       0.0       0.0  11.0  \n",
              "253677                   0.0           1.0      1.0       0.0       0.0   2.0  \n",
              "253678                   0.0           0.0      3.0       0.0       0.0   7.0  \n",
              "253679                   1.0           1.0      2.0       0.0       0.0   9.0  \n",
              "\n",
              "[229781 rows x 12 columns]"
            ],
            "text/html": [
              "\n",
              "  <div id=\"df-237ef2cb-0432-4335-ba8e-57be60a69faa\" class=\"colab-df-container\">\n",
              "    <div>\n",
              "<style scoped>\n",
              "    .dataframe tbody tr th:only-of-type {\n",
              "        vertical-align: middle;\n",
              "    }\n",
              "\n",
              "    .dataframe tbody tr th {\n",
              "        vertical-align: top;\n",
              "    }\n",
              "\n",
              "    .dataframe thead th {\n",
              "        text-align: right;\n",
              "    }\n",
              "</style>\n",
              "<table border=\"1\" class=\"dataframe\">\n",
              "  <thead>\n",
              "    <tr style=\"text-align: right;\">\n",
              "      <th></th>\n",
              "      <th>Diabetes_012</th>\n",
              "      <th>HighBP</th>\n",
              "      <th>HighChol</th>\n",
              "      <th>BMI</th>\n",
              "      <th>Smoker</th>\n",
              "      <th>Stroke</th>\n",
              "      <th>HeartDiseaseorAttack</th>\n",
              "      <th>PhysActivity</th>\n",
              "      <th>GenHlth</th>\n",
              "      <th>MentHlth</th>\n",
              "      <th>PhysHlth</th>\n",
              "      <th>Age</th>\n",
              "    </tr>\n",
              "  </thead>\n",
              "  <tbody>\n",
              "    <tr>\n",
              "      <th>0</th>\n",
              "      <td>0.0</td>\n",
              "      <td>1.0</td>\n",
              "      <td>1.0</td>\n",
              "      <td>40.0</td>\n",
              "      <td>1.0</td>\n",
              "      <td>0.0</td>\n",
              "      <td>0.0</td>\n",
              "      <td>0.0</td>\n",
              "      <td>5.0</td>\n",
              "      <td>18.0</td>\n",
              "      <td>15.0</td>\n",
              "      <td>9.0</td>\n",
              "    </tr>\n",
              "    <tr>\n",
              "      <th>1</th>\n",
              "      <td>0.0</td>\n",
              "      <td>0.0</td>\n",
              "      <td>0.0</td>\n",
              "      <td>25.0</td>\n",
              "      <td>1.0</td>\n",
              "      <td>0.0</td>\n",
              "      <td>0.0</td>\n",
              "      <td>1.0</td>\n",
              "      <td>3.0</td>\n",
              "      <td>0.0</td>\n",
              "      <td>0.0</td>\n",
              "      <td>7.0</td>\n",
              "    </tr>\n",
              "    <tr>\n",
              "      <th>2</th>\n",
              "      <td>0.0</td>\n",
              "      <td>1.0</td>\n",
              "      <td>1.0</td>\n",
              "      <td>28.0</td>\n",
              "      <td>0.0</td>\n",
              "      <td>0.0</td>\n",
              "      <td>0.0</td>\n",
              "      <td>0.0</td>\n",
              "      <td>5.0</td>\n",
              "      <td>30.0</td>\n",
              "      <td>30.0</td>\n",
              "      <td>9.0</td>\n",
              "    </tr>\n",
              "    <tr>\n",
              "      <th>3</th>\n",
              "      <td>0.0</td>\n",
              "      <td>1.0</td>\n",
              "      <td>0.0</td>\n",
              "      <td>27.0</td>\n",
              "      <td>0.0</td>\n",
              "      <td>0.0</td>\n",
              "      <td>0.0</td>\n",
              "      <td>1.0</td>\n",
              "      <td>2.0</td>\n",
              "      <td>0.0</td>\n",
              "      <td>0.0</td>\n",
              "      <td>11.0</td>\n",
              "    </tr>\n",
              "    <tr>\n",
              "      <th>4</th>\n",
              "      <td>0.0</td>\n",
              "      <td>1.0</td>\n",
              "      <td>1.0</td>\n",
              "      <td>24.0</td>\n",
              "      <td>0.0</td>\n",
              "      <td>0.0</td>\n",
              "      <td>0.0</td>\n",
              "      <td>1.0</td>\n",
              "      <td>2.0</td>\n",
              "      <td>3.0</td>\n",
              "      <td>0.0</td>\n",
              "      <td>11.0</td>\n",
              "    </tr>\n",
              "    <tr>\n",
              "      <th>...</th>\n",
              "      <td>...</td>\n",
              "      <td>...</td>\n",
              "      <td>...</td>\n",
              "      <td>...</td>\n",
              "      <td>...</td>\n",
              "      <td>...</td>\n",
              "      <td>...</td>\n",
              "      <td>...</td>\n",
              "      <td>...</td>\n",
              "      <td>...</td>\n",
              "      <td>...</td>\n",
              "      <td>...</td>\n",
              "    </tr>\n",
              "    <tr>\n",
              "      <th>253675</th>\n",
              "      <td>0.0</td>\n",
              "      <td>1.0</td>\n",
              "      <td>1.0</td>\n",
              "      <td>45.0</td>\n",
              "      <td>0.0</td>\n",
              "      <td>0.0</td>\n",
              "      <td>0.0</td>\n",
              "      <td>0.0</td>\n",
              "      <td>3.0</td>\n",
              "      <td>0.0</td>\n",
              "      <td>5.0</td>\n",
              "      <td>5.0</td>\n",
              "    </tr>\n",
              "    <tr>\n",
              "      <th>253676</th>\n",
              "      <td>2.0</td>\n",
              "      <td>1.0</td>\n",
              "      <td>1.0</td>\n",
              "      <td>18.0</td>\n",
              "      <td>0.0</td>\n",
              "      <td>0.0</td>\n",
              "      <td>0.0</td>\n",
              "      <td>0.0</td>\n",
              "      <td>4.0</td>\n",
              "      <td>0.0</td>\n",
              "      <td>0.0</td>\n",
              "      <td>11.0</td>\n",
              "    </tr>\n",
              "    <tr>\n",
              "      <th>253677</th>\n",
              "      <td>0.0</td>\n",
              "      <td>0.0</td>\n",
              "      <td>0.0</td>\n",
              "      <td>28.0</td>\n",
              "      <td>0.0</td>\n",
              "      <td>0.0</td>\n",
              "      <td>0.0</td>\n",
              "      <td>1.0</td>\n",
              "      <td>1.0</td>\n",
              "      <td>0.0</td>\n",
              "      <td>0.0</td>\n",
              "      <td>2.0</td>\n",
              "    </tr>\n",
              "    <tr>\n",
              "      <th>253678</th>\n",
              "      <td>0.0</td>\n",
              "      <td>1.0</td>\n",
              "      <td>0.0</td>\n",
              "      <td>23.0</td>\n",
              "      <td>0.0</td>\n",
              "      <td>0.0</td>\n",
              "      <td>0.0</td>\n",
              "      <td>0.0</td>\n",
              "      <td>3.0</td>\n",
              "      <td>0.0</td>\n",
              "      <td>0.0</td>\n",
              "      <td>7.0</td>\n",
              "    </tr>\n",
              "    <tr>\n",
              "      <th>253679</th>\n",
              "      <td>2.0</td>\n",
              "      <td>1.0</td>\n",
              "      <td>1.0</td>\n",
              "      <td>25.0</td>\n",
              "      <td>0.0</td>\n",
              "      <td>0.0</td>\n",
              "      <td>1.0</td>\n",
              "      <td>1.0</td>\n",
              "      <td>2.0</td>\n",
              "      <td>0.0</td>\n",
              "      <td>0.0</td>\n",
              "      <td>9.0</td>\n",
              "    </tr>\n",
              "  </tbody>\n",
              "</table>\n",
              "<p>229781 rows × 12 columns</p>\n",
              "</div>\n",
              "    <div class=\"colab-df-buttons\">\n",
              "\n",
              "  <div class=\"colab-df-container\">\n",
              "    <button class=\"colab-df-convert\" onclick=\"convertToInteractive('df-237ef2cb-0432-4335-ba8e-57be60a69faa')\"\n",
              "            title=\"Convert this dataframe to an interactive table.\"\n",
              "            style=\"display:none;\">\n",
              "\n",
              "  <svg xmlns=\"http://www.w3.org/2000/svg\" height=\"24px\" viewBox=\"0 -960 960 960\">\n",
              "    <path d=\"M120-120v-720h720v720H120Zm60-500h600v-160H180v160Zm220 220h160v-160H400v160Zm0 220h160v-160H400v160ZM180-400h160v-160H180v160Zm440 0h160v-160H620v160ZM180-180h160v-160H180v160Zm440 0h160v-160H620v160Z\"/>\n",
              "  </svg>\n",
              "    </button>\n",
              "\n",
              "  <style>\n",
              "    .colab-df-container {\n",
              "      display:flex;\n",
              "      gap: 12px;\n",
              "    }\n",
              "\n",
              "    .colab-df-convert {\n",
              "      background-color: #E8F0FE;\n",
              "      border: none;\n",
              "      border-radius: 50%;\n",
              "      cursor: pointer;\n",
              "      display: none;\n",
              "      fill: #1967D2;\n",
              "      height: 32px;\n",
              "      padding: 0 0 0 0;\n",
              "      width: 32px;\n",
              "    }\n",
              "\n",
              "    .colab-df-convert:hover {\n",
              "      background-color: #E2EBFA;\n",
              "      box-shadow: 0px 1px 2px rgba(60, 64, 67, 0.3), 0px 1px 3px 1px rgba(60, 64, 67, 0.15);\n",
              "      fill: #174EA6;\n",
              "    }\n",
              "\n",
              "    .colab-df-buttons div {\n",
              "      margin-bottom: 4px;\n",
              "    }\n",
              "\n",
              "    [theme=dark] .colab-df-convert {\n",
              "      background-color: #3B4455;\n",
              "      fill: #D2E3FC;\n",
              "    }\n",
              "\n",
              "    [theme=dark] .colab-df-convert:hover {\n",
              "      background-color: #434B5C;\n",
              "      box-shadow: 0px 1px 3px 1px rgba(0, 0, 0, 0.15);\n",
              "      filter: drop-shadow(0px 1px 2px rgba(0, 0, 0, 0.3));\n",
              "      fill: #FFFFFF;\n",
              "    }\n",
              "  </style>\n",
              "\n",
              "    <script>\n",
              "      const buttonEl =\n",
              "        document.querySelector('#df-237ef2cb-0432-4335-ba8e-57be60a69faa button.colab-df-convert');\n",
              "      buttonEl.style.display =\n",
              "        google.colab.kernel.accessAllowed ? 'block' : 'none';\n",
              "\n",
              "      async function convertToInteractive(key) {\n",
              "        const element = document.querySelector('#df-237ef2cb-0432-4335-ba8e-57be60a69faa');\n",
              "        const dataTable =\n",
              "          await google.colab.kernel.invokeFunction('convertToInteractive',\n",
              "                                                    [key], {});\n",
              "        if (!dataTable) return;\n",
              "\n",
              "        const docLinkHtml = 'Like what you see? Visit the ' +\n",
              "          '<a target=\"_blank\" href=https://colab.research.google.com/notebooks/data_table.ipynb>data table notebook</a>'\n",
              "          + ' to learn more about interactive tables.';\n",
              "        element.innerHTML = '';\n",
              "        dataTable['output_type'] = 'display_data';\n",
              "        await google.colab.output.renderOutput(dataTable, element);\n",
              "        const docLink = document.createElement('div');\n",
              "        docLink.innerHTML = docLinkHtml;\n",
              "        element.appendChild(docLink);\n",
              "      }\n",
              "    </script>\n",
              "  </div>\n",
              "\n",
              "\n",
              "<div id=\"df-cd63e5db-4d44-409c-b069-55b3057decfc\">\n",
              "  <button class=\"colab-df-quickchart\" onclick=\"quickchart('df-cd63e5db-4d44-409c-b069-55b3057decfc')\"\n",
              "            title=\"Suggest charts\"\n",
              "            style=\"display:none;\">\n",
              "\n",
              "<svg xmlns=\"http://www.w3.org/2000/svg\" height=\"24px\"viewBox=\"0 0 24 24\"\n",
              "     width=\"24px\">\n",
              "    <g>\n",
              "        <path d=\"M19 3H5c-1.1 0-2 .9-2 2v14c0 1.1.9 2 2 2h14c1.1 0 2-.9 2-2V5c0-1.1-.9-2-2-2zM9 17H7v-7h2v7zm4 0h-2V7h2v10zm4 0h-2v-4h2v4z\"/>\n",
              "    </g>\n",
              "</svg>\n",
              "  </button>\n",
              "\n",
              "<style>\n",
              "  .colab-df-quickchart {\n",
              "      --bg-color: #E8F0FE;\n",
              "      --fill-color: #1967D2;\n",
              "      --hover-bg-color: #E2EBFA;\n",
              "      --hover-fill-color: #174EA6;\n",
              "      --disabled-fill-color: #AAA;\n",
              "      --disabled-bg-color: #DDD;\n",
              "  }\n",
              "\n",
              "  [theme=dark] .colab-df-quickchart {\n",
              "      --bg-color: #3B4455;\n",
              "      --fill-color: #D2E3FC;\n",
              "      --hover-bg-color: #434B5C;\n",
              "      --hover-fill-color: #FFFFFF;\n",
              "      --disabled-bg-color: #3B4455;\n",
              "      --disabled-fill-color: #666;\n",
              "  }\n",
              "\n",
              "  .colab-df-quickchart {\n",
              "    background-color: var(--bg-color);\n",
              "    border: none;\n",
              "    border-radius: 50%;\n",
              "    cursor: pointer;\n",
              "    display: none;\n",
              "    fill: var(--fill-color);\n",
              "    height: 32px;\n",
              "    padding: 0;\n",
              "    width: 32px;\n",
              "  }\n",
              "\n",
              "  .colab-df-quickchart:hover {\n",
              "    background-color: var(--hover-bg-color);\n",
              "    box-shadow: 0 1px 2px rgba(60, 64, 67, 0.3), 0 1px 3px 1px rgba(60, 64, 67, 0.15);\n",
              "    fill: var(--button-hover-fill-color);\n",
              "  }\n",
              "\n",
              "  .colab-df-quickchart-complete:disabled,\n",
              "  .colab-df-quickchart-complete:disabled:hover {\n",
              "    background-color: var(--disabled-bg-color);\n",
              "    fill: var(--disabled-fill-color);\n",
              "    box-shadow: none;\n",
              "  }\n",
              "\n",
              "  .colab-df-spinner {\n",
              "    border: 2px solid var(--fill-color);\n",
              "    border-color: transparent;\n",
              "    border-bottom-color: var(--fill-color);\n",
              "    animation:\n",
              "      spin 1s steps(1) infinite;\n",
              "  }\n",
              "\n",
              "  @keyframes spin {\n",
              "    0% {\n",
              "      border-color: transparent;\n",
              "      border-bottom-color: var(--fill-color);\n",
              "      border-left-color: var(--fill-color);\n",
              "    }\n",
              "    20% {\n",
              "      border-color: transparent;\n",
              "      border-left-color: var(--fill-color);\n",
              "      border-top-color: var(--fill-color);\n",
              "    }\n",
              "    30% {\n",
              "      border-color: transparent;\n",
              "      border-left-color: var(--fill-color);\n",
              "      border-top-color: var(--fill-color);\n",
              "      border-right-color: var(--fill-color);\n",
              "    }\n",
              "    40% {\n",
              "      border-color: transparent;\n",
              "      border-right-color: var(--fill-color);\n",
              "      border-top-color: var(--fill-color);\n",
              "    }\n",
              "    60% {\n",
              "      border-color: transparent;\n",
              "      border-right-color: var(--fill-color);\n",
              "    }\n",
              "    80% {\n",
              "      border-color: transparent;\n",
              "      border-right-color: var(--fill-color);\n",
              "      border-bottom-color: var(--fill-color);\n",
              "    }\n",
              "    90% {\n",
              "      border-color: transparent;\n",
              "      border-bottom-color: var(--fill-color);\n",
              "    }\n",
              "  }\n",
              "</style>\n",
              "\n",
              "  <script>\n",
              "    async function quickchart(key) {\n",
              "      const quickchartButtonEl =\n",
              "        document.querySelector('#' + key + ' button');\n",
              "      quickchartButtonEl.disabled = true;  // To prevent multiple clicks.\n",
              "      quickchartButtonEl.classList.add('colab-df-spinner');\n",
              "      try {\n",
              "        const charts = await google.colab.kernel.invokeFunction(\n",
              "            'suggestCharts', [key], {});\n",
              "      } catch (error) {\n",
              "        console.error('Error during call to suggestCharts:', error);\n",
              "      }\n",
              "      quickchartButtonEl.classList.remove('colab-df-spinner');\n",
              "      quickchartButtonEl.classList.add('colab-df-quickchart-complete');\n",
              "    }\n",
              "    (() => {\n",
              "      let quickchartButtonEl =\n",
              "        document.querySelector('#df-cd63e5db-4d44-409c-b069-55b3057decfc button');\n",
              "      quickchartButtonEl.style.display =\n",
              "        google.colab.kernel.accessAllowed ? 'block' : 'none';\n",
              "    })();\n",
              "  </script>\n",
              "</div>\n",
              "\n",
              "  <div id=\"id_90b3a9e9-0a15-4a87-888d-ffefa7b675d0\">\n",
              "    <style>\n",
              "      .colab-df-generate {\n",
              "        background-color: #E8F0FE;\n",
              "        border: none;\n",
              "        border-radius: 50%;\n",
              "        cursor: pointer;\n",
              "        display: none;\n",
              "        fill: #1967D2;\n",
              "        height: 32px;\n",
              "        padding: 0 0 0 0;\n",
              "        width: 32px;\n",
              "      }\n",
              "\n",
              "      .colab-df-generate:hover {\n",
              "        background-color: #E2EBFA;\n",
              "        box-shadow: 0px 1px 2px rgba(60, 64, 67, 0.3), 0px 1px 3px 1px rgba(60, 64, 67, 0.15);\n",
              "        fill: #174EA6;\n",
              "      }\n",
              "\n",
              "      [theme=dark] .colab-df-generate {\n",
              "        background-color: #3B4455;\n",
              "        fill: #D2E3FC;\n",
              "      }\n",
              "\n",
              "      [theme=dark] .colab-df-generate:hover {\n",
              "        background-color: #434B5C;\n",
              "        box-shadow: 0px 1px 3px 1px rgba(0, 0, 0, 0.15);\n",
              "        filter: drop-shadow(0px 1px 2px rgba(0, 0, 0, 0.3));\n",
              "        fill: #FFFFFF;\n",
              "      }\n",
              "    </style>\n",
              "    <button class=\"colab-df-generate\" onclick=\"generateWithVariable('df')\"\n",
              "            title=\"Generate code using this dataframe.\"\n",
              "            style=\"display:none;\">\n",
              "\n",
              "  <svg xmlns=\"http://www.w3.org/2000/svg\" height=\"24px\"viewBox=\"0 0 24 24\"\n",
              "       width=\"24px\">\n",
              "    <path d=\"M7,19H8.4L18.45,9,17,7.55,7,17.6ZM5,21V16.75L18.45,3.32a2,2,0,0,1,2.83,0l1.4,1.43a1.91,1.91,0,0,1,.58,1.4,1.91,1.91,0,0,1-.58,1.4L9.25,21ZM18.45,9,17,7.55Zm-12,3A5.31,5.31,0,0,0,4.9,8.1,5.31,5.31,0,0,0,1,6.5,5.31,5.31,0,0,0,4.9,4.9,5.31,5.31,0,0,0,6.5,1,5.31,5.31,0,0,0,8.1,4.9,5.31,5.31,0,0,0,12,6.5,5.46,5.46,0,0,0,6.5,12Z\"/>\n",
              "  </svg>\n",
              "    </button>\n",
              "    <script>\n",
              "      (() => {\n",
              "      const buttonEl =\n",
              "        document.querySelector('#id_90b3a9e9-0a15-4a87-888d-ffefa7b675d0 button.colab-df-generate');\n",
              "      buttonEl.style.display =\n",
              "        google.colab.kernel.accessAllowed ? 'block' : 'none';\n",
              "\n",
              "      buttonEl.onclick = () => {\n",
              "        google.colab.notebook.generateWithVariable('df');\n",
              "      }\n",
              "      })();\n",
              "    </script>\n",
              "  </div>\n",
              "\n",
              "    </div>\n",
              "  </div>\n"
            ],
            "application/vnd.google.colaboratory.intrinsic+json": {
              "type": "dataframe",
              "variable_name": "df"
            }
          },
          "metadata": {},
          "execution_count": 10
        }
      ]
    },
    {
      "cell_type": "code",
      "source": [
        "#CORRELACION PEARSON\n",
        "sns.set(style=\"whitegrid\",font_scale=1)\n",
        "plt.figure(figsize=(20,20))\n",
        "plt.title(\"Pearson\", fontsize=22)\n",
        "sns.heatmap(df.corr(),vmax=0.8,square=True,cmap=\"GnBu\",linecolor='r',annot=True,annot_kws={'size':7})"
      ],
      "metadata": {
        "colab": {
          "base_uri": "https://localhost:8080/",
          "height": 1000
        },
        "id": "KvyW7wFgYP5N",
        "outputId": "f109d3bb-532f-41c3-ef2d-815045494dba"
      },
      "execution_count": null,
      "outputs": [
        {
          "output_type": "execute_result",
          "data": {
            "text/plain": [
              "<Axes: title={'center': 'Pearson'}>"
            ]
          },
          "metadata": {},
          "execution_count": 23
        },
        {
          "output_type": "display_data",
          "data": {
            "text/plain": [
              "<Figure size 2000x2000 with 2 Axes>"
            ],
            "image/png": "[encoded data removed]"
          },
          "metadata": {}
        }
      ]
    },
    {
      "cell_type": "code",
      "source": [
        "#Redistribucion de data entre clases\n",
        "df = df[df['Diabetes_012'] != 1.0]\n",
        "df.loc[df['Diabetes_012'] == 2.0, 'Diabetes_012'] = 1.0\n",
        "\n",
        "df_NO_Diabetes = df[df['Diabetes_012'] == 0.0]\n",
        "df_SI_Diabetes = df[df['Diabetes_012'] == 1.0]\n",
        "\n",
        "df_NO_Diabetes = df_NO_Diabetes.sample(frac=0.20, random_state=100)\n",
        "df = pd.concat([df_NO_Diabetes, df_SI_Diabetes])"
      ],
      "metadata": {
        "colab": {
          "base_uri": "https://localhost:8080/"
        },
        "id": "-rB64b6vYQAN",
        "outputId": "aea1edf2-3cdd-47ce-ec2f-f8c2519967f4"
      },
      "execution_count": null,
      "outputs": [
        {
          "output_type": "stream",
          "name": "stderr",
          "text": [
            "<ipython-input-11-231e5934ec75>:3: SettingWithCopyWarning: \n",
            "A value is trying to be set on a copy of a slice from a DataFrame\n",
            "\n",
            "See the caveats in the documentation: https://pandas.pydata.org/pandas-docs/stable/user_guide/indexing.html#returning-a-view-versus-a-copy\n",
            "  df.loc[df['Diabetes_012'] == 2.0, 'Diabetes_012'] = 1.0\n"
          ]
        }
      ]
    },
    {
      "cell_type": "code",
      "source": [
        "df['Diabetes_012'].value_counts()"
      ],
      "metadata": {
        "colab": {
          "base_uri": "https://localhost:8080/"
        },
        "id": "lNucRpnUYQCn",
        "outputId": "1b632884-2e06-48be-8d83-f36cc7e9dbdd"
      },
      "execution_count": null,
      "outputs": [
        {
          "output_type": "execute_result",
          "data": {
            "text/plain": [
              "Diabetes_012\n",
              "0.0    38011\n",
              "1.0    35097\n",
              "Name: count, dtype: int64"
            ]
          },
          "metadata": {},
          "execution_count": 12
        }
      ]
    },
    {
      "cell_type": "code",
      "source": [
        "df.hist()"
      ],
      "metadata": {
        "colab": {
          "base_uri": "https://localhost:8080/",
          "height": 665
        },
        "id": "oqA3ndA3YP98",
        "outputId": "6c2a0b28-d111-46f4-eeca-2bb3f3bda249"
      },
      "execution_count": null,
      "outputs": [
        {
          "output_type": "execute_result",
          "data": {
            "text/plain": [
              "array([[<Axes: title={'center': 'Diabetes_012'}>,\n",
              "        <Axes: title={'center': 'HighBP'}>,\n",
              "        <Axes: title={'center': 'HighChol'}>],\n",
              "       [<Axes: title={'center': 'BMI'}>,\n",
              "        <Axes: title={'center': 'Smoker'}>,\n",
              "        <Axes: title={'center': 'Stroke'}>],\n",
              "       [<Axes: title={'center': 'HeartDiseaseorAttack'}>,\n",
              "        <Axes: title={'center': 'PhysActivity'}>,\n",
              "        <Axes: title={'center': 'GenHlth'}>],\n",
              "       [<Axes: title={'center': 'MentHlth'}>,\n",
              "        <Axes: title={'center': 'PhysHlth'}>,\n",
              "        <Axes: title={'center': 'Age'}>]], dtype=object)"
            ]
          },
          "metadata": {},
          "execution_count": 24
        },
        {
          "output_type": "display_data",
          "data": {
            "text/plain": [
              "<Figure size 640x480 with 12 Axes>"
            ],
            "image/png": "[encoded data removed]"
          },
          "metadata": {}
        }
      ]
    },
    {
      "cell_type": "code",
      "source": [
        "df.info()"
      ],
      "metadata": {
        "colab": {
          "base_uri": "https://localhost:8080/"
        },
        "id": "n77DOt-ZIeG9",
        "outputId": "44bfa9b3-23f1-44a2-96b9-39e6942c10cb"
      },
      "execution_count": null,
      "outputs": [
        {
          "output_type": "stream",
          "name": "stdout",
          "text": [
            "<class 'pandas.core.frame.DataFrame'>\n",
            "Index: 73108 entries, 159046 to 253679\n",
            "Data columns (total 12 columns):\n",
            " #   Column                Non-Null Count  Dtype  \n",
            "---  ------                --------------  -----  \n",
            " 0   Diabetes_012          73108 non-null  float64\n",
            " 1   HighBP                73108 non-null  float64\n",
            " 2   HighChol              73108 non-null  float64\n",
            " 3   BMI                   73108 non-null  float64\n",
            " 4   Smoker                73108 non-null  float64\n",
            " 5   Stroke                73108 non-null  float64\n",
            " 6   HeartDiseaseorAttack  73108 non-null  float64\n",
            " 7   PhysActivity          73108 non-null  float64\n",
            " 8   GenHlth               73108 non-null  float64\n",
            " 9   MentHlth              73108 non-null  float64\n",
            " 10  PhysHlth              73108 non-null  float64\n",
            " 11  Age                   73108 non-null  float64\n",
            "dtypes: float64(12)\n",
            "memory usage: 7.3 MB\n"
          ]
        }
      ]
    },
    {
      "cell_type": "code",
      "source": [
        "#COPIAS DE DF\n",
        "df_SVM = df\n",
        "df_ANN = df"
      ],
      "metadata": {
        "id": "dkh-0LUTYQE-"
      },
      "execution_count": null,
      "outputs": []
    },
    {
      "cell_type": "markdown",
      "source": [
        "# **SVM:**"
      ],
      "metadata": {
        "id": "RQnOjCcgY5JN"
      }
    },
    {
      "cell_type": "code",
      "source": [
        "x_SVM = df_SVM.drop(df_SVM.columns[0], axis=1)\n",
        "scaler = MinMaxScaler()\n",
        "x_SVM = scaler.fit(x_SVM).transform(x_SVM)\n",
        "y_SVM = df_SVM[df.columns[0]]"
      ],
      "metadata": {
        "id": "KOYfQpCGYQHM"
      },
      "execution_count": null,
      "outputs": []
    },
    {
      "cell_type": "code",
      "source": [
        "x_train_SVM, x_test_SVM, y_train_SVM, y_test_SVM = train_test_split(x_SVM, y_SVM, test_size=0.30, random_state=50)"
      ],
      "metadata": {
        "id": "HIgEhbgFYQJt"
      },
      "execution_count": null,
      "outputs": []
    },
    {
      "cell_type": "code",
      "source": [
        "#ENTRENAMIENTO DEL MODELO\n",
        "#svm_model = SVC()\n",
        "svm_model = SVC(kernel='linear')\n",
        "svm_model.fit(x_train_SVM, y_train_SVM)"
      ],
      "metadata": {
        "colab": {
          "base_uri": "https://localhost:8080/",
          "height": 75
        },
        "id": "dX2wlk5aYQMF",
        "outputId": "0231735a-f6f0-4aa2-b73a-f76cd55e9ea7"
      },
      "execution_count": null,
      "outputs": [
        {
          "output_type": "execute_result",
          "data": {
            "text/plain": [
              "SVC(kernel='linear')"
            ],
            "text/html": [
              "<style>#sk-container-id-1 {color: black;background-color: white;}#sk-container-id-1 pre{padding: 0;}#sk-container-id-1 div.sk-toggleable {background-color: white;}#sk-container-id-1 label.sk-toggleable__label {cursor: pointer;display: block;width: 100%;margin-bottom: 0;padding: 0.3em;box-sizing: border-box;text-align: center;}#sk-container-id-1 label.sk-toggleable__label-arrow:before {content: \"▸\";float: left;margin-right: 0.25em;color: #696969;}#sk-container-id-1 label.sk-toggleable__label-arrow:hover:before {color: black;}#sk-container-id-1 div.sk-estimator:hover label.sk-toggleable__label-arrow:before {color: black;}#sk-container-id-1 div.sk-toggleable__content {max-height: 0;max-width: 0;overflow: hidden;text-align: left;background-color: #f0f8ff;}#sk-container-id-1 div.sk-toggleable__content pre {margin: 0.2em;color: black;border-radius: 0.25em;background-color: #f0f8ff;}#sk-container-id-1 input.sk-toggleable__control:checked~div.sk-toggleable__content {max-height: 200px;max-width: 100%;overflow: auto;}#sk-container-id-1 input.sk-toggleable__control:checked~label.sk-toggleable__label-arrow:before {content: \"▾\";}#sk-container-id-1 div.sk-estimator input.sk-toggleable__control:checked~label.sk-toggleable__label {background-color: #d4ebff;}#sk-container-id-1 div.sk-label input.sk-toggleable__control:checked~label.sk-toggleable__label {background-color: #d4ebff;}#sk-container-id-1 input.sk-hidden--visually {border: 0;clip: rect(1px 1px 1px 1px);clip: rect(1px, 1px, 1px, 1px);height: 1px;margin: -1px;overflow: hidden;padding: 0;position: absolute;width: 1px;}#sk-container-id-1 div.sk-estimator {font-family: monospace;background-color: #f0f8ff;border: 1px dotted black;border-radius: 0.25em;box-sizing: border-box;margin-bottom: 0.5em;}#sk-container-id-1 div.sk-estimator:hover {background-color: #d4ebff;}#sk-container-id-1 div.sk-parallel-item::after {content: \"\";width: 100%;border-bottom: 1px solid gray;flex-grow: 1;}#sk-container-id-1 div.sk-label:hover label.sk-toggleable__label {background-color: #d4ebff;}#sk-container-id-1 div.sk-serial::before {content: \"\";position: absolute;border-left: 1px solid gray;box-sizing: border-box;top: 0;bottom: 0;left: 50%;z-index: 0;}#sk-container-id-1 div.sk-serial {display: flex;flex-direction: column;align-items: center;background-color: white;padding-right: 0.2em;padding-left: 0.2em;position: relative;}#sk-container-id-1 div.sk-item {position: relative;z-index: 1;}#sk-container-id-1 div.sk-parallel {display: flex;align-items: stretch;justify-content: center;background-color: white;position: relative;}#sk-container-id-1 div.sk-item::before, #sk-container-id-1 div.sk-parallel-item::before {content: \"\";position: absolute;border-left: 1px solid gray;box-sizing: border-box;top: 0;bottom: 0;left: 50%;z-index: -1;}#sk-container-id-1 div.sk-parallel-item {display: flex;flex-direction: column;z-index: 1;position: relative;background-color: white;}#sk-container-id-1 div.sk-parallel-item:first-child::after {align-self: flex-end;width: 50%;}#sk-container-id-1 div.sk-parallel-item:last-child::after {align-self: flex-start;width: 50%;}#sk-container-id-1 div.sk-parallel-item:only-child::after {width: 0;}#sk-container-id-1 div.sk-dashed-wrapped {border: 1px dashed gray;margin: 0 0.4em 0.5em 0.4em;box-sizing: border-box;padding-bottom: 0.4em;background-color: white;}#sk-container-id-1 div.sk-label label {font-family: monospace;font-weight: bold;display: inline-block;line-height: 1.2em;}#sk-container-id-1 div.sk-label-container {text-align: center;}#sk-container-id-1 div.sk-container {/* jupyter's `normalize.less` sets `[hidden] { display: none; }` but bootstrap.min.css set `[hidden] { display: none !important; }` so we also need the `!important` here to be able to override the default hidden behavior on the sphinx rendered scikit-learn.org. See: https://github.com/scikit-learn/scikit-learn/issues/21755 */display: inline-block !important;position: relative;}#sk-container-id-1 div.sk-text-repr-fallback {display: none;}</style><div id=\"sk-container-id-1\" class=\"sk-top-container\"><div class=\"sk-text-repr-fallback\"><pre>SVC(kernel=&#x27;linear&#x27;)</pre><b>In a Jupyter environment, please rerun this cell to show the HTML representation or trust the notebook. <br />On GitHub, the HTML representation is unable to render, please try loading this page with nbviewer.org.</b></div><div class=\"sk-container\" hidden><div class=\"sk-item\"><div class=\"sk-estimator sk-toggleable\"><input class=\"sk-toggleable__control sk-hidden--visually\" id=\"sk-estimator-id-1\" type=\"checkbox\" checked><label for=\"sk-estimator-id-1\" class=\"sk-toggleable__label sk-toggleable__label-arrow\">SVC</label><div class=\"sk-toggleable__content\"><pre>SVC(kernel=&#x27;linear&#x27;)</pre></div></div></div></div></div>"
            ]
          },
          "metadata": {},
          "execution_count": 28
        }
      ]
    },
    {
      "cell_type": "code",
      "source": [
        "# Predicciones SVM\n",
        "y_pred_svm_train = svm_model.predict(x_train_SVM)\n",
        "y_pred_svm_test = svm_model.predict(x_test_SVM)"
      ],
      "metadata": {
        "id": "oEJQ5CbYYQOg"
      },
      "execution_count": null,
      "outputs": []
    },
    {
      "cell_type": "code",
      "source": [
        "# Evaluacion SVM TRAIN\n",
        "accuracy_svm = accuracy_score(y_train_SVM, y_pred_svm_train)\n",
        "print(\"Métricas para el modelo SVM:\")\n",
        "print(classification_report(y_train_SVM, y_pred_svm_train))\n",
        "print(accuracy_svm)"
      ],
      "metadata": {
        "colab": {
          "base_uri": "https://localhost:8080/"
        },
        "id": "JMbDkcKTZLae",
        "outputId": "4d809777-7df4-4e78-c7ee-bb073b020334"
      },
      "execution_count": null,
      "outputs": [
        {
          "output_type": "stream",
          "name": "stdout",
          "text": [
            "Métricas para el modelo SVM:\n",
            "              precision    recall  f1-score   support\n",
            "\n",
            "         0.0       0.76      0.71      0.73     26526\n",
            "         1.0       0.71      0.76      0.73     24649\n",
            "\n",
            "    accuracy                           0.73     51175\n",
            "   macro avg       0.73      0.73      0.73     51175\n",
            "weighted avg       0.73      0.73      0.73     51175\n",
            "\n",
            "0.7321934538348803\n"
          ]
        }
      ]
    },
    {
      "cell_type": "code",
      "source": [
        "# Evaluacion SVM TEST\n",
        "accuracy_svm = accuracy_score(y_test_SVM, y_pred_svm_test)\n",
        "print(\"Métricas para el modelo SVM:\")\n",
        "print(classification_report(y_test_SVM, y_pred_svm_test))\n",
        "print(accuracy_svm)"
      ],
      "metadata": {
        "colab": {
          "base_uri": "https://localhost:8080/"
        },
        "id": "CnWMrherZLfF",
        "outputId": "12ce8b13-1192-4507-c85c-95fefb06f4a6"
      },
      "execution_count": null,
      "outputs": [
        {
          "output_type": "stream",
          "name": "stdout",
          "text": [
            "Métricas para el modelo SVM:\n",
            "              precision    recall  f1-score   support\n",
            "\n",
            "         0.0       0.76      0.69      0.73     11485\n",
            "         1.0       0.69      0.76      0.72     10448\n",
            "\n",
            "    accuracy                           0.72     21933\n",
            "   macro avg       0.73      0.73      0.72     21933\n",
            "weighted avg       0.73      0.72      0.72     21933\n",
            "\n",
            "0.7242055350385265\n"
          ]
        }
      ]
    },
    {
      "cell_type": "code",
      "source": [
        "confusion_matrix(y_test_SVM, y_pred_svm_test)"
      ],
      "metadata": {
        "colab": {
          "base_uri": "https://localhost:8080/"
        },
        "id": "XSooXqItZLhu",
        "outputId": "6eafc17d-becc-4a61-9304-49f8d7d0ed31"
      },
      "execution_count": null,
      "outputs": [
        {
          "output_type": "execute_result",
          "data": {
            "text/plain": [
              "array([[7980, 3505],\n",
              "       [2544, 7904]])"
            ]
          },
          "metadata": {},
          "execution_count": 32
        }
      ]
    },
    {
      "cell_type": "code",
      "source": [
        "import pickle"
      ],
      "metadata": {
        "id": "X5ghlx9dJh31"
      },
      "execution_count": null,
      "outputs": []
    },
    {
      "cell_type": "code",
      "source": [
        "with open('model.pkl', 'wb') as archivo:\n",
        "    pickle.dump(svm_model, archivo)"
      ],
      "metadata": {
        "id": "HxKxWtocJpb1"
      },
      "execution_count": null,
      "outputs": []
    },
    {
      "cell_type": "code",
      "source": [
        "with open('model.pkl', 'rb') as archivo:\n",
        "    modelo_cargado = pickle.load(archivo)"
      ],
      "metadata": {
        "id": "TT0QbUIvJzRE"
      },
      "execution_count": null,
      "outputs": []
    },
    {
      "cell_type": "code",
      "source": [
        "fila_aleatoria = df.sample(n=1)\n",
        "fila_aleatoria"
      ],
      "metadata": {
        "colab": {
          "base_uri": "https://localhost:8080/",
          "height": 89
        },
        "id": "CsRhSIWSKGSD",
        "outputId": "e4e04694-0874-400d-de5e-e149ab76cd52"
      },
      "execution_count": null,
      "outputs": [
        {
          "output_type": "execute_result",
          "data": {
            "text/plain": [
              "        Diabetes_012  HighBP  HighChol   BMI  Smoker  Stroke  \\\n",
              "248583           1.0     1.0       1.0  30.0     1.0     0.0   \n",
              "\n",
              "        HeartDiseaseorAttack  PhysActivity  GenHlth  MentHlth  PhysHlth  Age  \n",
              "248583                   0.0           1.0      5.0      10.0      30.0  9.0  "
            ],
            "text/html": [
              "\n",
              "  <div id=\"df-b425fa0d-7f23-4b04-b332-437817c52e38\" class=\"colab-df-container\">\n",
              "    <div>\n",
              "<style scoped>\n",
              "    .dataframe tbody tr th:only-of-type {\n",
              "        vertical-align: middle;\n",
              "    }\n",
              "\n",
              "    .dataframe tbody tr th {\n",
              "        vertical-align: top;\n",
              "    }\n",
              "\n",
              "    .dataframe thead th {\n",
              "        text-align: right;\n",
              "    }\n",
              "</style>\n",
              "<table border=\"1\" class=\"dataframe\">\n",
              "  <thead>\n",
              "    <tr style=\"text-align: right;\">\n",
              "      <th></th>\n",
              "      <th>Diabetes_012</th>\n",
              "      <th>HighBP</th>\n",
              "      <th>HighChol</th>\n",
              "      <th>BMI</th>\n",
              "      <th>Smoker</th>\n",
              "      <th>Stroke</th>\n",
              "      <th>HeartDiseaseorAttack</th>\n",
              "      <th>PhysActivity</th>\n",
              "      <th>GenHlth</th>\n",
              "      <th>MentHlth</th>\n",
              "      <th>PhysHlth</th>\n",
              "      <th>Age</th>\n",
              "    </tr>\n",
              "  </thead>\n",
              "  <tbody>\n",
              "    <tr>\n",
              "      <th>248583</th>\n",
              "      <td>1.0</td>\n",
              "      <td>1.0</td>\n",
              "      <td>1.0</td>\n",
              "      <td>30.0</td>\n",
              "      <td>1.0</td>\n",
              "      <td>0.0</td>\n",
              "      <td>0.0</td>\n",
              "      <td>1.0</td>\n",
              "      <td>5.0</td>\n",
              "      <td>10.0</td>\n",
              "      <td>30.0</td>\n",
              "      <td>9.0</td>\n",
              "    </tr>\n",
              "  </tbody>\n",
              "</table>\n",
              "</div>\n",
              "    <div class=\"colab-df-buttons\">\n",
              "\n",
              "  <div class=\"colab-df-container\">\n",
              "    <button class=\"colab-df-convert\" onclick=\"convertToInteractive('df-b425fa0d-7f23-4b04-b332-437817c52e38')\"\n",
              "            title=\"Convert this dataframe to an interactive table.\"\n",
              "            style=\"display:none;\">\n",
              "\n",
              "  <svg xmlns=\"http://www.w3.org/2000/svg\" height=\"24px\" viewBox=\"0 -960 960 960\">\n",
              "    <path d=\"M120-120v-720h720v720H120Zm60-500h600v-160H180v160Zm220 220h160v-160H400v160Zm0 220h160v-160H400v160ZM180-400h160v-160H180v160Zm440 0h160v-160H620v160ZM180-180h160v-160H180v160Zm440 0h160v-160H620v160Z\"/>\n",
              "  </svg>\n",
              "    </button>\n",
              "\n",
              "  <style>\n",
              "    .colab-df-container {\n",
              "      display:flex;\n",
              "      gap: 12px;\n",
              "    }\n",
              "\n",
              "    .colab-df-convert {\n",
              "      background-color: #E8F0FE;\n",
              "      border: none;\n",
              "      border-radius: 50%;\n",
              "      cursor: pointer;\n",
              "      display: none;\n",
              "      fill: #1967D2;\n",
              "      height: 32px;\n",
              "      padding: 0 0 0 0;\n",
              "      width: 32px;\n",
              "    }\n",
              "\n",
              "    .colab-df-convert:hover {\n",
              "      background-color: #E2EBFA;\n",
              "      box-shadow: 0px 1px 2px rgba(60, 64, 67, 0.3), 0px 1px 3px 1px rgba(60, 64, 67, 0.15);\n",
              "      fill: #174EA6;\n",
              "    }\n",
              "\n",
              "    .colab-df-buttons div {\n",
              "      margin-bottom: 4px;\n",
              "    }\n",
              "\n",
              "    [theme=dark] .colab-df-convert {\n",
              "      background-color: #3B4455;\n",
              "      fill: #D2E3FC;\n",
              "    }\n",
              "\n",
              "    [theme=dark] .colab-df-convert:hover {\n",
              "      background-color: #434B5C;\n",
              "      box-shadow: 0px 1px 3px 1px rgba(0, 0, 0, 0.15);\n",
              "      filter: drop-shadow(0px 1px 2px rgba(0, 0, 0, 0.3));\n",
              "      fill: #FFFFFF;\n",
              "    }\n",
              "  </style>\n",
              "\n",
              "    <script>\n",
              "      const buttonEl =\n",
              "        document.querySelector('#df-b425fa0d-7f23-4b04-b332-437817c52e38 button.colab-df-convert');\n",
              "      buttonEl.style.display =\n",
              "        google.colab.kernel.accessAllowed ? 'block' : 'none';\n",
              "\n",
              "      async function convertToInteractive(key) {\n",
              "        const element = document.querySelector('#df-b425fa0d-7f23-4b04-b332-437817c52e38');\n",
              "        const dataTable =\n",
              "          await google.colab.kernel.invokeFunction('convertToInteractive',\n",
              "                                                    [key], {});\n",
              "        if (!dataTable) return;\n",
              "\n",
              "        const docLinkHtml = 'Like what you see? Visit the ' +\n",
              "          '<a target=\"_blank\" href=https://colab.research.google.com/notebooks/data_table.ipynb>data table notebook</a>'\n",
              "          + ' to learn more about interactive tables.';\n",
              "        element.innerHTML = '';\n",
              "        dataTable['output_type'] = 'display_data';\n",
              "        await google.colab.output.renderOutput(dataTable, element);\n",
              "        const docLink = document.createElement('div');\n",
              "        docLink.innerHTML = docLinkHtml;\n",
              "        element.appendChild(docLink);\n",
              "      }\n",
              "    </script>\n",
              "  </div>\n",
              "\n",
              "\n",
              "  <div id=\"id_0c555caf-75bb-4895-b827-635268d31483\">\n",
              "    <style>\n",
              "      .colab-df-generate {\n",
              "        background-color: #E8F0FE;\n",
              "        border: none;\n",
              "        border-radius: 50%;\n",
              "        cursor: pointer;\n",
              "        display: none;\n",
              "        fill: #1967D2;\n",
              "        height: 32px;\n",
              "        padding: 0 0 0 0;\n",
              "        width: 32px;\n",
              "      }\n",
              "\n",
              "      .colab-df-generate:hover {\n",
              "        background-color: #E2EBFA;\n",
              "        box-shadow: 0px 1px 2px rgba(60, 64, 67, 0.3), 0px 1px 3px 1px rgba(60, 64, 67, 0.15);\n",
              "        fill: #174EA6;\n",
              "      }\n",
              "\n",
              "      [theme=dark] .colab-df-generate {\n",
              "        background-color: #3B4455;\n",
              "        fill: #D2E3FC;\n",
              "      }\n",
              "\n",
              "      [theme=dark] .colab-df-generate:hover {\n",
              "        background-color: #434B5C;\n",
              "        box-shadow: 0px 1px 3px 1px rgba(0, 0, 0, 0.15);\n",
              "        filter: drop-shadow(0px 1px 2px rgba(0, 0, 0, 0.3));\n",
              "        fill: #FFFFFF;\n",
              "      }\n",
              "    </style>\n",
              "    <button class=\"colab-df-generate\" onclick=\"generateWithVariable('fila_aleatoria')\"\n",
              "            title=\"Generate code using this dataframe.\"\n",
              "            style=\"display:none;\">\n",
              "\n",
              "  <svg xmlns=\"http://www.w3.org/2000/svg\" height=\"24px\"viewBox=\"0 0 24 24\"\n",
              "       width=\"24px\">\n",
              "    <path d=\"M7,19H8.4L18.45,9,17,7.55,7,17.6ZM5,21V16.75L18.45,3.32a2,2,0,0,1,2.83,0l1.4,1.43a1.91,1.91,0,0,1,.58,1.4,1.91,1.91,0,0,1-.58,1.4L9.25,21ZM18.45,9,17,7.55Zm-12,3A5.31,5.31,0,0,0,4.9,8.1,5.31,5.31,0,0,0,1,6.5,5.31,5.31,0,0,0,4.9,4.9,5.31,5.31,0,0,0,6.5,1,5.31,5.31,0,0,0,8.1,4.9,5.31,5.31,0,0,0,12,6.5,5.46,5.46,0,0,0,6.5,12Z\"/>\n",
              "  </svg>\n",
              "    </button>\n",
              "    <script>\n",
              "      (() => {\n",
              "      const buttonEl =\n",
              "        document.querySelector('#id_0c555caf-75bb-4895-b827-635268d31483 button.colab-df-generate');\n",
              "      buttonEl.style.display =\n",
              "        google.colab.kernel.accessAllowed ? 'block' : 'none';\n",
              "\n",
              "      buttonEl.onclick = () => {\n",
              "        google.colab.notebook.generateWithVariable('fila_aleatoria');\n",
              "      }\n",
              "      })();\n",
              "    </script>\n",
              "  </div>\n",
              "\n",
              "    </div>\n",
              "  </div>\n"
            ],
            "application/vnd.google.colaboratory.intrinsic+json": {
              "type": "dataframe",
              "variable_name": "fila_aleatoria",
              "summary": "{\n  \"name\": \"fila_aleatoria\",\n  \"rows\": 1,\n  \"fields\": [\n    {\n      \"column\": \"Diabetes_012\",\n      \"properties\": {\n        \"dtype\": \"number\",\n        \"std\": null,\n        \"min\": 1.0,\n        \"max\": 1.0,\n        \"num_unique_values\": 1,\n        \"samples\": [\n          1.0\n        ],\n        \"semantic_type\": \"\",\n        \"description\": \"\"\n      }\n    },\n    {\n      \"column\": \"HighBP\",\n      \"properties\": {\n        \"dtype\": \"number\",\n        \"std\": null,\n        \"min\": 1.0,\n        \"max\": 1.0,\n        \"num_unique_values\": 1,\n        \"samples\": [\n          1.0\n        ],\n        \"semantic_type\": \"\",\n        \"description\": \"\"\n      }\n    },\n    {\n      \"column\": \"HighChol\",\n      \"properties\": {\n        \"dtype\": \"number\",\n        \"std\": null,\n        \"min\": 1.0,\n        \"max\": 1.0,\n        \"num_unique_values\": 1,\n        \"samples\": [\n          1.0\n        ],\n        \"semantic_type\": \"\",\n        \"description\": \"\"\n      }\n    },\n    {\n      \"column\": \"BMI\",\n      \"properties\": {\n        \"dtype\": \"number\",\n        \"std\": null,\n        \"min\": 30.0,\n        \"max\": 30.0,\n        \"num_unique_values\": 1,\n        \"samples\": [\n          30.0\n        ],\n        \"semantic_type\": \"\",\n        \"description\": \"\"\n      }\n    },\n    {\n      \"column\": \"Smoker\",\n      \"properties\": {\n        \"dtype\": \"number\",\n        \"std\": null,\n        \"min\": 1.0,\n        \"max\": 1.0,\n        \"num_unique_values\": 1,\n        \"samples\": [\n          1.0\n        ],\n        \"semantic_type\": \"\",\n        \"description\": \"\"\n      }\n    },\n    {\n      \"column\": \"Stroke\",\n      \"properties\": {\n        \"dtype\": \"number\",\n        \"std\": null,\n        \"min\": 0.0,\n        \"max\": 0.0,\n        \"num_unique_values\": 1,\n        \"samples\": [\n          0.0\n        ],\n        \"semantic_type\": \"\",\n        \"description\": \"\"\n      }\n    },\n    {\n      \"column\": \"HeartDiseaseorAttack\",\n      \"properties\": {\n        \"dtype\": \"number\",\n        \"std\": null,\n        \"min\": 0.0,\n        \"max\": 0.0,\n        \"num_unique_values\": 1,\n        \"samples\": [\n          0.0\n        ],\n        \"semantic_type\": \"\",\n        \"description\": \"\"\n      }\n    },\n    {\n      \"column\": \"PhysActivity\",\n      \"properties\": {\n        \"dtype\": \"number\",\n        \"std\": null,\n        \"min\": 1.0,\n        \"max\": 1.0,\n        \"num_unique_values\": 1,\n        \"samples\": [\n          1.0\n        ],\n        \"semantic_type\": \"\",\n        \"description\": \"\"\n      }\n    },\n    {\n      \"column\": \"GenHlth\",\n      \"properties\": {\n        \"dtype\": \"number\",\n        \"std\": null,\n        \"min\": 5.0,\n        \"max\": 5.0,\n        \"num_unique_values\": 1,\n        \"samples\": [\n          5.0\n        ],\n        \"semantic_type\": \"\",\n        \"description\": \"\"\n      }\n    },\n    {\n      \"column\": \"MentHlth\",\n      \"properties\": {\n        \"dtype\": \"number\",\n        \"std\": null,\n        \"min\": 10.0,\n        \"max\": 10.0,\n        \"num_unique_values\": 1,\n        \"samples\": [\n          10.0\n        ],\n        \"semantic_type\": \"\",\n        \"description\": \"\"\n      }\n    },\n    {\n      \"column\": \"PhysHlth\",\n      \"properties\": {\n        \"dtype\": \"number\",\n        \"std\": null,\n        \"min\": 30.0,\n        \"max\": 30.0,\n        \"num_unique_values\": 1,\n        \"samples\": [\n          30.0\n        ],\n        \"semantic_type\": \"\",\n        \"description\": \"\"\n      }\n    },\n    {\n      \"column\": \"Age\",\n      \"properties\": {\n        \"dtype\": \"number\",\n        \"std\": null,\n        \"min\": 9.0,\n        \"max\": 9.0,\n        \"num_unique_values\": 1,\n        \"samples\": [\n          9.0\n        ],\n        \"semantic_type\": \"\",\n        \"description\": \"\"\n      }\n    }\n  ]\n}"
            }
          },
          "metadata": {},
          "execution_count": 72
        }
      ]
    },
    {
      "cell_type": "code",
      "source": [
        "X_test = fila_aleatoria.drop('Diabetes_012', axis=1)  # Si 'target' es tu columna objetivo, elimínala de las características\n",
        "h1 = scaler.transform(X_test.values.reshape(-1, 11))"
      ],
      "metadata": {
        "id": "klcjsWOjKgB8",
        "colab": {
          "base_uri": "https://localhost:8080/"
        },
        "outputId": "85926fd6-7c5f-47ea-9f56-89711219f91d"
      },
      "execution_count": null,
      "outputs": [
        {
          "output_type": "stream",
          "name": "stderr",
          "text": [
            "/usr/local/lib/python3.10/dist-packages/sklearn/base.py:439: UserWarning: X does not have valid feature names, but MinMaxScaler was fitted with feature names\n",
            "  warnings.warn(\n"
          ]
        }
      ]
    },
    {
      "cell_type": "code",
      "source": [
        "prediccion = svm_model.predict(h1)\n",
        "prediccion"
      ],
      "metadata": {
        "colab": {
          "base_uri": "https://localhost:8080/"
        },
        "id": "vvXPD9ShKh89",
        "outputId": "a4b87ef3-d89d-401d-c4ed-590a44e16da7"
      },
      "execution_count": null,
      "outputs": [
        {
          "output_type": "execute_result",
          "data": {
            "text/plain": [
              "array([1.])"
            ]
          },
          "metadata": {},
          "execution_count": 74
        }
      ]
    },
    {
      "cell_type": "markdown",
      "source": [
        "# **ANN:**"
      ],
      "metadata": {
        "id": "dx5ICAFdZQ0v"
      }
    },
    {
      "cell_type": "code",
      "source": [
        "x_ANN = df_ANN.drop(df_ANN.columns[0], axis=1)\n",
        "x_ANN = MinMaxScaler().fit(x_ANN).transform(x_ANN)\n",
        "y_ANN = df_ANN[df.columns[0]]"
      ],
      "metadata": {
        "id": "O9U-pI9hZLkO"
      },
      "execution_count": null,
      "outputs": []
    },
    {
      "cell_type": "code",
      "source": [
        "x_train_ANN, x_test_ANN, y_train_ANN, y_test_ANN = train_test_split(x_ANN, y_ANN, test_size=0.30, random_state=50)"
      ],
      "metadata": {
        "id": "5TeR_QHvZLnH"
      },
      "execution_count": null,
      "outputs": []
    },
    {
      "cell_type": "code",
      "source": [
        "y_train_ANN = pd.get_dummies(y_train_ANN)\n",
        "y_test_ANN = pd.get_dummies(y_test_ANN)"
      ],
      "metadata": {
        "id": "wxaeqku8ZLqH"
      },
      "execution_count": null,
      "outputs": []
    },
    {
      "cell_type": "code",
      "source": [
        "#CONSTRUCCIÓN DE LA RED\n",
        "ann = Sequential()\n",
        "ann.add(Dense(11, activation='relu'))\n",
        "ann.add(Dense(6, activation='relu'))\n",
        "ann.add(Dense(4, activation='relu'))\n",
        "ann.add(Dense(2, activation='sigmoid'))\n",
        "ann.compile(optimizer='adam', loss='categorical_crossentropy',metrics=['accuracy'])\n",
        "ann.fit(x=x_train_ANN, y=y_train_ANN ,validation_data=(x_test_ANN,y_test_ANN), batch_size=1000, epochs=60,verbose=1)"
      ],
      "metadata": {
        "colab": {
          "base_uri": "https://localhost:8080/"
        },
        "id": "CeF1hmx5ZLsn",
        "outputId": "46612873-57c5-4d98-8fb4-0ccc16c5428d"
      },
      "execution_count": null,
      "outputs": [
        {
          "output_type": "stream",
          "name": "stdout",
          "text": [
            "Epoch 1/60\n",
            "52/52 [==============================] - 2s 12ms/step - loss: 0.6920 - accuracy: 0.5649 - val_loss: 0.6741 - val_accuracy: 0.6178\n",
            "Epoch 2/60\n",
            "52/52 [==============================] - 0s 7ms/step - loss: 0.6612 - accuracy: 0.6472 - val_loss: 0.6524 - val_accuracy: 0.6445\n",
            "Epoch 3/60\n",
            "52/52 [==============================] - 0s 7ms/step - loss: 0.6404 - accuracy: 0.6762 - val_loss: 0.6352 - val_accuracy: 0.6769\n",
            "Epoch 4/60\n",
            "52/52 [==============================] - 0s 6ms/step - loss: 0.6254 - accuracy: 0.6919 - val_loss: 0.6232 - val_accuracy: 0.6883\n",
            "Epoch 5/60\n",
            "52/52 [==============================] - 0s 6ms/step - loss: 0.6145 - accuracy: 0.6986 - val_loss: 0.6138 - val_accuracy: 0.6943\n",
            "Epoch 6/60\n",
            "52/52 [==============================] - 0s 7ms/step - loss: 0.6053 - accuracy: 0.7019 - val_loss: 0.6051 - val_accuracy: 0.6974\n",
            "Epoch 7/60\n",
            "52/52 [==============================] - 0s 8ms/step - loss: 0.5965 - accuracy: 0.7063 - val_loss: 0.5965 - val_accuracy: 0.7024\n",
            "Epoch 8/60\n",
            "52/52 [==============================] - 0s 4ms/step - loss: 0.5875 - accuracy: 0.7126 - val_loss: 0.5878 - val_accuracy: 0.7068\n",
            "Epoch 9/60\n",
            "52/52 [==============================] - 0s 5ms/step - loss: 0.5786 - accuracy: 0.7172 - val_loss: 0.5799 - val_accuracy: 0.7127\n",
            "Epoch 10/60\n",
            "52/52 [==============================] - 0s 5ms/step - loss: 0.5704 - accuracy: 0.7227 - val_loss: 0.5724 - val_accuracy: 0.7188\n",
            "Epoch 11/60\n",
            "52/52 [==============================] - 0s 4ms/step - loss: 0.5630 - accuracy: 0.7272 - val_loss: 0.5675 - val_accuracy: 0.7203\n",
            "Epoch 12/60\n",
            "52/52 [==============================] - 0s 4ms/step - loss: 0.5573 - accuracy: 0.7298 - val_loss: 0.5612 - val_accuracy: 0.7237\n",
            "Epoch 13/60\n",
            "52/52 [==============================] - 0s 5ms/step - loss: 0.5530 - accuracy: 0.7318 - val_loss: 0.5573 - val_accuracy: 0.7252\n",
            "Epoch 14/60\n",
            "52/52 [==============================] - 0s 5ms/step - loss: 0.5496 - accuracy: 0.7327 - val_loss: 0.5552 - val_accuracy: 0.7249\n",
            "Epoch 15/60\n",
            "52/52 [==============================] - 0s 4ms/step - loss: 0.5467 - accuracy: 0.7336 - val_loss: 0.5528 - val_accuracy: 0.7258\n",
            "Epoch 16/60\n",
            "52/52 [==============================] - 0s 4ms/step - loss: 0.5454 - accuracy: 0.7336 - val_loss: 0.5509 - val_accuracy: 0.7258\n",
            "Epoch 17/60\n",
            "52/52 [==============================] - 0s 4ms/step - loss: 0.5428 - accuracy: 0.7352 - val_loss: 0.5492 - val_accuracy: 0.7259\n",
            "Epoch 18/60\n",
            "52/52 [==============================] - 0s 4ms/step - loss: 0.5415 - accuracy: 0.7354 - val_loss: 0.5482 - val_accuracy: 0.7263\n",
            "Epoch 19/60\n",
            "52/52 [==============================] - 0s 5ms/step - loss: 0.5400 - accuracy: 0.7352 - val_loss: 0.5476 - val_accuracy: 0.7261\n",
            "Epoch 20/60\n",
            "52/52 [==============================] - 0s 5ms/step - loss: 0.5390 - accuracy: 0.7350 - val_loss: 0.5459 - val_accuracy: 0.7270\n",
            "Epoch 21/60\n",
            "52/52 [==============================] - 0s 5ms/step - loss: 0.5380 - accuracy: 0.7346 - val_loss: 0.5457 - val_accuracy: 0.7260\n",
            "Epoch 22/60\n",
            "52/52 [==============================] - 0s 5ms/step - loss: 0.5374 - accuracy: 0.7347 - val_loss: 0.5444 - val_accuracy: 0.7268\n",
            "Epoch 23/60\n",
            "52/52 [==============================] - 0s 5ms/step - loss: 0.5363 - accuracy: 0.7357 - val_loss: 0.5435 - val_accuracy: 0.7267\n",
            "Epoch 24/60\n",
            "52/52 [==============================] - 0s 4ms/step - loss: 0.5361 - accuracy: 0.7349 - val_loss: 0.5430 - val_accuracy: 0.7262\n",
            "Epoch 25/60\n",
            "52/52 [==============================] - 0s 4ms/step - loss: 0.5350 - accuracy: 0.7356 - val_loss: 0.5425 - val_accuracy: 0.7264\n",
            "Epoch 26/60\n",
            "52/52 [==============================] - 0s 4ms/step - loss: 0.5344 - accuracy: 0.7361 - val_loss: 0.5428 - val_accuracy: 0.7261\n",
            "Epoch 27/60\n",
            "52/52 [==============================] - 0s 4ms/step - loss: 0.5340 - accuracy: 0.7361 - val_loss: 0.5416 - val_accuracy: 0.7268\n",
            "Epoch 28/60\n",
            "52/52 [==============================] - 0s 4ms/step - loss: 0.5335 - accuracy: 0.7365 - val_loss: 0.5413 - val_accuracy: 0.7272\n",
            "Epoch 29/60\n",
            "52/52 [==============================] - 0s 4ms/step - loss: 0.5332 - accuracy: 0.7358 - val_loss: 0.5412 - val_accuracy: 0.7264\n",
            "Epoch 30/60\n",
            "52/52 [==============================] - 0s 5ms/step - loss: 0.5326 - accuracy: 0.7364 - val_loss: 0.5403 - val_accuracy: 0.7261\n",
            "Epoch 31/60\n",
            "52/52 [==============================] - 0s 4ms/step - loss: 0.5322 - accuracy: 0.7359 - val_loss: 0.5409 - val_accuracy: 0.7273\n",
            "Epoch 32/60\n",
            "52/52 [==============================] - 0s 5ms/step - loss: 0.5319 - accuracy: 0.7367 - val_loss: 0.5398 - val_accuracy: 0.7259\n",
            "Epoch 33/60\n",
            "52/52 [==============================] - 0s 5ms/step - loss: 0.5316 - accuracy: 0.7361 - val_loss: 0.5397 - val_accuracy: 0.7264\n",
            "Epoch 34/60\n",
            "52/52 [==============================] - 0s 5ms/step - loss: 0.5318 - accuracy: 0.7361 - val_loss: 0.5397 - val_accuracy: 0.7263\n",
            "Epoch 35/60\n",
            "52/52 [==============================] - 0s 5ms/step - loss: 0.5310 - accuracy: 0.7368 - val_loss: 0.5390 - val_accuracy: 0.7266\n",
            "Epoch 36/60\n",
            "52/52 [==============================] - 0s 4ms/step - loss: 0.5307 - accuracy: 0.7361 - val_loss: 0.5387 - val_accuracy: 0.7259\n",
            "Epoch 37/60\n",
            "52/52 [==============================] - 0s 4ms/step - loss: 0.5303 - accuracy: 0.7367 - val_loss: 0.5389 - val_accuracy: 0.7263\n",
            "Epoch 38/60\n",
            "52/52 [==============================] - 0s 4ms/step - loss: 0.5301 - accuracy: 0.7366 - val_loss: 0.5386 - val_accuracy: 0.7266\n",
            "Epoch 39/60\n",
            "52/52 [==============================] - 0s 4ms/step - loss: 0.5301 - accuracy: 0.7362 - val_loss: 0.5387 - val_accuracy: 0.7272\n",
            "Epoch 40/60\n",
            "52/52 [==============================] - 0s 4ms/step - loss: 0.5296 - accuracy: 0.7366 - val_loss: 0.5380 - val_accuracy: 0.7262\n",
            "Epoch 41/60\n",
            "52/52 [==============================] - 0s 5ms/step - loss: 0.5296 - accuracy: 0.7363 - val_loss: 0.5381 - val_accuracy: 0.7268\n",
            "Epoch 42/60\n",
            "52/52 [==============================] - 0s 5ms/step - loss: 0.5293 - accuracy: 0.7368 - val_loss: 0.5385 - val_accuracy: 0.7268\n",
            "Epoch 43/60\n",
            "52/52 [==============================] - 0s 4ms/step - loss: 0.5293 - accuracy: 0.7373 - val_loss: 0.5386 - val_accuracy: 0.7271\n",
            "Epoch 44/60\n",
            "52/52 [==============================] - 0s 5ms/step - loss: 0.5290 - accuracy: 0.7370 - val_loss: 0.5377 - val_accuracy: 0.7267\n",
            "Epoch 45/60\n",
            "52/52 [==============================] - 0s 4ms/step - loss: 0.5287 - accuracy: 0.7372 - val_loss: 0.5372 - val_accuracy: 0.7268\n",
            "Epoch 46/60\n",
            "52/52 [==============================] - 0s 4ms/step - loss: 0.5286 - accuracy: 0.7367 - val_loss: 0.5397 - val_accuracy: 0.7260\n",
            "Epoch 47/60\n",
            "52/52 [==============================] - 0s 4ms/step - loss: 0.5287 - accuracy: 0.7364 - val_loss: 0.5371 - val_accuracy: 0.7267\n",
            "Epoch 48/60\n",
            "52/52 [==============================] - 0s 4ms/step - loss: 0.5282 - accuracy: 0.7371 - val_loss: 0.5369 - val_accuracy: 0.7269\n",
            "Epoch 49/60\n",
            "52/52 [==============================] - 0s 5ms/step - loss: 0.5282 - accuracy: 0.7368 - val_loss: 0.5368 - val_accuracy: 0.7270\n",
            "Epoch 50/60\n",
            "52/52 [==============================] - 0s 8ms/step - loss: 0.5279 - accuracy: 0.7371 - val_loss: 0.5391 - val_accuracy: 0.7259\n",
            "Epoch 51/60\n",
            "52/52 [==============================] - 0s 9ms/step - loss: 0.5281 - accuracy: 0.7373 - val_loss: 0.5365 - val_accuracy: 0.7267\n",
            "Epoch 52/60\n",
            "52/52 [==============================] - 0s 6ms/step - loss: 0.5277 - accuracy: 0.7370 - val_loss: 0.5366 - val_accuracy: 0.7271\n",
            "Epoch 53/60\n",
            "52/52 [==============================] - 0s 6ms/step - loss: 0.5278 - accuracy: 0.7362 - val_loss: 0.5365 - val_accuracy: 0.7271\n",
            "Epoch 54/60\n",
            "52/52 [==============================] - 0s 6ms/step - loss: 0.5277 - accuracy: 0.7372 - val_loss: 0.5379 - val_accuracy: 0.7261\n",
            "Epoch 55/60\n",
            "52/52 [==============================] - 0s 6ms/step - loss: 0.5273 - accuracy: 0.7372 - val_loss: 0.5361 - val_accuracy: 0.7270\n",
            "Epoch 56/60\n",
            "52/52 [==============================] - 0s 6ms/step - loss: 0.5275 - accuracy: 0.7368 - val_loss: 0.5369 - val_accuracy: 0.7267\n",
            "Epoch 57/60\n",
            "52/52 [==============================] - 0s 6ms/step - loss: 0.5270 - accuracy: 0.7379 - val_loss: 0.5360 - val_accuracy: 0.7269\n",
            "Epoch 58/60\n",
            "52/52 [==============================] - 0s 7ms/step - loss: 0.5268 - accuracy: 0.7375 - val_loss: 0.5369 - val_accuracy: 0.7269\n",
            "Epoch 59/60\n",
            "52/52 [==============================] - 0s 4ms/step - loss: 0.5268 - accuracy: 0.7378 - val_loss: 0.5363 - val_accuracy: 0.7270\n",
            "Epoch 60/60\n",
            "52/52 [==============================] - 0s 4ms/step - loss: 0.5269 - accuracy: 0.7377 - val_loss: 0.5373 - val_accuracy: 0.7268\n"
          ]
        },
        {
          "output_type": "execute_result",
          "data": {
            "text/plain": [
              "<keras.src.callbacks.History at 0x7be470b1ea70>"
            ]
          },
          "metadata": {},
          "execution_count": 79
        }
      ]
    },
    {
      "cell_type": "code",
      "source": [
        "loss = pd.DataFrame(ann.history.history)\n",
        "plt.figure(figsize=(15,15))\n",
        "sns.lineplot(data=loss, lw=3)\n",
        "sns.despine()"
      ],
      "metadata": {
        "colab": {
          "base_uri": "https://localhost:8080/",
          "height": 1000
        },
        "id": "fbtODDPdecxR",
        "outputId": "6bdea35d-1079-41ca-9afb-dcee0acf3cc7"
      },
      "execution_count": null,
      "outputs": [
        {
          "output_type": "display_data",
          "data": {
            "text/plain": [
              "<Figure size 1500x1500 with 1 Axes>"
            ],
            "image/png": "[encoded data removed]"
          },
          "metadata": {}
        }
      ]
    },
    {
      "cell_type": "code",
      "source": [
        "y_pred_train_ANN = ann.predict(x_train_ANN)\n",
        "y_pred_test_ANN = ann.predict(x_test_ANN)"
      ],
      "metadata": {
        "colab": {
          "base_uri": "https://localhost:8080/"
        },
        "id": "nJKYlArlec0B",
        "outputId": "41cd4422-b816-4821-efee-f9e9af7bcfeb"
      },
      "execution_count": null,
      "outputs": [
        {
          "output_type": "stream",
          "name": "stdout",
          "text": [
            "1600/1600 [==============================] - 4s 2ms/step\n",
            "686/686 [==============================] - 1s 1ms/step\n"
          ]
        }
      ]
    },
    {
      "cell_type": "code",
      "source": [
        "for i in range(len(y_pred_train_ANN)):\n",
        "  index = list(y_pred_train_ANN[i]).index(max(y_pred_train_ANN[i]))\n",
        "  for j in range(len(y_pred_train_ANN[i])):\n",
        "    y_pred_train_ANN[i][j] = 0\n",
        "  y_pred_train_ANN[i][index] = 1\n",
        "\n",
        "for i in range(len(y_pred_test_ANN)):\n",
        "  index = list(y_pred_test_ANN[i]).index(max(y_pred_test_ANN[i]))\n",
        "  for j in range(len(y_pred_test_ANN[i])):\n",
        "    y_pred_test_ANN[i][j] = 0\n",
        "  y_pred_test_ANN[i][index] = 1"
      ],
      "metadata": {
        "id": "ziOMP4dsec24"
      },
      "execution_count": null,
      "outputs": []
    },
    {
      "cell_type": "code",
      "source": [
        "y_pred_train_ANN"
      ],
      "metadata": {
        "colab": {
          "base_uri": "https://localhost:8080/"
        },
        "id": "Sz2JJMSsec5Z",
        "outputId": "8e8a286d-fd9f-42ff-c6f1-9a1e55a8c868"
      },
      "execution_count": null,
      "outputs": [
        {
          "output_type": "execute_result",
          "data": {
            "text/plain": [
              "array([[0., 1.],\n",
              "       [1., 0.],\n",
              "       [1., 0.],\n",
              "       ...,\n",
              "       [0., 1.],\n",
              "       [1., 0.],\n",
              "       [1., 0.]], dtype=float32)"
            ]
          },
          "metadata": {},
          "execution_count": 83
        }
      ]
    },
    {
      "cell_type": "code",
      "source": [
        "# Evaluacion ANN TRAIN\n",
        "accuracy_ann = accuracy_score(y_train_ANN, y_pred_train_ANN)\n",
        "print(\"Métricas para el modelo SVM:\")\n",
        "print(classification_report(y_train_ANN, y_pred_train_ANN))\n",
        "print(accuracy_ann)"
      ],
      "metadata": {
        "colab": {
          "base_uri": "https://localhost:8080/"
        },
        "id": "IiDfjc8mel1B",
        "outputId": "7fcd5878-cfe9-46fb-8928-a81ef6e5748f"
      },
      "execution_count": null,
      "outputs": [
        {
          "output_type": "stream",
          "name": "stdout",
          "text": [
            "Métricas para el modelo SVM:\n",
            "              precision    recall  f1-score   support\n",
            "\n",
            "           0       0.77      0.71      0.74     26526\n",
            "           1       0.71      0.77      0.74     24649\n",
            "\n",
            "   micro avg       0.74      0.74      0.74     51175\n",
            "   macro avg       0.74      0.74      0.74     51175\n",
            "weighted avg       0.74      0.74      0.74     51175\n",
            " samples avg       0.74      0.74      0.74     51175\n",
            "\n",
            "0.7378407425500733\n"
          ]
        }
      ]
    },
    {
      "cell_type": "code",
      "source": [
        "# Evaluacion ANN TEST\n",
        "accuracy_ann = accuracy_score(y_test_ANN, y_pred_test_ANN)\n",
        "print(\"Métricas para el modelo SVM:\")\n",
        "print(classification_report(y_test_ANN, y_pred_test_ANN))\n",
        "print(accuracy_ann)"
      ],
      "metadata": {
        "colab": {
          "base_uri": "https://localhost:8080/"
        },
        "id": "kQPFvhH-el6x",
        "outputId": "dcf00b79-e768-404a-a75d-580c0c6c30d9"
      },
      "execution_count": null,
      "outputs": [
        {
          "output_type": "stream",
          "name": "stdout",
          "text": [
            "Métricas para el modelo SVM:\n",
            "              precision    recall  f1-score   support\n",
            "\n",
            "           0       0.77      0.69      0.73     11485\n",
            "           1       0.69      0.77      0.73     10448\n",
            "\n",
            "   micro avg       0.73      0.73      0.73     21933\n",
            "   macro avg       0.73      0.73      0.73     21933\n",
            "weighted avg       0.73      0.73      0.73     21933\n",
            " samples avg       0.73      0.73      0.73     21933\n",
            "\n",
            "0.7267587653307801\n"
          ]
        }
      ]
    },
    {
      "cell_type": "code",
      "source": [
        "pred_ann = ann.predict(h1)\n",
        "pred_ann"
      ],
      "metadata": {
        "colab": {
          "base_uri": "https://localhost:8080/"
        },
        "id": "g-xc56nPMsoX",
        "outputId": "88b60485-5066-4c79-ae5c-0c555db1e7b1"
      },
      "execution_count": null,
      "outputs": [
        {
          "output_type": "stream",
          "name": "stdout",
          "text": [
            "1/1 [==============================] - 0s 27ms/step\n"
          ]
        },
        {
          "output_type": "execute_result",
          "data": {
            "text/plain": [
              "array([[0.5256695 , 0.86140406]], dtype=float32)"
            ]
          },
          "metadata": {},
          "execution_count": 86
        }
      ]
    },
    {
      "cell_type": "code",
      "source": [
        "#confusion_matrix(y_test_ANN, y_pred_test_ANN)"
      ],
      "metadata": {
        "id": "cTYfGUVoqF2P"
      },
      "execution_count": null,
      "outputs": []
    },
    {
      "cell_type": "markdown",
      "source": [
        "La primera descarga da resultados sobre el 70, entre un rango de la clase 0 de 0.22 a 0.26. Con 22 da los mejores resultados. Incluso se ve que con 55 o 60 epocas podria ser suficiente."
      ],
      "metadata": {
        "id": "NSJu9iKhBk6N"
      }
    },
    {
      "cell_type": "markdown",
      "source": [
        "La segunda descarga tiene un buen resultado con 0.25."
      ],
      "metadata": {
        "id": "U3xVeeB3J3kr"
      }
    },
    {
      "cell_type": "markdown",
      "source": [
        "La tercera descarga tiene los mejores resultados con 0.20"
      ],
      "metadata": {
        "id": "hNZFfIjQlmAH"
      }
    }
  ]
}